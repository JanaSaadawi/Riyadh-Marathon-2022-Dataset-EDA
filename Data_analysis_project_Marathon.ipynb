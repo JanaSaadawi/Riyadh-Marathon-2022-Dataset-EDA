{
  "nbformat": 4,
  "nbformat_minor": 0,
  "metadata": {
    "colab": {
      "provenance": []
    },
    "kernelspec": {
      "name": "python3",
      "display_name": "Python 3"
    },
    "language_info": {
      "name": "python"
    }
  },
  "cells": [
    {
      "cell_type": "markdown",
      "source": [
        "By Jana Saadawi and Zahrah Aati.\n",
        "\n"
      ],
      "metadata": {
        "id": "urdYlZYf69k7"
      }
    },
    {
      "cell_type": "code",
      "execution_count": 1,
      "metadata": {
        "id": "qXg-rweH5asG"
      },
      "outputs": [],
      "source": [
        "import pandas as pd\n",
        "import matplotlib.pyplot as plt\n",
        "import seaborn as sns"
      ]
    },
    {
      "cell_type": "markdown",
      "source": [
        "# Data Loading and Initial Exploration"
      ],
      "metadata": {
        "id": "XANKfUPnYqXQ"
      }
    },
    {
      "cell_type": "code",
      "source": [
        "df = pd.read_csv('/content/Riyadh Marathon Results.csv', index_col=0)\n",
        "df"
      ],
      "metadata": {
        "id": "yENhXauu6YOM",
        "colab": {
          "base_uri": "https://localhost:8080/",
          "height": 423
        },
        "outputId": "b6905f7f-e718-479c-adbc-f489210b3d8d"
      },
      "execution_count": 2,
      "outputs": [
        {
          "output_type": "execute_result",
          "data": {
            "text/plain": [
              "         Rank Gender Rank                                  Name  Gender  \\\n",
              "0   46 / 2285     1 / 761  6b848725-e44d-42d8-a278-ae67faa9cb80  Female   \n",
              "1   53 / 2285     2 / 761  6b848725-e44d-42d8-a278-ae67faa9cb80  Female   \n",
              "2   55 / 2285     3 / 761  6b848725-e44d-42d8-a278-ae67faa9cb80  Female   \n",
              "3   88 / 2285     4 / 761  6b848725-e44d-42d8-a278-ae67faa9cb80  Female   \n",
              "4   93 / 2285     5 / 761  6b848725-e44d-42d8-a278-ae67faa9cb80  Female   \n",
              "..        ...         ...                                   ...     ...   \n",
              "1       5 / 6       2 / 3  cde359f8-5d73-4426-8ba6-cf021cfddbfc  Female   \n",
              "2       6 / 6       3 / 3  cde359f8-5d73-4426-8ba6-cf021cfddbfc  Female   \n",
              "0       1 / 6       1 / 3  7aa1ce03-6d9c-4b53-93a9-d01b1bae7334    Male   \n",
              "1       2 / 6       2 / 3  7aa1ce03-6d9c-4b53-93a9-d01b1bae7334    Male   \n",
              "2       3 / 6       3 / 3  7aa1ce03-6d9c-4b53-93a9-d01b1bae7334    Male   \n",
              "\n",
              "               Category         Nationality      Gun Time     Chip Time  \\\n",
              "0              10KM RUN  [img:flags/SA.gif]  00:42:59.556  00:42:57.505   \n",
              "1              10KM RUN  [img:flags/CZ.gif]  00:43:28.175  00:43:24.774   \n",
              "2              10KM RUN  [img:flags/SA.gif]  00:44:00.251  00:43:56.317   \n",
              "3              10KM RUN  [img:flags/MA.gif]  00:48:28.115  00:48:22.908   \n",
              "4              10KM RUN  [img:flags/SA.gif]  00:58:37.753  00:48:27.714   \n",
              "..                  ...                 ...           ...           ...   \n",
              "1   HALF MARATHON ELITE  [img:flags/ET.gif]  01:12:12.475  01:12:08.442   \n",
              "2   HALF MARATHON ELITE  [img:flags/UA.gif]  01:18:23.645  01:18:20.056   \n",
              "0   HALF MARATHON ELITE  [img:flags/KE.gif]  01:04:04.250  01:04:00.497   \n",
              "1   HALF MARATHON ELITE  [img:flags/KE.gif]  01:04:06.571  01:04:03.202   \n",
              "2   HALF MARATHON ELITE  [img:flags/KE.gif]  01:04:09.986  01:04:06.290   \n",
              "\n",
              "         Speed         Pace Distance  \n",
              "0   13.9 Km/Hr  4:17 min/km    10 KM  \n",
              "1   13.8 Km/Hr  4:20 min/km    10 KM  \n",
              "2   13.6 Km/Hr  4:23 min/km    10 KM  \n",
              "3   12.4 Km/Hr  4:50 min/km    10 KM  \n",
              "4   12.3 Km/Hr  4:50 min/km    10 KM  \n",
              "..         ...          ...      ...  \n",
              "1   17.5 Km/Hr  3:25 min/km  21.1 KM  \n",
              "2   16.1 Km/Hr  3:42 min/km  21.1 KM  \n",
              "0   19.7 Km/Hr  3:02 min/km  21.1 KM  \n",
              "1   19.7 Km/Hr  3:02 min/km  21.1 KM  \n",
              "2   19.7 Km/Hr  3:02 min/km  21.1 KM  \n",
              "\n",
              "[6397 rows x 11 columns]"
            ],
            "text/html": [
              "\n",
              "  <div id=\"df-3d176384-cda7-4830-9771-6e1d088ef7d2\" class=\"colab-df-container\">\n",
              "    <div>\n",
              "<style scoped>\n",
              "    .dataframe tbody tr th:only-of-type {\n",
              "        vertical-align: middle;\n",
              "    }\n",
              "\n",
              "    .dataframe tbody tr th {\n",
              "        vertical-align: top;\n",
              "    }\n",
              "\n",
              "    .dataframe thead th {\n",
              "        text-align: right;\n",
              "    }\n",
              "</style>\n",
              "<table border=\"1\" class=\"dataframe\">\n",
              "  <thead>\n",
              "    <tr style=\"text-align: right;\">\n",
              "      <th></th>\n",
              "      <th>Rank</th>\n",
              "      <th>Gender Rank</th>\n",
              "      <th>Name</th>\n",
              "      <th>Gender</th>\n",
              "      <th>Category</th>\n",
              "      <th>Nationality</th>\n",
              "      <th>Gun Time</th>\n",
              "      <th>Chip Time</th>\n",
              "      <th>Speed</th>\n",
              "      <th>Pace</th>\n",
              "      <th>Distance</th>\n",
              "    </tr>\n",
              "  </thead>\n",
              "  <tbody>\n",
              "    <tr>\n",
              "      <th>0</th>\n",
              "      <td>46 / 2285</td>\n",
              "      <td>1 / 761</td>\n",
              "      <td>6b848725-e44d-42d8-a278-ae67faa9cb80</td>\n",
              "      <td>Female</td>\n",
              "      <td>10KM RUN</td>\n",
              "      <td>[img:flags/SA.gif]</td>\n",
              "      <td>00:42:59.556</td>\n",
              "      <td>00:42:57.505</td>\n",
              "      <td>13.9 Km/Hr</td>\n",
              "      <td>4:17 min/km</td>\n",
              "      <td>10 KM</td>\n",
              "    </tr>\n",
              "    <tr>\n",
              "      <th>1</th>\n",
              "      <td>53 / 2285</td>\n",
              "      <td>2 / 761</td>\n",
              "      <td>6b848725-e44d-42d8-a278-ae67faa9cb80</td>\n",
              "      <td>Female</td>\n",
              "      <td>10KM RUN</td>\n",
              "      <td>[img:flags/CZ.gif]</td>\n",
              "      <td>00:43:28.175</td>\n",
              "      <td>00:43:24.774</td>\n",
              "      <td>13.8 Km/Hr</td>\n",
              "      <td>4:20 min/km</td>\n",
              "      <td>10 KM</td>\n",
              "    </tr>\n",
              "    <tr>\n",
              "      <th>2</th>\n",
              "      <td>55 / 2285</td>\n",
              "      <td>3 / 761</td>\n",
              "      <td>6b848725-e44d-42d8-a278-ae67faa9cb80</td>\n",
              "      <td>Female</td>\n",
              "      <td>10KM RUN</td>\n",
              "      <td>[img:flags/SA.gif]</td>\n",
              "      <td>00:44:00.251</td>\n",
              "      <td>00:43:56.317</td>\n",
              "      <td>13.6 Km/Hr</td>\n",
              "      <td>4:23 min/km</td>\n",
              "      <td>10 KM</td>\n",
              "    </tr>\n",
              "    <tr>\n",
              "      <th>3</th>\n",
              "      <td>88 / 2285</td>\n",
              "      <td>4 / 761</td>\n",
              "      <td>6b848725-e44d-42d8-a278-ae67faa9cb80</td>\n",
              "      <td>Female</td>\n",
              "      <td>10KM RUN</td>\n",
              "      <td>[img:flags/MA.gif]</td>\n",
              "      <td>00:48:28.115</td>\n",
              "      <td>00:48:22.908</td>\n",
              "      <td>12.4 Km/Hr</td>\n",
              "      <td>4:50 min/km</td>\n",
              "      <td>10 KM</td>\n",
              "    </tr>\n",
              "    <tr>\n",
              "      <th>4</th>\n",
              "      <td>93 / 2285</td>\n",
              "      <td>5 / 761</td>\n",
              "      <td>6b848725-e44d-42d8-a278-ae67faa9cb80</td>\n",
              "      <td>Female</td>\n",
              "      <td>10KM RUN</td>\n",
              "      <td>[img:flags/SA.gif]</td>\n",
              "      <td>00:58:37.753</td>\n",
              "      <td>00:48:27.714</td>\n",
              "      <td>12.3 Km/Hr</td>\n",
              "      <td>4:50 min/km</td>\n",
              "      <td>10 KM</td>\n",
              "    </tr>\n",
              "    <tr>\n",
              "      <th>...</th>\n",
              "      <td>...</td>\n",
              "      <td>...</td>\n",
              "      <td>...</td>\n",
              "      <td>...</td>\n",
              "      <td>...</td>\n",
              "      <td>...</td>\n",
              "      <td>...</td>\n",
              "      <td>...</td>\n",
              "      <td>...</td>\n",
              "      <td>...</td>\n",
              "      <td>...</td>\n",
              "    </tr>\n",
              "    <tr>\n",
              "      <th>1</th>\n",
              "      <td>5 / 6</td>\n",
              "      <td>2 / 3</td>\n",
              "      <td>cde359f8-5d73-4426-8ba6-cf021cfddbfc</td>\n",
              "      <td>Female</td>\n",
              "      <td>HALF MARATHON ELITE</td>\n",
              "      <td>[img:flags/ET.gif]</td>\n",
              "      <td>01:12:12.475</td>\n",
              "      <td>01:12:08.442</td>\n",
              "      <td>17.5 Km/Hr</td>\n",
              "      <td>3:25 min/km</td>\n",
              "      <td>21.1 KM</td>\n",
              "    </tr>\n",
              "    <tr>\n",
              "      <th>2</th>\n",
              "      <td>6 / 6</td>\n",
              "      <td>3 / 3</td>\n",
              "      <td>cde359f8-5d73-4426-8ba6-cf021cfddbfc</td>\n",
              "      <td>Female</td>\n",
              "      <td>HALF MARATHON ELITE</td>\n",
              "      <td>[img:flags/UA.gif]</td>\n",
              "      <td>01:18:23.645</td>\n",
              "      <td>01:18:20.056</td>\n",
              "      <td>16.1 Km/Hr</td>\n",
              "      <td>3:42 min/km</td>\n",
              "      <td>21.1 KM</td>\n",
              "    </tr>\n",
              "    <tr>\n",
              "      <th>0</th>\n",
              "      <td>1 / 6</td>\n",
              "      <td>1 / 3</td>\n",
              "      <td>7aa1ce03-6d9c-4b53-93a9-d01b1bae7334</td>\n",
              "      <td>Male</td>\n",
              "      <td>HALF MARATHON ELITE</td>\n",
              "      <td>[img:flags/KE.gif]</td>\n",
              "      <td>01:04:04.250</td>\n",
              "      <td>01:04:00.497</td>\n",
              "      <td>19.7 Km/Hr</td>\n",
              "      <td>3:02 min/km</td>\n",
              "      <td>21.1 KM</td>\n",
              "    </tr>\n",
              "    <tr>\n",
              "      <th>1</th>\n",
              "      <td>2 / 6</td>\n",
              "      <td>2 / 3</td>\n",
              "      <td>7aa1ce03-6d9c-4b53-93a9-d01b1bae7334</td>\n",
              "      <td>Male</td>\n",
              "      <td>HALF MARATHON ELITE</td>\n",
              "      <td>[img:flags/KE.gif]</td>\n",
              "      <td>01:04:06.571</td>\n",
              "      <td>01:04:03.202</td>\n",
              "      <td>19.7 Km/Hr</td>\n",
              "      <td>3:02 min/km</td>\n",
              "      <td>21.1 KM</td>\n",
              "    </tr>\n",
              "    <tr>\n",
              "      <th>2</th>\n",
              "      <td>3 / 6</td>\n",
              "      <td>3 / 3</td>\n",
              "      <td>7aa1ce03-6d9c-4b53-93a9-d01b1bae7334</td>\n",
              "      <td>Male</td>\n",
              "      <td>HALF MARATHON ELITE</td>\n",
              "      <td>[img:flags/KE.gif]</td>\n",
              "      <td>01:04:09.986</td>\n",
              "      <td>01:04:06.290</td>\n",
              "      <td>19.7 Km/Hr</td>\n",
              "      <td>3:02 min/km</td>\n",
              "      <td>21.1 KM</td>\n",
              "    </tr>\n",
              "  </tbody>\n",
              "</table>\n",
              "<p>6397 rows × 11 columns</p>\n",
              "</div>\n",
              "    <div class=\"colab-df-buttons\">\n",
              "\n",
              "  <div class=\"colab-df-container\">\n",
              "    <button class=\"colab-df-convert\" onclick=\"convertToInteractive('df-3d176384-cda7-4830-9771-6e1d088ef7d2')\"\n",
              "            title=\"Convert this dataframe to an interactive table.\"\n",
              "            style=\"display:none;\">\n",
              "\n",
              "  <svg xmlns=\"http://www.w3.org/2000/svg\" height=\"24px\" viewBox=\"0 -960 960 960\">\n",
              "    <path d=\"M120-120v-720h720v720H120Zm60-500h600v-160H180v160Zm220 220h160v-160H400v160Zm0 220h160v-160H400v160ZM180-400h160v-160H180v160Zm440 0h160v-160H620v160ZM180-180h160v-160H180v160Zm440 0h160v-160H620v160Z\"/>\n",
              "  </svg>\n",
              "    </button>\n",
              "\n",
              "  <style>\n",
              "    .colab-df-container {\n",
              "      display:flex;\n",
              "      gap: 12px;\n",
              "    }\n",
              "\n",
              "    .colab-df-convert {\n",
              "      background-color: #E8F0FE;\n",
              "      border: none;\n",
              "      border-radius: 50%;\n",
              "      cursor: pointer;\n",
              "      display: none;\n",
              "      fill: #1967D2;\n",
              "      height: 32px;\n",
              "      padding: 0 0 0 0;\n",
              "      width: 32px;\n",
              "    }\n",
              "\n",
              "    .colab-df-convert:hover {\n",
              "      background-color: #E2EBFA;\n",
              "      box-shadow: 0px 1px 2px rgba(60, 64, 67, 0.3), 0px 1px 3px 1px rgba(60, 64, 67, 0.15);\n",
              "      fill: #174EA6;\n",
              "    }\n",
              "\n",
              "    .colab-df-buttons div {\n",
              "      margin-bottom: 4px;\n",
              "    }\n",
              "\n",
              "    [theme=dark] .colab-df-convert {\n",
              "      background-color: #3B4455;\n",
              "      fill: #D2E3FC;\n",
              "    }\n",
              "\n",
              "    [theme=dark] .colab-df-convert:hover {\n",
              "      background-color: #434B5C;\n",
              "      box-shadow: 0px 1px 3px 1px rgba(0, 0, 0, 0.15);\n",
              "      filter: drop-shadow(0px 1px 2px rgba(0, 0, 0, 0.3));\n",
              "      fill: #FFFFFF;\n",
              "    }\n",
              "  </style>\n",
              "\n",
              "    <script>\n",
              "      const buttonEl =\n",
              "        document.querySelector('#df-3d176384-cda7-4830-9771-6e1d088ef7d2 button.colab-df-convert');\n",
              "      buttonEl.style.display =\n",
              "        google.colab.kernel.accessAllowed ? 'block' : 'none';\n",
              "\n",
              "      async function convertToInteractive(key) {\n",
              "        const element = document.querySelector('#df-3d176384-cda7-4830-9771-6e1d088ef7d2');\n",
              "        const dataTable =\n",
              "          await google.colab.kernel.invokeFunction('convertToInteractive',\n",
              "                                                    [key], {});\n",
              "        if (!dataTable) return;\n",
              "\n",
              "        const docLinkHtml = 'Like what you see? Visit the ' +\n",
              "          '<a target=\"_blank\" href=https://colab.research.google.com/notebooks/data_table.ipynb>data table notebook</a>'\n",
              "          + ' to learn more about interactive tables.';\n",
              "        element.innerHTML = '';\n",
              "        dataTable['output_type'] = 'display_data';\n",
              "        await google.colab.output.renderOutput(dataTable, element);\n",
              "        const docLink = document.createElement('div');\n",
              "        docLink.innerHTML = docLinkHtml;\n",
              "        element.appendChild(docLink);\n",
              "      }\n",
              "    </script>\n",
              "  </div>\n",
              "\n",
              "\n",
              "<div id=\"df-da2f4e99-8504-441c-bb60-ceee6a29429a\">\n",
              "  <button class=\"colab-df-quickchart\" onclick=\"quickchart('df-da2f4e99-8504-441c-bb60-ceee6a29429a')\"\n",
              "            title=\"Suggest charts\"\n",
              "            style=\"display:none;\">\n",
              "\n",
              "<svg xmlns=\"http://www.w3.org/2000/svg\" height=\"24px\"viewBox=\"0 0 24 24\"\n",
              "     width=\"24px\">\n",
              "    <g>\n",
              "        <path d=\"M19 3H5c-1.1 0-2 .9-2 2v14c0 1.1.9 2 2 2h14c1.1 0 2-.9 2-2V5c0-1.1-.9-2-2-2zM9 17H7v-7h2v7zm4 0h-2V7h2v10zm4 0h-2v-4h2v4z\"/>\n",
              "    </g>\n",
              "</svg>\n",
              "  </button>\n",
              "\n",
              "<style>\n",
              "  .colab-df-quickchart {\n",
              "      --bg-color: #E8F0FE;\n",
              "      --fill-color: #1967D2;\n",
              "      --hover-bg-color: #E2EBFA;\n",
              "      --hover-fill-color: #174EA6;\n",
              "      --disabled-fill-color: #AAA;\n",
              "      --disabled-bg-color: #DDD;\n",
              "  }\n",
              "\n",
              "  [theme=dark] .colab-df-quickchart {\n",
              "      --bg-color: #3B4455;\n",
              "      --fill-color: #D2E3FC;\n",
              "      --hover-bg-color: #434B5C;\n",
              "      --hover-fill-color: #FFFFFF;\n",
              "      --disabled-bg-color: #3B4455;\n",
              "      --disabled-fill-color: #666;\n",
              "  }\n",
              "\n",
              "  .colab-df-quickchart {\n",
              "    background-color: var(--bg-color);\n",
              "    border: none;\n",
              "    border-radius: 50%;\n",
              "    cursor: pointer;\n",
              "    display: none;\n",
              "    fill: var(--fill-color);\n",
              "    height: 32px;\n",
              "    padding: 0;\n",
              "    width: 32px;\n",
              "  }\n",
              "\n",
              "  .colab-df-quickchart:hover {\n",
              "    background-color: var(--hover-bg-color);\n",
              "    box-shadow: 0 1px 2px rgba(60, 64, 67, 0.3), 0 1px 3px 1px rgba(60, 64, 67, 0.15);\n",
              "    fill: var(--button-hover-fill-color);\n",
              "  }\n",
              "\n",
              "  .colab-df-quickchart-complete:disabled,\n",
              "  .colab-df-quickchart-complete:disabled:hover {\n",
              "    background-color: var(--disabled-bg-color);\n",
              "    fill: var(--disabled-fill-color);\n",
              "    box-shadow: none;\n",
              "  }\n",
              "\n",
              "  .colab-df-spinner {\n",
              "    border: 2px solid var(--fill-color);\n",
              "    border-color: transparent;\n",
              "    border-bottom-color: var(--fill-color);\n",
              "    animation:\n",
              "      spin 1s steps(1) infinite;\n",
              "  }\n",
              "\n",
              "  @keyframes spin {\n",
              "    0% {\n",
              "      border-color: transparent;\n",
              "      border-bottom-color: var(--fill-color);\n",
              "      border-left-color: var(--fill-color);\n",
              "    }\n",
              "    20% {\n",
              "      border-color: transparent;\n",
              "      border-left-color: var(--fill-color);\n",
              "      border-top-color: var(--fill-color);\n",
              "    }\n",
              "    30% {\n",
              "      border-color: transparent;\n",
              "      border-left-color: var(--fill-color);\n",
              "      border-top-color: var(--fill-color);\n",
              "      border-right-color: var(--fill-color);\n",
              "    }\n",
              "    40% {\n",
              "      border-color: transparent;\n",
              "      border-right-color: var(--fill-color);\n",
              "      border-top-color: var(--fill-color);\n",
              "    }\n",
              "    60% {\n",
              "      border-color: transparent;\n",
              "      border-right-color: var(--fill-color);\n",
              "    }\n",
              "    80% {\n",
              "      border-color: transparent;\n",
              "      border-right-color: var(--fill-color);\n",
              "      border-bottom-color: var(--fill-color);\n",
              "    }\n",
              "    90% {\n",
              "      border-color: transparent;\n",
              "      border-bottom-color: var(--fill-color);\n",
              "    }\n",
              "  }\n",
              "</style>\n",
              "\n",
              "  <script>\n",
              "    async function quickchart(key) {\n",
              "      const quickchartButtonEl =\n",
              "        document.querySelector('#' + key + ' button');\n",
              "      quickchartButtonEl.disabled = true;  // To prevent multiple clicks.\n",
              "      quickchartButtonEl.classList.add('colab-df-spinner');\n",
              "      try {\n",
              "        const charts = await google.colab.kernel.invokeFunction(\n",
              "            'suggestCharts', [key], {});\n",
              "      } catch (error) {\n",
              "        console.error('Error during call to suggestCharts:', error);\n",
              "      }\n",
              "      quickchartButtonEl.classList.remove('colab-df-spinner');\n",
              "      quickchartButtonEl.classList.add('colab-df-quickchart-complete');\n",
              "    }\n",
              "    (() => {\n",
              "      let quickchartButtonEl =\n",
              "        document.querySelector('#df-da2f4e99-8504-441c-bb60-ceee6a29429a button');\n",
              "      quickchartButtonEl.style.display =\n",
              "        google.colab.kernel.accessAllowed ? 'block' : 'none';\n",
              "    })();\n",
              "  </script>\n",
              "</div>\n",
              "\n",
              "  <div id=\"id_c618fdcf-d5b4-43af-aea1-4bd96b57abe9\">\n",
              "    <style>\n",
              "      .colab-df-generate {\n",
              "        background-color: #E8F0FE;\n",
              "        border: none;\n",
              "        border-radius: 50%;\n",
              "        cursor: pointer;\n",
              "        display: none;\n",
              "        fill: #1967D2;\n",
              "        height: 32px;\n",
              "        padding: 0 0 0 0;\n",
              "        width: 32px;\n",
              "      }\n",
              "\n",
              "      .colab-df-generate:hover {\n",
              "        background-color: #E2EBFA;\n",
              "        box-shadow: 0px 1px 2px rgba(60, 64, 67, 0.3), 0px 1px 3px 1px rgba(60, 64, 67, 0.15);\n",
              "        fill: #174EA6;\n",
              "      }\n",
              "\n",
              "      [theme=dark] .colab-df-generate {\n",
              "        background-color: #3B4455;\n",
              "        fill: #D2E3FC;\n",
              "      }\n",
              "\n",
              "      [theme=dark] .colab-df-generate:hover {\n",
              "        background-color: #434B5C;\n",
              "        box-shadow: 0px 1px 3px 1px rgba(0, 0, 0, 0.15);\n",
              "        filter: drop-shadow(0px 1px 2px rgba(0, 0, 0, 0.3));\n",
              "        fill: #FFFFFF;\n",
              "      }\n",
              "    </style>\n",
              "    <button class=\"colab-df-generate\" onclick=\"generateWithVariable('df')\"\n",
              "            title=\"Generate code using this dataframe.\"\n",
              "            style=\"display:none;\">\n",
              "\n",
              "  <svg xmlns=\"http://www.w3.org/2000/svg\" height=\"24px\"viewBox=\"0 0 24 24\"\n",
              "       width=\"24px\">\n",
              "    <path d=\"M7,19H8.4L18.45,9,17,7.55,7,17.6ZM5,21V16.75L18.45,3.32a2,2,0,0,1,2.83,0l1.4,1.43a1.91,1.91,0,0,1,.58,1.4,1.91,1.91,0,0,1-.58,1.4L9.25,21ZM18.45,9,17,7.55Zm-12,3A5.31,5.31,0,0,0,4.9,8.1,5.31,5.31,0,0,0,1,6.5,5.31,5.31,0,0,0,4.9,4.9,5.31,5.31,0,0,0,6.5,1,5.31,5.31,0,0,0,8.1,4.9,5.31,5.31,0,0,0,12,6.5,5.46,5.46,0,0,0,6.5,12Z\"/>\n",
              "  </svg>\n",
              "    </button>\n",
              "    <script>\n",
              "      (() => {\n",
              "      const buttonEl =\n",
              "        document.querySelector('#id_c618fdcf-d5b4-43af-aea1-4bd96b57abe9 button.colab-df-generate');\n",
              "      buttonEl.style.display =\n",
              "        google.colab.kernel.accessAllowed ? 'block' : 'none';\n",
              "\n",
              "      buttonEl.onclick = () => {\n",
              "        google.colab.notebook.generateWithVariable('df');\n",
              "      }\n",
              "      })();\n",
              "    </script>\n",
              "  </div>\n",
              "\n",
              "    </div>\n",
              "  </div>\n"
            ],
            "application/vnd.google.colaboratory.intrinsic+json": {
              "type": "dataframe",
              "variable_name": "df",
              "summary": "{\n  \"name\": \"df\",\n  \"rows\": 6397,\n  \"fields\": [\n    {\n      \"column\": \"Rank\",\n      \"properties\": {\n        \"dtype\": \"string\",\n        \"num_unique_values\": 6031,\n        \"samples\": [\n          \"1430 / 2285\",\n          \"1010 / 2220\",\n          \"648 / 2285\"\n        ],\n        \"semantic_type\": \"\",\n        \"description\": \"\"\n      }\n    },\n    {\n      \"column\": \"Gender Rank\",\n      \"properties\": {\n        \"dtype\": \"string\",\n        \"num_unique_values\": 6028,\n        \"samples\": [\n          \"623 / 1182\",\n          \"358 / 1524\",\n          \"526 / 1182\"\n        ],\n        \"semantic_type\": \"\",\n        \"description\": \"\"\n      }\n    },\n    {\n      \"column\": \"Name\",\n      \"properties\": {\n        \"dtype\": \"category\",\n        \"num_unique_values\": 12,\n        \"samples\": [\n          \"cde359f8-5d73-4426-8ba6-cf021cfddbfc\",\n          \"ee5b6325-c4f3-4122-8247-1818e59912c2\",\n          \"6b848725-e44d-42d8-a278-ae67faa9cb80\"\n        ],\n        \"semantic_type\": \"\",\n        \"description\": \"\"\n      }\n    },\n    {\n      \"column\": \"Gender\",\n      \"properties\": {\n        \"dtype\": \"category\",\n        \"num_unique_values\": 2,\n        \"samples\": [\n          \"Male\",\n          \"Female\"\n        ],\n        \"semantic_type\": \"\",\n        \"description\": \"\"\n      }\n    },\n    {\n      \"column\": \"Category\",\n      \"properties\": {\n        \"dtype\": \"category\",\n        \"num_unique_values\": 6,\n        \"samples\": [\n          \"10KM RUN\",\n          \"4KM FUN RUN\"\n        ],\n        \"semantic_type\": \"\",\n        \"description\": \"\"\n      }\n    },\n    {\n      \"column\": \"Nationality\",\n      \"properties\": {\n        \"dtype\": \"category\",\n        \"num_unique_values\": 85,\n        \"samples\": [\n          \"[img:flags/GM.gif]\",\n          \"[img:flags/SA.gif]\"\n        ],\n        \"semantic_type\": \"\",\n        \"description\": \"\"\n      }\n    },\n    {\n      \"column\": \"Gun Time\",\n      \"properties\": {\n        \"dtype\": \"string\",\n        \"num_unique_values\": 6216,\n        \"samples\": [\n          \"00:38:58.071\",\n          \"01:25:14.919\"\n        ],\n        \"semantic_type\": \"\",\n        \"description\": \"\"\n      }\n    },\n    {\n      \"column\": \"Chip Time\",\n      \"properties\": {\n        \"dtype\": \"date\",\n        \"min\": \"2024-04-01 00:12:52.781000\",\n        \"max\": \"2024-04-01 06:14:05.366000\",\n        \"num_unique_values\": 6223,\n        \"samples\": [\n          \"01:11:06.122\",\n          \"01:35:33.671\"\n        ],\n        \"semantic_type\": \"\",\n        \"description\": \"\"\n      }\n    },\n    {\n      \"column\": \"Speed\",\n      \"properties\": {\n        \"dtype\": \"category\",\n        \"num_unique_values\": 182,\n        \"samples\": [\n          \"10.0 Km/Hr\",\n          \"7.7 Km/Hr\"\n        ],\n        \"semantic_type\": \"\",\n        \"description\": \"\"\n      }\n    },\n    {\n      \"column\": \"Pace\",\n      \"properties\": {\n        \"dtype\": \"category\",\n        \"num_unique_values\": 817,\n        \"samples\": [\n          \"9:16 min/km\",\n          \"6:19 min/km\"\n        ],\n        \"semantic_type\": \"\",\n        \"description\": \"\"\n      }\n    },\n    {\n      \"column\": \"Distance\",\n      \"properties\": {\n        \"dtype\": \"category\",\n        \"num_unique_values\": 12,\n        \"samples\": [\n          \"40 KM\",\n          \"30 KM\"\n        ],\n        \"semantic_type\": \"\",\n        \"description\": \"\"\n      }\n    }\n  ]\n}"
            }
          },
          "metadata": {},
          "execution_count": 2
        }
      ]
    },
    {
      "cell_type": "markdown",
      "source": [
        "## •\tExamine the first few rows of the dataset to understand its contents"
      ],
      "metadata": {
        "id": "Dl-FRUSA41WF"
      }
    },
    {
      "cell_type": "code",
      "source": [
        "df.head(6)"
      ],
      "metadata": {
        "id": "qx--ckXj9TWx",
        "colab": {
          "base_uri": "https://localhost:8080/",
          "height": 237
        },
        "outputId": "0a58d089-a274-4aad-cff1-8f7ec3f05014"
      },
      "execution_count": 3,
      "outputs": [
        {
          "output_type": "execute_result",
          "data": {
            "text/plain": [
              "         Rank Gender Rank                                  Name  Gender  \\\n",
              "0   46 / 2285     1 / 761  6b848725-e44d-42d8-a278-ae67faa9cb80  Female   \n",
              "1   53 / 2285     2 / 761  6b848725-e44d-42d8-a278-ae67faa9cb80  Female   \n",
              "2   55 / 2285     3 / 761  6b848725-e44d-42d8-a278-ae67faa9cb80  Female   \n",
              "3   88 / 2285     4 / 761  6b848725-e44d-42d8-a278-ae67faa9cb80  Female   \n",
              "4   93 / 2285     5 / 761  6b848725-e44d-42d8-a278-ae67faa9cb80  Female   \n",
              "5  116 / 2285     6 / 761  6b848725-e44d-42d8-a278-ae67faa9cb80  Female   \n",
              "\n",
              "   Category         Nationality      Gun Time     Chip Time       Speed  \\\n",
              "0  10KM RUN  [img:flags/SA.gif]  00:42:59.556  00:42:57.505  13.9 Km/Hr   \n",
              "1  10KM RUN  [img:flags/CZ.gif]  00:43:28.175  00:43:24.774  13.8 Km/Hr   \n",
              "2  10KM RUN  [img:flags/SA.gif]  00:44:00.251  00:43:56.317  13.6 Km/Hr   \n",
              "3  10KM RUN  [img:flags/MA.gif]  00:48:28.115  00:48:22.908  12.4 Km/Hr   \n",
              "4  10KM RUN  [img:flags/SA.gif]  00:58:37.753  00:48:27.714  12.3 Km/Hr   \n",
              "5  10KM RUN  [img:flags/GB.gif]  00:58:35.135  00:49:58.260  12.0 Km/Hr   \n",
              "\n",
              "          Pace Distance  \n",
              "0  4:17 min/km    10 KM  \n",
              "1  4:20 min/km    10 KM  \n",
              "2  4:23 min/km    10 KM  \n",
              "3  4:50 min/km    10 KM  \n",
              "4  4:50 min/km    10 KM  \n",
              "5  4:59 min/km    10 KM  "
            ],
            "text/html": [
              "\n",
              "  <div id=\"df-f2513b37-5ed6-4173-b7e0-a96493aa3597\" class=\"colab-df-container\">\n",
              "    <div>\n",
              "<style scoped>\n",
              "    .dataframe tbody tr th:only-of-type {\n",
              "        vertical-align: middle;\n",
              "    }\n",
              "\n",
              "    .dataframe tbody tr th {\n",
              "        vertical-align: top;\n",
              "    }\n",
              "\n",
              "    .dataframe thead th {\n",
              "        text-align: right;\n",
              "    }\n",
              "</style>\n",
              "<table border=\"1\" class=\"dataframe\">\n",
              "  <thead>\n",
              "    <tr style=\"text-align: right;\">\n",
              "      <th></th>\n",
              "      <th>Rank</th>\n",
              "      <th>Gender Rank</th>\n",
              "      <th>Name</th>\n",
              "      <th>Gender</th>\n",
              "      <th>Category</th>\n",
              "      <th>Nationality</th>\n",
              "      <th>Gun Time</th>\n",
              "      <th>Chip Time</th>\n",
              "      <th>Speed</th>\n",
              "      <th>Pace</th>\n",
              "      <th>Distance</th>\n",
              "    </tr>\n",
              "  </thead>\n",
              "  <tbody>\n",
              "    <tr>\n",
              "      <th>0</th>\n",
              "      <td>46 / 2285</td>\n",
              "      <td>1 / 761</td>\n",
              "      <td>6b848725-e44d-42d8-a278-ae67faa9cb80</td>\n",
              "      <td>Female</td>\n",
              "      <td>10KM RUN</td>\n",
              "      <td>[img:flags/SA.gif]</td>\n",
              "      <td>00:42:59.556</td>\n",
              "      <td>00:42:57.505</td>\n",
              "      <td>13.9 Km/Hr</td>\n",
              "      <td>4:17 min/km</td>\n",
              "      <td>10 KM</td>\n",
              "    </tr>\n",
              "    <tr>\n",
              "      <th>1</th>\n",
              "      <td>53 / 2285</td>\n",
              "      <td>2 / 761</td>\n",
              "      <td>6b848725-e44d-42d8-a278-ae67faa9cb80</td>\n",
              "      <td>Female</td>\n",
              "      <td>10KM RUN</td>\n",
              "      <td>[img:flags/CZ.gif]</td>\n",
              "      <td>00:43:28.175</td>\n",
              "      <td>00:43:24.774</td>\n",
              "      <td>13.8 Km/Hr</td>\n",
              "      <td>4:20 min/km</td>\n",
              "      <td>10 KM</td>\n",
              "    </tr>\n",
              "    <tr>\n",
              "      <th>2</th>\n",
              "      <td>55 / 2285</td>\n",
              "      <td>3 / 761</td>\n",
              "      <td>6b848725-e44d-42d8-a278-ae67faa9cb80</td>\n",
              "      <td>Female</td>\n",
              "      <td>10KM RUN</td>\n",
              "      <td>[img:flags/SA.gif]</td>\n",
              "      <td>00:44:00.251</td>\n",
              "      <td>00:43:56.317</td>\n",
              "      <td>13.6 Km/Hr</td>\n",
              "      <td>4:23 min/km</td>\n",
              "      <td>10 KM</td>\n",
              "    </tr>\n",
              "    <tr>\n",
              "      <th>3</th>\n",
              "      <td>88 / 2285</td>\n",
              "      <td>4 / 761</td>\n",
              "      <td>6b848725-e44d-42d8-a278-ae67faa9cb80</td>\n",
              "      <td>Female</td>\n",
              "      <td>10KM RUN</td>\n",
              "      <td>[img:flags/MA.gif]</td>\n",
              "      <td>00:48:28.115</td>\n",
              "      <td>00:48:22.908</td>\n",
              "      <td>12.4 Km/Hr</td>\n",
              "      <td>4:50 min/km</td>\n",
              "      <td>10 KM</td>\n",
              "    </tr>\n",
              "    <tr>\n",
              "      <th>4</th>\n",
              "      <td>93 / 2285</td>\n",
              "      <td>5 / 761</td>\n",
              "      <td>6b848725-e44d-42d8-a278-ae67faa9cb80</td>\n",
              "      <td>Female</td>\n",
              "      <td>10KM RUN</td>\n",
              "      <td>[img:flags/SA.gif]</td>\n",
              "      <td>00:58:37.753</td>\n",
              "      <td>00:48:27.714</td>\n",
              "      <td>12.3 Km/Hr</td>\n",
              "      <td>4:50 min/km</td>\n",
              "      <td>10 KM</td>\n",
              "    </tr>\n",
              "    <tr>\n",
              "      <th>5</th>\n",
              "      <td>116 / 2285</td>\n",
              "      <td>6 / 761</td>\n",
              "      <td>6b848725-e44d-42d8-a278-ae67faa9cb80</td>\n",
              "      <td>Female</td>\n",
              "      <td>10KM RUN</td>\n",
              "      <td>[img:flags/GB.gif]</td>\n",
              "      <td>00:58:35.135</td>\n",
              "      <td>00:49:58.260</td>\n",
              "      <td>12.0 Km/Hr</td>\n",
              "      <td>4:59 min/km</td>\n",
              "      <td>10 KM</td>\n",
              "    </tr>\n",
              "  </tbody>\n",
              "</table>\n",
              "</div>\n",
              "    <div class=\"colab-df-buttons\">\n",
              "\n",
              "  <div class=\"colab-df-container\">\n",
              "    <button class=\"colab-df-convert\" onclick=\"convertToInteractive('df-f2513b37-5ed6-4173-b7e0-a96493aa3597')\"\n",
              "            title=\"Convert this dataframe to an interactive table.\"\n",
              "            style=\"display:none;\">\n",
              "\n",
              "  <svg xmlns=\"http://www.w3.org/2000/svg\" height=\"24px\" viewBox=\"0 -960 960 960\">\n",
              "    <path d=\"M120-120v-720h720v720H120Zm60-500h600v-160H180v160Zm220 220h160v-160H400v160Zm0 220h160v-160H400v160ZM180-400h160v-160H180v160Zm440 0h160v-160H620v160ZM180-180h160v-160H180v160Zm440 0h160v-160H620v160Z\"/>\n",
              "  </svg>\n",
              "    </button>\n",
              "\n",
              "  <style>\n",
              "    .colab-df-container {\n",
              "      display:flex;\n",
              "      gap: 12px;\n",
              "    }\n",
              "\n",
              "    .colab-df-convert {\n",
              "      background-color: #E8F0FE;\n",
              "      border: none;\n",
              "      border-radius: 50%;\n",
              "      cursor: pointer;\n",
              "      display: none;\n",
              "      fill: #1967D2;\n",
              "      height: 32px;\n",
              "      padding: 0 0 0 0;\n",
              "      width: 32px;\n",
              "    }\n",
              "\n",
              "    .colab-df-convert:hover {\n",
              "      background-color: #E2EBFA;\n",
              "      box-shadow: 0px 1px 2px rgba(60, 64, 67, 0.3), 0px 1px 3px 1px rgba(60, 64, 67, 0.15);\n",
              "      fill: #174EA6;\n",
              "    }\n",
              "\n",
              "    .colab-df-buttons div {\n",
              "      margin-bottom: 4px;\n",
              "    }\n",
              "\n",
              "    [theme=dark] .colab-df-convert {\n",
              "      background-color: #3B4455;\n",
              "      fill: #D2E3FC;\n",
              "    }\n",
              "\n",
              "    [theme=dark] .colab-df-convert:hover {\n",
              "      background-color: #434B5C;\n",
              "      box-shadow: 0px 1px 3px 1px rgba(0, 0, 0, 0.15);\n",
              "      filter: drop-shadow(0px 1px 2px rgba(0, 0, 0, 0.3));\n",
              "      fill: #FFFFFF;\n",
              "    }\n",
              "  </style>\n",
              "\n",
              "    <script>\n",
              "      const buttonEl =\n",
              "        document.querySelector('#df-f2513b37-5ed6-4173-b7e0-a96493aa3597 button.colab-df-convert');\n",
              "      buttonEl.style.display =\n",
              "        google.colab.kernel.accessAllowed ? 'block' : 'none';\n",
              "\n",
              "      async function convertToInteractive(key) {\n",
              "        const element = document.querySelector('#df-f2513b37-5ed6-4173-b7e0-a96493aa3597');\n",
              "        const dataTable =\n",
              "          await google.colab.kernel.invokeFunction('convertToInteractive',\n",
              "                                                    [key], {});\n",
              "        if (!dataTable) return;\n",
              "\n",
              "        const docLinkHtml = 'Like what you see? Visit the ' +\n",
              "          '<a target=\"_blank\" href=https://colab.research.google.com/notebooks/data_table.ipynb>data table notebook</a>'\n",
              "          + ' to learn more about interactive tables.';\n",
              "        element.innerHTML = '';\n",
              "        dataTable['output_type'] = 'display_data';\n",
              "        await google.colab.output.renderOutput(dataTable, element);\n",
              "        const docLink = document.createElement('div');\n",
              "        docLink.innerHTML = docLinkHtml;\n",
              "        element.appendChild(docLink);\n",
              "      }\n",
              "    </script>\n",
              "  </div>\n",
              "\n",
              "\n",
              "<div id=\"df-116731a9-af5b-448f-9f12-bd29426f7ade\">\n",
              "  <button class=\"colab-df-quickchart\" onclick=\"quickchart('df-116731a9-af5b-448f-9f12-bd29426f7ade')\"\n",
              "            title=\"Suggest charts\"\n",
              "            style=\"display:none;\">\n",
              "\n",
              "<svg xmlns=\"http://www.w3.org/2000/svg\" height=\"24px\"viewBox=\"0 0 24 24\"\n",
              "     width=\"24px\">\n",
              "    <g>\n",
              "        <path d=\"M19 3H5c-1.1 0-2 .9-2 2v14c0 1.1.9 2 2 2h14c1.1 0 2-.9 2-2V5c0-1.1-.9-2-2-2zM9 17H7v-7h2v7zm4 0h-2V7h2v10zm4 0h-2v-4h2v4z\"/>\n",
              "    </g>\n",
              "</svg>\n",
              "  </button>\n",
              "\n",
              "<style>\n",
              "  .colab-df-quickchart {\n",
              "      --bg-color: #E8F0FE;\n",
              "      --fill-color: #1967D2;\n",
              "      --hover-bg-color: #E2EBFA;\n",
              "      --hover-fill-color: #174EA6;\n",
              "      --disabled-fill-color: #AAA;\n",
              "      --disabled-bg-color: #DDD;\n",
              "  }\n",
              "\n",
              "  [theme=dark] .colab-df-quickchart {\n",
              "      --bg-color: #3B4455;\n",
              "      --fill-color: #D2E3FC;\n",
              "      --hover-bg-color: #434B5C;\n",
              "      --hover-fill-color: #FFFFFF;\n",
              "      --disabled-bg-color: #3B4455;\n",
              "      --disabled-fill-color: #666;\n",
              "  }\n",
              "\n",
              "  .colab-df-quickchart {\n",
              "    background-color: var(--bg-color);\n",
              "    border: none;\n",
              "    border-radius: 50%;\n",
              "    cursor: pointer;\n",
              "    display: none;\n",
              "    fill: var(--fill-color);\n",
              "    height: 32px;\n",
              "    padding: 0;\n",
              "    width: 32px;\n",
              "  }\n",
              "\n",
              "  .colab-df-quickchart:hover {\n",
              "    background-color: var(--hover-bg-color);\n",
              "    box-shadow: 0 1px 2px rgba(60, 64, 67, 0.3), 0 1px 3px 1px rgba(60, 64, 67, 0.15);\n",
              "    fill: var(--button-hover-fill-color);\n",
              "  }\n",
              "\n",
              "  .colab-df-quickchart-complete:disabled,\n",
              "  .colab-df-quickchart-complete:disabled:hover {\n",
              "    background-color: var(--disabled-bg-color);\n",
              "    fill: var(--disabled-fill-color);\n",
              "    box-shadow: none;\n",
              "  }\n",
              "\n",
              "  .colab-df-spinner {\n",
              "    border: 2px solid var(--fill-color);\n",
              "    border-color: transparent;\n",
              "    border-bottom-color: var(--fill-color);\n",
              "    animation:\n",
              "      spin 1s steps(1) infinite;\n",
              "  }\n",
              "\n",
              "  @keyframes spin {\n",
              "    0% {\n",
              "      border-color: transparent;\n",
              "      border-bottom-color: var(--fill-color);\n",
              "      border-left-color: var(--fill-color);\n",
              "    }\n",
              "    20% {\n",
              "      border-color: transparent;\n",
              "      border-left-color: var(--fill-color);\n",
              "      border-top-color: var(--fill-color);\n",
              "    }\n",
              "    30% {\n",
              "      border-color: transparent;\n",
              "      border-left-color: var(--fill-color);\n",
              "      border-top-color: var(--fill-color);\n",
              "      border-right-color: var(--fill-color);\n",
              "    }\n",
              "    40% {\n",
              "      border-color: transparent;\n",
              "      border-right-color: var(--fill-color);\n",
              "      border-top-color: var(--fill-color);\n",
              "    }\n",
              "    60% {\n",
              "      border-color: transparent;\n",
              "      border-right-color: var(--fill-color);\n",
              "    }\n",
              "    80% {\n",
              "      border-color: transparent;\n",
              "      border-right-color: var(--fill-color);\n",
              "      border-bottom-color: var(--fill-color);\n",
              "    }\n",
              "    90% {\n",
              "      border-color: transparent;\n",
              "      border-bottom-color: var(--fill-color);\n",
              "    }\n",
              "  }\n",
              "</style>\n",
              "\n",
              "  <script>\n",
              "    async function quickchart(key) {\n",
              "      const quickchartButtonEl =\n",
              "        document.querySelector('#' + key + ' button');\n",
              "      quickchartButtonEl.disabled = true;  // To prevent multiple clicks.\n",
              "      quickchartButtonEl.classList.add('colab-df-spinner');\n",
              "      try {\n",
              "        const charts = await google.colab.kernel.invokeFunction(\n",
              "            'suggestCharts', [key], {});\n",
              "      } catch (error) {\n",
              "        console.error('Error during call to suggestCharts:', error);\n",
              "      }\n",
              "      quickchartButtonEl.classList.remove('colab-df-spinner');\n",
              "      quickchartButtonEl.classList.add('colab-df-quickchart-complete');\n",
              "    }\n",
              "    (() => {\n",
              "      let quickchartButtonEl =\n",
              "        document.querySelector('#df-116731a9-af5b-448f-9f12-bd29426f7ade button');\n",
              "      quickchartButtonEl.style.display =\n",
              "        google.colab.kernel.accessAllowed ? 'block' : 'none';\n",
              "    })();\n",
              "  </script>\n",
              "</div>\n",
              "\n",
              "    </div>\n",
              "  </div>\n"
            ],
            "application/vnd.google.colaboratory.intrinsic+json": {
              "type": "dataframe",
              "variable_name": "df",
              "summary": "{\n  \"name\": \"df\",\n  \"rows\": 6397,\n  \"fields\": [\n    {\n      \"column\": \"Rank\",\n      \"properties\": {\n        \"dtype\": \"string\",\n        \"num_unique_values\": 6031,\n        \"samples\": [\n          \"1430 / 2285\",\n          \"1010 / 2220\",\n          \"648 / 2285\"\n        ],\n        \"semantic_type\": \"\",\n        \"description\": \"\"\n      }\n    },\n    {\n      \"column\": \"Gender Rank\",\n      \"properties\": {\n        \"dtype\": \"string\",\n        \"num_unique_values\": 6028,\n        \"samples\": [\n          \"623 / 1182\",\n          \"358 / 1524\",\n          \"526 / 1182\"\n        ],\n        \"semantic_type\": \"\",\n        \"description\": \"\"\n      }\n    },\n    {\n      \"column\": \"Name\",\n      \"properties\": {\n        \"dtype\": \"category\",\n        \"num_unique_values\": 12,\n        \"samples\": [\n          \"cde359f8-5d73-4426-8ba6-cf021cfddbfc\",\n          \"ee5b6325-c4f3-4122-8247-1818e59912c2\",\n          \"6b848725-e44d-42d8-a278-ae67faa9cb80\"\n        ],\n        \"semantic_type\": \"\",\n        \"description\": \"\"\n      }\n    },\n    {\n      \"column\": \"Gender\",\n      \"properties\": {\n        \"dtype\": \"category\",\n        \"num_unique_values\": 2,\n        \"samples\": [\n          \"Male\",\n          \"Female\"\n        ],\n        \"semantic_type\": \"\",\n        \"description\": \"\"\n      }\n    },\n    {\n      \"column\": \"Category\",\n      \"properties\": {\n        \"dtype\": \"category\",\n        \"num_unique_values\": 6,\n        \"samples\": [\n          \"10KM RUN\",\n          \"4KM FUN RUN\"\n        ],\n        \"semantic_type\": \"\",\n        \"description\": \"\"\n      }\n    },\n    {\n      \"column\": \"Nationality\",\n      \"properties\": {\n        \"dtype\": \"category\",\n        \"num_unique_values\": 85,\n        \"samples\": [\n          \"[img:flags/GM.gif]\",\n          \"[img:flags/SA.gif]\"\n        ],\n        \"semantic_type\": \"\",\n        \"description\": \"\"\n      }\n    },\n    {\n      \"column\": \"Gun Time\",\n      \"properties\": {\n        \"dtype\": \"string\",\n        \"num_unique_values\": 6216,\n        \"samples\": [\n          \"00:38:58.071\",\n          \"01:25:14.919\"\n        ],\n        \"semantic_type\": \"\",\n        \"description\": \"\"\n      }\n    },\n    {\n      \"column\": \"Chip Time\",\n      \"properties\": {\n        \"dtype\": \"date\",\n        \"min\": \"2024-04-01 00:12:52.781000\",\n        \"max\": \"2024-04-01 06:14:05.366000\",\n        \"num_unique_values\": 6223,\n        \"samples\": [\n          \"01:11:06.122\",\n          \"01:35:33.671\"\n        ],\n        \"semantic_type\": \"\",\n        \"description\": \"\"\n      }\n    },\n    {\n      \"column\": \"Speed\",\n      \"properties\": {\n        \"dtype\": \"category\",\n        \"num_unique_values\": 182,\n        \"samples\": [\n          \"10.0 Km/Hr\",\n          \"7.7 Km/Hr\"\n        ],\n        \"semantic_type\": \"\",\n        \"description\": \"\"\n      }\n    },\n    {\n      \"column\": \"Pace\",\n      \"properties\": {\n        \"dtype\": \"category\",\n        \"num_unique_values\": 817,\n        \"samples\": [\n          \"9:16 min/km\",\n          \"6:19 min/km\"\n        ],\n        \"semantic_type\": \"\",\n        \"description\": \"\"\n      }\n    },\n    {\n      \"column\": \"Distance\",\n      \"properties\": {\n        \"dtype\": \"category\",\n        \"num_unique_values\": 12,\n        \"samples\": [\n          \"40 KM\",\n          \"30 KM\"\n        ],\n        \"semantic_type\": \"\",\n        \"description\": \"\"\n      }\n    }\n  ]\n}"
            }
          },
          "metadata": {},
          "execution_count": 3
        }
      ]
    },
    {
      "cell_type": "code",
      "source": [
        "df.tail(6)"
      ],
      "metadata": {
        "id": "eArbGlCm9gQM",
        "colab": {
          "base_uri": "https://localhost:8080/",
          "height": 237
        },
        "outputId": "32247e5a-4285-43b4-b84e-66e63affcf7d"
      },
      "execution_count": 4,
      "outputs": [
        {
          "output_type": "execute_result",
          "data": {
            "text/plain": [
              "    Rank Gender Rank                                  Name  Gender  \\\n",
              "0  4 / 6       1 / 3  cde359f8-5d73-4426-8ba6-cf021cfddbfc  Female   \n",
              "1  5 / 6       2 / 3  cde359f8-5d73-4426-8ba6-cf021cfddbfc  Female   \n",
              "2  6 / 6       3 / 3  cde359f8-5d73-4426-8ba6-cf021cfddbfc  Female   \n",
              "0  1 / 6       1 / 3  7aa1ce03-6d9c-4b53-93a9-d01b1bae7334    Male   \n",
              "1  2 / 6       2 / 3  7aa1ce03-6d9c-4b53-93a9-d01b1bae7334    Male   \n",
              "2  3 / 6       3 / 3  7aa1ce03-6d9c-4b53-93a9-d01b1bae7334    Male   \n",
              "\n",
              "              Category         Nationality      Gun Time     Chip Time  \\\n",
              "0  HALF MARATHON ELITE  [img:flags/KE.gif]  01:08:55.519  01:08:51.366   \n",
              "1  HALF MARATHON ELITE  [img:flags/ET.gif]  01:12:12.475  01:12:08.442   \n",
              "2  HALF MARATHON ELITE  [img:flags/UA.gif]  01:18:23.645  01:18:20.056   \n",
              "0  HALF MARATHON ELITE  [img:flags/KE.gif]  01:04:04.250  01:04:00.497   \n",
              "1  HALF MARATHON ELITE  [img:flags/KE.gif]  01:04:06.571  01:04:03.202   \n",
              "2  HALF MARATHON ELITE  [img:flags/KE.gif]  01:04:09.986  01:04:06.290   \n",
              "\n",
              "        Speed         Pace Distance  \n",
              "0  18.3 Km/Hr  3:15 min/km  21.1 KM  \n",
              "1  17.5 Km/Hr  3:25 min/km  21.1 KM  \n",
              "2  16.1 Km/Hr  3:42 min/km  21.1 KM  \n",
              "0  19.7 Km/Hr  3:02 min/km  21.1 KM  \n",
              "1  19.7 Km/Hr  3:02 min/km  21.1 KM  \n",
              "2  19.7 Km/Hr  3:02 min/km  21.1 KM  "
            ],
            "text/html": [
              "\n",
              "  <div id=\"df-b2ba1fa4-af66-4cbf-9deb-ffda2dd4935d\" class=\"colab-df-container\">\n",
              "    <div>\n",
              "<style scoped>\n",
              "    .dataframe tbody tr th:only-of-type {\n",
              "        vertical-align: middle;\n",
              "    }\n",
              "\n",
              "    .dataframe tbody tr th {\n",
              "        vertical-align: top;\n",
              "    }\n",
              "\n",
              "    .dataframe thead th {\n",
              "        text-align: right;\n",
              "    }\n",
              "</style>\n",
              "<table border=\"1\" class=\"dataframe\">\n",
              "  <thead>\n",
              "    <tr style=\"text-align: right;\">\n",
              "      <th></th>\n",
              "      <th>Rank</th>\n",
              "      <th>Gender Rank</th>\n",
              "      <th>Name</th>\n",
              "      <th>Gender</th>\n",
              "      <th>Category</th>\n",
              "      <th>Nationality</th>\n",
              "      <th>Gun Time</th>\n",
              "      <th>Chip Time</th>\n",
              "      <th>Speed</th>\n",
              "      <th>Pace</th>\n",
              "      <th>Distance</th>\n",
              "    </tr>\n",
              "  </thead>\n",
              "  <tbody>\n",
              "    <tr>\n",
              "      <th>0</th>\n",
              "      <td>4 / 6</td>\n",
              "      <td>1 / 3</td>\n",
              "      <td>cde359f8-5d73-4426-8ba6-cf021cfddbfc</td>\n",
              "      <td>Female</td>\n",
              "      <td>HALF MARATHON ELITE</td>\n",
              "      <td>[img:flags/KE.gif]</td>\n",
              "      <td>01:08:55.519</td>\n",
              "      <td>01:08:51.366</td>\n",
              "      <td>18.3 Km/Hr</td>\n",
              "      <td>3:15 min/km</td>\n",
              "      <td>21.1 KM</td>\n",
              "    </tr>\n",
              "    <tr>\n",
              "      <th>1</th>\n",
              "      <td>5 / 6</td>\n",
              "      <td>2 / 3</td>\n",
              "      <td>cde359f8-5d73-4426-8ba6-cf021cfddbfc</td>\n",
              "      <td>Female</td>\n",
              "      <td>HALF MARATHON ELITE</td>\n",
              "      <td>[img:flags/ET.gif]</td>\n",
              "      <td>01:12:12.475</td>\n",
              "      <td>01:12:08.442</td>\n",
              "      <td>17.5 Km/Hr</td>\n",
              "      <td>3:25 min/km</td>\n",
              "      <td>21.1 KM</td>\n",
              "    </tr>\n",
              "    <tr>\n",
              "      <th>2</th>\n",
              "      <td>6 / 6</td>\n",
              "      <td>3 / 3</td>\n",
              "      <td>cde359f8-5d73-4426-8ba6-cf021cfddbfc</td>\n",
              "      <td>Female</td>\n",
              "      <td>HALF MARATHON ELITE</td>\n",
              "      <td>[img:flags/UA.gif]</td>\n",
              "      <td>01:18:23.645</td>\n",
              "      <td>01:18:20.056</td>\n",
              "      <td>16.1 Km/Hr</td>\n",
              "      <td>3:42 min/km</td>\n",
              "      <td>21.1 KM</td>\n",
              "    </tr>\n",
              "    <tr>\n",
              "      <th>0</th>\n",
              "      <td>1 / 6</td>\n",
              "      <td>1 / 3</td>\n",
              "      <td>7aa1ce03-6d9c-4b53-93a9-d01b1bae7334</td>\n",
              "      <td>Male</td>\n",
              "      <td>HALF MARATHON ELITE</td>\n",
              "      <td>[img:flags/KE.gif]</td>\n",
              "      <td>01:04:04.250</td>\n",
              "      <td>01:04:00.497</td>\n",
              "      <td>19.7 Km/Hr</td>\n",
              "      <td>3:02 min/km</td>\n",
              "      <td>21.1 KM</td>\n",
              "    </tr>\n",
              "    <tr>\n",
              "      <th>1</th>\n",
              "      <td>2 / 6</td>\n",
              "      <td>2 / 3</td>\n",
              "      <td>7aa1ce03-6d9c-4b53-93a9-d01b1bae7334</td>\n",
              "      <td>Male</td>\n",
              "      <td>HALF MARATHON ELITE</td>\n",
              "      <td>[img:flags/KE.gif]</td>\n",
              "      <td>01:04:06.571</td>\n",
              "      <td>01:04:03.202</td>\n",
              "      <td>19.7 Km/Hr</td>\n",
              "      <td>3:02 min/km</td>\n",
              "      <td>21.1 KM</td>\n",
              "    </tr>\n",
              "    <tr>\n",
              "      <th>2</th>\n",
              "      <td>3 / 6</td>\n",
              "      <td>3 / 3</td>\n",
              "      <td>7aa1ce03-6d9c-4b53-93a9-d01b1bae7334</td>\n",
              "      <td>Male</td>\n",
              "      <td>HALF MARATHON ELITE</td>\n",
              "      <td>[img:flags/KE.gif]</td>\n",
              "      <td>01:04:09.986</td>\n",
              "      <td>01:04:06.290</td>\n",
              "      <td>19.7 Km/Hr</td>\n",
              "      <td>3:02 min/km</td>\n",
              "      <td>21.1 KM</td>\n",
              "    </tr>\n",
              "  </tbody>\n",
              "</table>\n",
              "</div>\n",
              "    <div class=\"colab-df-buttons\">\n",
              "\n",
              "  <div class=\"colab-df-container\">\n",
              "    <button class=\"colab-df-convert\" onclick=\"convertToInteractive('df-b2ba1fa4-af66-4cbf-9deb-ffda2dd4935d')\"\n",
              "            title=\"Convert this dataframe to an interactive table.\"\n",
              "            style=\"display:none;\">\n",
              "\n",
              "  <svg xmlns=\"http://www.w3.org/2000/svg\" height=\"24px\" viewBox=\"0 -960 960 960\">\n",
              "    <path d=\"M120-120v-720h720v720H120Zm60-500h600v-160H180v160Zm220 220h160v-160H400v160Zm0 220h160v-160H400v160ZM180-400h160v-160H180v160Zm440 0h160v-160H620v160ZM180-180h160v-160H180v160Zm440 0h160v-160H620v160Z\"/>\n",
              "  </svg>\n",
              "    </button>\n",
              "\n",
              "  <style>\n",
              "    .colab-df-container {\n",
              "      display:flex;\n",
              "      gap: 12px;\n",
              "    }\n",
              "\n",
              "    .colab-df-convert {\n",
              "      background-color: #E8F0FE;\n",
              "      border: none;\n",
              "      border-radius: 50%;\n",
              "      cursor: pointer;\n",
              "      display: none;\n",
              "      fill: #1967D2;\n",
              "      height: 32px;\n",
              "      padding: 0 0 0 0;\n",
              "      width: 32px;\n",
              "    }\n",
              "\n",
              "    .colab-df-convert:hover {\n",
              "      background-color: #E2EBFA;\n",
              "      box-shadow: 0px 1px 2px rgba(60, 64, 67, 0.3), 0px 1px 3px 1px rgba(60, 64, 67, 0.15);\n",
              "      fill: #174EA6;\n",
              "    }\n",
              "\n",
              "    .colab-df-buttons div {\n",
              "      margin-bottom: 4px;\n",
              "    }\n",
              "\n",
              "    [theme=dark] .colab-df-convert {\n",
              "      background-color: #3B4455;\n",
              "      fill: #D2E3FC;\n",
              "    }\n",
              "\n",
              "    [theme=dark] .colab-df-convert:hover {\n",
              "      background-color: #434B5C;\n",
              "      box-shadow: 0px 1px 3px 1px rgba(0, 0, 0, 0.15);\n",
              "      filter: drop-shadow(0px 1px 2px rgba(0, 0, 0, 0.3));\n",
              "      fill: #FFFFFF;\n",
              "    }\n",
              "  </style>\n",
              "\n",
              "    <script>\n",
              "      const buttonEl =\n",
              "        document.querySelector('#df-b2ba1fa4-af66-4cbf-9deb-ffda2dd4935d button.colab-df-convert');\n",
              "      buttonEl.style.display =\n",
              "        google.colab.kernel.accessAllowed ? 'block' : 'none';\n",
              "\n",
              "      async function convertToInteractive(key) {\n",
              "        const element = document.querySelector('#df-b2ba1fa4-af66-4cbf-9deb-ffda2dd4935d');\n",
              "        const dataTable =\n",
              "          await google.colab.kernel.invokeFunction('convertToInteractive',\n",
              "                                                    [key], {});\n",
              "        if (!dataTable) return;\n",
              "\n",
              "        const docLinkHtml = 'Like what you see? Visit the ' +\n",
              "          '<a target=\"_blank\" href=https://colab.research.google.com/notebooks/data_table.ipynb>data table notebook</a>'\n",
              "          + ' to learn more about interactive tables.';\n",
              "        element.innerHTML = '';\n",
              "        dataTable['output_type'] = 'display_data';\n",
              "        await google.colab.output.renderOutput(dataTable, element);\n",
              "        const docLink = document.createElement('div');\n",
              "        docLink.innerHTML = docLinkHtml;\n",
              "        element.appendChild(docLink);\n",
              "      }\n",
              "    </script>\n",
              "  </div>\n",
              "\n",
              "\n",
              "<div id=\"df-3477c523-187d-46ce-bda0-745699cf22d6\">\n",
              "  <button class=\"colab-df-quickchart\" onclick=\"quickchart('df-3477c523-187d-46ce-bda0-745699cf22d6')\"\n",
              "            title=\"Suggest charts\"\n",
              "            style=\"display:none;\">\n",
              "\n",
              "<svg xmlns=\"http://www.w3.org/2000/svg\" height=\"24px\"viewBox=\"0 0 24 24\"\n",
              "     width=\"24px\">\n",
              "    <g>\n",
              "        <path d=\"M19 3H5c-1.1 0-2 .9-2 2v14c0 1.1.9 2 2 2h14c1.1 0 2-.9 2-2V5c0-1.1-.9-2-2-2zM9 17H7v-7h2v7zm4 0h-2V7h2v10zm4 0h-2v-4h2v4z\"/>\n",
              "    </g>\n",
              "</svg>\n",
              "  </button>\n",
              "\n",
              "<style>\n",
              "  .colab-df-quickchart {\n",
              "      --bg-color: #E8F0FE;\n",
              "      --fill-color: #1967D2;\n",
              "      --hover-bg-color: #E2EBFA;\n",
              "      --hover-fill-color: #174EA6;\n",
              "      --disabled-fill-color: #AAA;\n",
              "      --disabled-bg-color: #DDD;\n",
              "  }\n",
              "\n",
              "  [theme=dark] .colab-df-quickchart {\n",
              "      --bg-color: #3B4455;\n",
              "      --fill-color: #D2E3FC;\n",
              "      --hover-bg-color: #434B5C;\n",
              "      --hover-fill-color: #FFFFFF;\n",
              "      --disabled-bg-color: #3B4455;\n",
              "      --disabled-fill-color: #666;\n",
              "  }\n",
              "\n",
              "  .colab-df-quickchart {\n",
              "    background-color: var(--bg-color);\n",
              "    border: none;\n",
              "    border-radius: 50%;\n",
              "    cursor: pointer;\n",
              "    display: none;\n",
              "    fill: var(--fill-color);\n",
              "    height: 32px;\n",
              "    padding: 0;\n",
              "    width: 32px;\n",
              "  }\n",
              "\n",
              "  .colab-df-quickchart:hover {\n",
              "    background-color: var(--hover-bg-color);\n",
              "    box-shadow: 0 1px 2px rgba(60, 64, 67, 0.3), 0 1px 3px 1px rgba(60, 64, 67, 0.15);\n",
              "    fill: var(--button-hover-fill-color);\n",
              "  }\n",
              "\n",
              "  .colab-df-quickchart-complete:disabled,\n",
              "  .colab-df-quickchart-complete:disabled:hover {\n",
              "    background-color: var(--disabled-bg-color);\n",
              "    fill: var(--disabled-fill-color);\n",
              "    box-shadow: none;\n",
              "  }\n",
              "\n",
              "  .colab-df-spinner {\n",
              "    border: 2px solid var(--fill-color);\n",
              "    border-color: transparent;\n",
              "    border-bottom-color: var(--fill-color);\n",
              "    animation:\n",
              "      spin 1s steps(1) infinite;\n",
              "  }\n",
              "\n",
              "  @keyframes spin {\n",
              "    0% {\n",
              "      border-color: transparent;\n",
              "      border-bottom-color: var(--fill-color);\n",
              "      border-left-color: var(--fill-color);\n",
              "    }\n",
              "    20% {\n",
              "      border-color: transparent;\n",
              "      border-left-color: var(--fill-color);\n",
              "      border-top-color: var(--fill-color);\n",
              "    }\n",
              "    30% {\n",
              "      border-color: transparent;\n",
              "      border-left-color: var(--fill-color);\n",
              "      border-top-color: var(--fill-color);\n",
              "      border-right-color: var(--fill-color);\n",
              "    }\n",
              "    40% {\n",
              "      border-color: transparent;\n",
              "      border-right-color: var(--fill-color);\n",
              "      border-top-color: var(--fill-color);\n",
              "    }\n",
              "    60% {\n",
              "      border-color: transparent;\n",
              "      border-right-color: var(--fill-color);\n",
              "    }\n",
              "    80% {\n",
              "      border-color: transparent;\n",
              "      border-right-color: var(--fill-color);\n",
              "      border-bottom-color: var(--fill-color);\n",
              "    }\n",
              "    90% {\n",
              "      border-color: transparent;\n",
              "      border-bottom-color: var(--fill-color);\n",
              "    }\n",
              "  }\n",
              "</style>\n",
              "\n",
              "  <script>\n",
              "    async function quickchart(key) {\n",
              "      const quickchartButtonEl =\n",
              "        document.querySelector('#' + key + ' button');\n",
              "      quickchartButtonEl.disabled = true;  // To prevent multiple clicks.\n",
              "      quickchartButtonEl.classList.add('colab-df-spinner');\n",
              "      try {\n",
              "        const charts = await google.colab.kernel.invokeFunction(\n",
              "            'suggestCharts', [key], {});\n",
              "      } catch (error) {\n",
              "        console.error('Error during call to suggestCharts:', error);\n",
              "      }\n",
              "      quickchartButtonEl.classList.remove('colab-df-spinner');\n",
              "      quickchartButtonEl.classList.add('colab-df-quickchart-complete');\n",
              "    }\n",
              "    (() => {\n",
              "      let quickchartButtonEl =\n",
              "        document.querySelector('#df-3477c523-187d-46ce-bda0-745699cf22d6 button');\n",
              "      quickchartButtonEl.style.display =\n",
              "        google.colab.kernel.accessAllowed ? 'block' : 'none';\n",
              "    })();\n",
              "  </script>\n",
              "</div>\n",
              "\n",
              "    </div>\n",
              "  </div>\n"
            ],
            "application/vnd.google.colaboratory.intrinsic+json": {
              "type": "dataframe",
              "summary": "{\n  \"name\": \"df\",\n  \"rows\": 6,\n  \"fields\": [\n    {\n      \"column\": \"Rank\",\n      \"properties\": {\n        \"dtype\": \"string\",\n        \"num_unique_values\": 6,\n        \"samples\": [\n          \"4 / 6\",\n          \"5 / 6\",\n          \"3 / 6\"\n        ],\n        \"semantic_type\": \"\",\n        \"description\": \"\"\n      }\n    },\n    {\n      \"column\": \"Gender Rank\",\n      \"properties\": {\n        \"dtype\": \"string\",\n        \"num_unique_values\": 3,\n        \"samples\": [\n          \"1 / 3\",\n          \"2 / 3\",\n          \"3 / 3\"\n        ],\n        \"semantic_type\": \"\",\n        \"description\": \"\"\n      }\n    },\n    {\n      \"column\": \"Name\",\n      \"properties\": {\n        \"dtype\": \"category\",\n        \"num_unique_values\": 2,\n        \"samples\": [\n          \"7aa1ce03-6d9c-4b53-93a9-d01b1bae7334\",\n          \"cde359f8-5d73-4426-8ba6-cf021cfddbfc\"\n        ],\n        \"semantic_type\": \"\",\n        \"description\": \"\"\n      }\n    },\n    {\n      \"column\": \"Gender\",\n      \"properties\": {\n        \"dtype\": \"category\",\n        \"num_unique_values\": 2,\n        \"samples\": [\n          \"Male\",\n          \"Female\"\n        ],\n        \"semantic_type\": \"\",\n        \"description\": \"\"\n      }\n    },\n    {\n      \"column\": \"Category\",\n      \"properties\": {\n        \"dtype\": \"category\",\n        \"num_unique_values\": 1,\n        \"samples\": [\n          \"HALF MARATHON ELITE\"\n        ],\n        \"semantic_type\": \"\",\n        \"description\": \"\"\n      }\n    },\n    {\n      \"column\": \"Nationality\",\n      \"properties\": {\n        \"dtype\": \"string\",\n        \"num_unique_values\": 3,\n        \"samples\": [\n          \"[img:flags/KE.gif]\"\n        ],\n        \"semantic_type\": \"\",\n        \"description\": \"\"\n      }\n    },\n    {\n      \"column\": \"Gun Time\",\n      \"properties\": {\n        \"dtype\": \"date\",\n        \"min\": \"01:04:04.250\",\n        \"max\": \"01:18:23.645\",\n        \"num_unique_values\": 6,\n        \"samples\": [\n          \"01:08:55.519\"\n        ],\n        \"semantic_type\": \"\",\n        \"description\": \"\"\n      }\n    },\n    {\n      \"column\": \"Chip Time\",\n      \"properties\": {\n        \"dtype\": \"date\",\n        \"min\": \"01:04:00.497\",\n        \"max\": \"01:18:20.056\",\n        \"num_unique_values\": 6,\n        \"samples\": [\n          \"01:08:51.366\"\n        ],\n        \"semantic_type\": \"\",\n        \"description\": \"\"\n      }\n    },\n    {\n      \"column\": \"Speed\",\n      \"properties\": {\n        \"dtype\": \"string\",\n        \"num_unique_values\": 4,\n        \"samples\": [\n          \"17.5 Km/Hr\"\n        ],\n        \"semantic_type\": \"\",\n        \"description\": \"\"\n      }\n    },\n    {\n      \"column\": \"Pace\",\n      \"properties\": {\n        \"dtype\": \"string\",\n        \"num_unique_values\": 4,\n        \"samples\": [\n          \"3:25 min/km\"\n        ],\n        \"semantic_type\": \"\",\n        \"description\": \"\"\n      }\n    },\n    {\n      \"column\": \"Distance\",\n      \"properties\": {\n        \"dtype\": \"category\",\n        \"num_unique_values\": 1,\n        \"samples\": [\n          \"21.1 KM\"\n        ],\n        \"semantic_type\": \"\",\n        \"description\": \"\"\n      }\n    }\n  ]\n}"
            }
          },
          "metadata": {},
          "execution_count": 4
        }
      ]
    },
    {
      "cell_type": "code",
      "source": [
        "df.sample(6)"
      ],
      "metadata": {
        "id": "KsHPYARt9pVm",
        "colab": {
          "base_uri": "https://localhost:8080/",
          "height": 237
        },
        "outputId": "b8ba6b21-2e9e-4496-959a-4d26c29f1869"
      },
      "execution_count": 5,
      "outputs": [
        {
          "output_type": "execute_result",
          "data": {
            "text/plain": [
              "            Rank Gender Rank                                  Name  Gender  \\\n",
              "739  2251 / 2285   740 / 761  6b848725-e44d-42d8-a278-ae67faa9cb80  Female   \n",
              "713   862 / 1128   714 / 908  3ce2e755-b5ea-409a-9174-31778c11fcf0    Male   \n",
              "941  1513 / 2220  942 / 1182  e084862c-4867-4cec-85d1-cc9d2e8acb60    Male   \n",
              "954  2082 / 2220  955 / 1038  ee2e687b-c339-4f3f-a481-2bee50f01521  Female   \n",
              "726  2237 / 2285   727 / 761  6b848725-e44d-42d8-a278-ae67faa9cb80  Female   \n",
              "487   577 / 1128   488 / 908  3ce2e755-b5ea-409a-9174-31778c11fcf0    Male   \n",
              "\n",
              "          Category         Nationality      Gun Time     Chip Time      Speed  \\\n",
              "739       10KM RUN  [img:flags/SA.gif]  02:42:20.564  02:11:35.345  4.5 Km/Hr   \n",
              "713  HALF MARATHON  [img:flags/SA.gif]  03:05:02.951  02:52:42.867  7.3 Km/Hr   \n",
              "941    4KM FUN RUN  [img:flags/SA.gif]  00:57:31.621  00:45:59.037  5.2 Km/Hr   \n",
              "954    4KM FUN RUN  [img:flags/SA.gif]  01:02:10.485  01:00:27.504  3.9 Km/Hr   \n",
              "726       10KM RUN  [img:flags/SA.gif]  02:13:55.905  02:06:30.992  4.7 Km/Hr   \n",
              "487  HALF MARATHON  [img:flags/SA.gif]  02:39:11.689  02:25:08.738  8.7 Km/Hr   \n",
              "\n",
              "             Pace Distance  \n",
              "739  13:09 min/km    10 KM  \n",
              "713   8:11 min/km  21.1 KM  \n",
              "941  11:29 min/km     4 KM  \n",
              "954  15:06 min/km     4 KM  \n",
              "726  12:39 min/km    10 KM  \n",
              "487   6:52 min/km  21.1 KM  "
            ],
            "text/html": [
              "\n",
              "  <div id=\"df-c9137ed8-ebfe-49a9-a194-90766965563c\" class=\"colab-df-container\">\n",
              "    <div>\n",
              "<style scoped>\n",
              "    .dataframe tbody tr th:only-of-type {\n",
              "        vertical-align: middle;\n",
              "    }\n",
              "\n",
              "    .dataframe tbody tr th {\n",
              "        vertical-align: top;\n",
              "    }\n",
              "\n",
              "    .dataframe thead th {\n",
              "        text-align: right;\n",
              "    }\n",
              "</style>\n",
              "<table border=\"1\" class=\"dataframe\">\n",
              "  <thead>\n",
              "    <tr style=\"text-align: right;\">\n",
              "      <th></th>\n",
              "      <th>Rank</th>\n",
              "      <th>Gender Rank</th>\n",
              "      <th>Name</th>\n",
              "      <th>Gender</th>\n",
              "      <th>Category</th>\n",
              "      <th>Nationality</th>\n",
              "      <th>Gun Time</th>\n",
              "      <th>Chip Time</th>\n",
              "      <th>Speed</th>\n",
              "      <th>Pace</th>\n",
              "      <th>Distance</th>\n",
              "    </tr>\n",
              "  </thead>\n",
              "  <tbody>\n",
              "    <tr>\n",
              "      <th>739</th>\n",
              "      <td>2251 / 2285</td>\n",
              "      <td>740 / 761</td>\n",
              "      <td>6b848725-e44d-42d8-a278-ae67faa9cb80</td>\n",
              "      <td>Female</td>\n",
              "      <td>10KM RUN</td>\n",
              "      <td>[img:flags/SA.gif]</td>\n",
              "      <td>02:42:20.564</td>\n",
              "      <td>02:11:35.345</td>\n",
              "      <td>4.5 Km/Hr</td>\n",
              "      <td>13:09 min/km</td>\n",
              "      <td>10 KM</td>\n",
              "    </tr>\n",
              "    <tr>\n",
              "      <th>713</th>\n",
              "      <td>862 / 1128</td>\n",
              "      <td>714 / 908</td>\n",
              "      <td>3ce2e755-b5ea-409a-9174-31778c11fcf0</td>\n",
              "      <td>Male</td>\n",
              "      <td>HALF MARATHON</td>\n",
              "      <td>[img:flags/SA.gif]</td>\n",
              "      <td>03:05:02.951</td>\n",
              "      <td>02:52:42.867</td>\n",
              "      <td>7.3 Km/Hr</td>\n",
              "      <td>8:11 min/km</td>\n",
              "      <td>21.1 KM</td>\n",
              "    </tr>\n",
              "    <tr>\n",
              "      <th>941</th>\n",
              "      <td>1513 / 2220</td>\n",
              "      <td>942 / 1182</td>\n",
              "      <td>e084862c-4867-4cec-85d1-cc9d2e8acb60</td>\n",
              "      <td>Male</td>\n",
              "      <td>4KM FUN RUN</td>\n",
              "      <td>[img:flags/SA.gif]</td>\n",
              "      <td>00:57:31.621</td>\n",
              "      <td>00:45:59.037</td>\n",
              "      <td>5.2 Km/Hr</td>\n",
              "      <td>11:29 min/km</td>\n",
              "      <td>4 KM</td>\n",
              "    </tr>\n",
              "    <tr>\n",
              "      <th>954</th>\n",
              "      <td>2082 / 2220</td>\n",
              "      <td>955 / 1038</td>\n",
              "      <td>ee2e687b-c339-4f3f-a481-2bee50f01521</td>\n",
              "      <td>Female</td>\n",
              "      <td>4KM FUN RUN</td>\n",
              "      <td>[img:flags/SA.gif]</td>\n",
              "      <td>01:02:10.485</td>\n",
              "      <td>01:00:27.504</td>\n",
              "      <td>3.9 Km/Hr</td>\n",
              "      <td>15:06 min/km</td>\n",
              "      <td>4 KM</td>\n",
              "    </tr>\n",
              "    <tr>\n",
              "      <th>726</th>\n",
              "      <td>2237 / 2285</td>\n",
              "      <td>727 / 761</td>\n",
              "      <td>6b848725-e44d-42d8-a278-ae67faa9cb80</td>\n",
              "      <td>Female</td>\n",
              "      <td>10KM RUN</td>\n",
              "      <td>[img:flags/SA.gif]</td>\n",
              "      <td>02:13:55.905</td>\n",
              "      <td>02:06:30.992</td>\n",
              "      <td>4.7 Km/Hr</td>\n",
              "      <td>12:39 min/km</td>\n",
              "      <td>10 KM</td>\n",
              "    </tr>\n",
              "    <tr>\n",
              "      <th>487</th>\n",
              "      <td>577 / 1128</td>\n",
              "      <td>488 / 908</td>\n",
              "      <td>3ce2e755-b5ea-409a-9174-31778c11fcf0</td>\n",
              "      <td>Male</td>\n",
              "      <td>HALF MARATHON</td>\n",
              "      <td>[img:flags/SA.gif]</td>\n",
              "      <td>02:39:11.689</td>\n",
              "      <td>02:25:08.738</td>\n",
              "      <td>8.7 Km/Hr</td>\n",
              "      <td>6:52 min/km</td>\n",
              "      <td>21.1 KM</td>\n",
              "    </tr>\n",
              "  </tbody>\n",
              "</table>\n",
              "</div>\n",
              "    <div class=\"colab-df-buttons\">\n",
              "\n",
              "  <div class=\"colab-df-container\">\n",
              "    <button class=\"colab-df-convert\" onclick=\"convertToInteractive('df-c9137ed8-ebfe-49a9-a194-90766965563c')\"\n",
              "            title=\"Convert this dataframe to an interactive table.\"\n",
              "            style=\"display:none;\">\n",
              "\n",
              "  <svg xmlns=\"http://www.w3.org/2000/svg\" height=\"24px\" viewBox=\"0 -960 960 960\">\n",
              "    <path d=\"M120-120v-720h720v720H120Zm60-500h600v-160H180v160Zm220 220h160v-160H400v160Zm0 220h160v-160H400v160ZM180-400h160v-160H180v160Zm440 0h160v-160H620v160ZM180-180h160v-160H180v160Zm440 0h160v-160H620v160Z\"/>\n",
              "  </svg>\n",
              "    </button>\n",
              "\n",
              "  <style>\n",
              "    .colab-df-container {\n",
              "      display:flex;\n",
              "      gap: 12px;\n",
              "    }\n",
              "\n",
              "    .colab-df-convert {\n",
              "      background-color: #E8F0FE;\n",
              "      border: none;\n",
              "      border-radius: 50%;\n",
              "      cursor: pointer;\n",
              "      display: none;\n",
              "      fill: #1967D2;\n",
              "      height: 32px;\n",
              "      padding: 0 0 0 0;\n",
              "      width: 32px;\n",
              "    }\n",
              "\n",
              "    .colab-df-convert:hover {\n",
              "      background-color: #E2EBFA;\n",
              "      box-shadow: 0px 1px 2px rgba(60, 64, 67, 0.3), 0px 1px 3px 1px rgba(60, 64, 67, 0.15);\n",
              "      fill: #174EA6;\n",
              "    }\n",
              "\n",
              "    .colab-df-buttons div {\n",
              "      margin-bottom: 4px;\n",
              "    }\n",
              "\n",
              "    [theme=dark] .colab-df-convert {\n",
              "      background-color: #3B4455;\n",
              "      fill: #D2E3FC;\n",
              "    }\n",
              "\n",
              "    [theme=dark] .colab-df-convert:hover {\n",
              "      background-color: #434B5C;\n",
              "      box-shadow: 0px 1px 3px 1px rgba(0, 0, 0, 0.15);\n",
              "      filter: drop-shadow(0px 1px 2px rgba(0, 0, 0, 0.3));\n",
              "      fill: #FFFFFF;\n",
              "    }\n",
              "  </style>\n",
              "\n",
              "    <script>\n",
              "      const buttonEl =\n",
              "        document.querySelector('#df-c9137ed8-ebfe-49a9-a194-90766965563c button.colab-df-convert');\n",
              "      buttonEl.style.display =\n",
              "        google.colab.kernel.accessAllowed ? 'block' : 'none';\n",
              "\n",
              "      async function convertToInteractive(key) {\n",
              "        const element = document.querySelector('#df-c9137ed8-ebfe-49a9-a194-90766965563c');\n",
              "        const dataTable =\n",
              "          await google.colab.kernel.invokeFunction('convertToInteractive',\n",
              "                                                    [key], {});\n",
              "        if (!dataTable) return;\n",
              "\n",
              "        const docLinkHtml = 'Like what you see? Visit the ' +\n",
              "          '<a target=\"_blank\" href=https://colab.research.google.com/notebooks/data_table.ipynb>data table notebook</a>'\n",
              "          + ' to learn more about interactive tables.';\n",
              "        element.innerHTML = '';\n",
              "        dataTable['output_type'] = 'display_data';\n",
              "        await google.colab.output.renderOutput(dataTable, element);\n",
              "        const docLink = document.createElement('div');\n",
              "        docLink.innerHTML = docLinkHtml;\n",
              "        element.appendChild(docLink);\n",
              "      }\n",
              "    </script>\n",
              "  </div>\n",
              "\n",
              "\n",
              "<div id=\"df-c8d27fff-7002-44fa-99be-9c7c94a8deac\">\n",
              "  <button class=\"colab-df-quickchart\" onclick=\"quickchart('df-c8d27fff-7002-44fa-99be-9c7c94a8deac')\"\n",
              "            title=\"Suggest charts\"\n",
              "            style=\"display:none;\">\n",
              "\n",
              "<svg xmlns=\"http://www.w3.org/2000/svg\" height=\"24px\"viewBox=\"0 0 24 24\"\n",
              "     width=\"24px\">\n",
              "    <g>\n",
              "        <path d=\"M19 3H5c-1.1 0-2 .9-2 2v14c0 1.1.9 2 2 2h14c1.1 0 2-.9 2-2V5c0-1.1-.9-2-2-2zM9 17H7v-7h2v7zm4 0h-2V7h2v10zm4 0h-2v-4h2v4z\"/>\n",
              "    </g>\n",
              "</svg>\n",
              "  </button>\n",
              "\n",
              "<style>\n",
              "  .colab-df-quickchart {\n",
              "      --bg-color: #E8F0FE;\n",
              "      --fill-color: #1967D2;\n",
              "      --hover-bg-color: #E2EBFA;\n",
              "      --hover-fill-color: #174EA6;\n",
              "      --disabled-fill-color: #AAA;\n",
              "      --disabled-bg-color: #DDD;\n",
              "  }\n",
              "\n",
              "  [theme=dark] .colab-df-quickchart {\n",
              "      --bg-color: #3B4455;\n",
              "      --fill-color: #D2E3FC;\n",
              "      --hover-bg-color: #434B5C;\n",
              "      --hover-fill-color: #FFFFFF;\n",
              "      --disabled-bg-color: #3B4455;\n",
              "      --disabled-fill-color: #666;\n",
              "  }\n",
              "\n",
              "  .colab-df-quickchart {\n",
              "    background-color: var(--bg-color);\n",
              "    border: none;\n",
              "    border-radius: 50%;\n",
              "    cursor: pointer;\n",
              "    display: none;\n",
              "    fill: var(--fill-color);\n",
              "    height: 32px;\n",
              "    padding: 0;\n",
              "    width: 32px;\n",
              "  }\n",
              "\n",
              "  .colab-df-quickchart:hover {\n",
              "    background-color: var(--hover-bg-color);\n",
              "    box-shadow: 0 1px 2px rgba(60, 64, 67, 0.3), 0 1px 3px 1px rgba(60, 64, 67, 0.15);\n",
              "    fill: var(--button-hover-fill-color);\n",
              "  }\n",
              "\n",
              "  .colab-df-quickchart-complete:disabled,\n",
              "  .colab-df-quickchart-complete:disabled:hover {\n",
              "    background-color: var(--disabled-bg-color);\n",
              "    fill: var(--disabled-fill-color);\n",
              "    box-shadow: none;\n",
              "  }\n",
              "\n",
              "  .colab-df-spinner {\n",
              "    border: 2px solid var(--fill-color);\n",
              "    border-color: transparent;\n",
              "    border-bottom-color: var(--fill-color);\n",
              "    animation:\n",
              "      spin 1s steps(1) infinite;\n",
              "  }\n",
              "\n",
              "  @keyframes spin {\n",
              "    0% {\n",
              "      border-color: transparent;\n",
              "      border-bottom-color: var(--fill-color);\n",
              "      border-left-color: var(--fill-color);\n",
              "    }\n",
              "    20% {\n",
              "      border-color: transparent;\n",
              "      border-left-color: var(--fill-color);\n",
              "      border-top-color: var(--fill-color);\n",
              "    }\n",
              "    30% {\n",
              "      border-color: transparent;\n",
              "      border-left-color: var(--fill-color);\n",
              "      border-top-color: var(--fill-color);\n",
              "      border-right-color: var(--fill-color);\n",
              "    }\n",
              "    40% {\n",
              "      border-color: transparent;\n",
              "      border-right-color: var(--fill-color);\n",
              "      border-top-color: var(--fill-color);\n",
              "    }\n",
              "    60% {\n",
              "      border-color: transparent;\n",
              "      border-right-color: var(--fill-color);\n",
              "    }\n",
              "    80% {\n",
              "      border-color: transparent;\n",
              "      border-right-color: var(--fill-color);\n",
              "      border-bottom-color: var(--fill-color);\n",
              "    }\n",
              "    90% {\n",
              "      border-color: transparent;\n",
              "      border-bottom-color: var(--fill-color);\n",
              "    }\n",
              "  }\n",
              "</style>\n",
              "\n",
              "  <script>\n",
              "    async function quickchart(key) {\n",
              "      const quickchartButtonEl =\n",
              "        document.querySelector('#' + key + ' button');\n",
              "      quickchartButtonEl.disabled = true;  // To prevent multiple clicks.\n",
              "      quickchartButtonEl.classList.add('colab-df-spinner');\n",
              "      try {\n",
              "        const charts = await google.colab.kernel.invokeFunction(\n",
              "            'suggestCharts', [key], {});\n",
              "      } catch (error) {\n",
              "        console.error('Error during call to suggestCharts:', error);\n",
              "      }\n",
              "      quickchartButtonEl.classList.remove('colab-df-spinner');\n",
              "      quickchartButtonEl.classList.add('colab-df-quickchart-complete');\n",
              "    }\n",
              "    (() => {\n",
              "      let quickchartButtonEl =\n",
              "        document.querySelector('#df-c8d27fff-7002-44fa-99be-9c7c94a8deac button');\n",
              "      quickchartButtonEl.style.display =\n",
              "        google.colab.kernel.accessAllowed ? 'block' : 'none';\n",
              "    })();\n",
              "  </script>\n",
              "</div>\n",
              "\n",
              "    </div>\n",
              "  </div>\n"
            ],
            "application/vnd.google.colaboratory.intrinsic+json": {
              "type": "dataframe",
              "repr_error": "0"
            }
          },
          "metadata": {},
          "execution_count": 5
        }
      ]
    },
    {
      "cell_type": "code",
      "source": [
        "df.info()"
      ],
      "metadata": {
        "colab": {
          "base_uri": "https://localhost:8080/"
        },
        "id": "D1bBFNqH830E",
        "outputId": "642d4f2d-a9cf-43fe-be0a-60d632c6f8b3"
      },
      "execution_count": 6,
      "outputs": [
        {
          "output_type": "stream",
          "name": "stdout",
          "text": [
            "<class 'pandas.core.frame.DataFrame'>\n",
            "Int64Index: 6397 entries, 0 to 2\n",
            "Data columns (total 11 columns):\n",
            " #   Column       Non-Null Count  Dtype \n",
            "---  ------       --------------  ----- \n",
            " 0   Rank         6397 non-null   object\n",
            " 1   Gender Rank  6397 non-null   object\n",
            " 2   Name         6397 non-null   object\n",
            " 3   Gender       6397 non-null   object\n",
            " 4   Category     6397 non-null   object\n",
            " 5   Nationality  6085 non-null   object\n",
            " 6   Gun Time     6397 non-null   object\n",
            " 7   Chip Time    6227 non-null   object\n",
            " 8   Speed        6227 non-null   object\n",
            " 9   Pace         6227 non-null   object\n",
            " 10  Distance     6397 non-null   object\n",
            "dtypes: object(11)\n",
            "memory usage: 857.8+ KB\n"
          ]
        }
      ]
    },
    {
      "cell_type": "markdown",
      "source": [
        "## •\tExplore the structure of the dataset (number of rows and columns, data types, etc.)."
      ],
      "metadata": {
        "id": "HBUjOtZr4f0k"
      }
    },
    {
      "cell_type": "code",
      "source": [
        "df.shape"
      ],
      "metadata": {
        "colab": {
          "base_uri": "https://localhost:8080/"
        },
        "id": "kDqQ63HeVox8",
        "outputId": "f8182b2b-730a-44de-cdfa-c2a2f2778c43"
      },
      "execution_count": 7,
      "outputs": [
        {
          "output_type": "execute_result",
          "data": {
            "text/plain": [
              "(6397, 11)"
            ]
          },
          "metadata": {},
          "execution_count": 7
        }
      ]
    },
    {
      "cell_type": "markdown",
      "source": [
        "As we can see here , there is a 6397 rows, and 11 columns.\n",
        "\n",
        "also we notice that 4 columns have Nan values, and all columns have the same dtypes."
      ],
      "metadata": {
        "id": "J_r4aSxj-S7L"
      }
    },
    {
      "cell_type": "code",
      "source": [
        "df.dtypes"
      ],
      "metadata": {
        "colab": {
          "base_uri": "https://localhost:8080/"
        },
        "id": "N9fEsGIC7jh_",
        "outputId": "a8f5b516-26b2-4003-befc-52f990bd6783"
      },
      "execution_count": 8,
      "outputs": [
        {
          "output_type": "execute_result",
          "data": {
            "text/plain": [
              "Rank           object\n",
              "Gender Rank    object\n",
              "Name           object\n",
              "Gender         object\n",
              "Category       object\n",
              "Nationality    object\n",
              "Gun Time       object\n",
              "Chip Time      object\n",
              "Speed          object\n",
              "Pace           object\n",
              "Distance       object\n",
              "dtype: object"
            ]
          },
          "metadata": {},
          "execution_count": 8
        }
      ]
    },
    {
      "cell_type": "code",
      "source": [
        "df.describe()"
      ],
      "metadata": {
        "colab": {
          "base_uri": "https://localhost:8080/",
          "height": 175
        },
        "id": "x_NSpLuJCngf",
        "outputId": "e5d5a9b1-2970-45b3-a2ef-3a863cd76369"
      },
      "execution_count": 9,
      "outputs": [
        {
          "output_type": "execute_result",
          "data": {
            "text/plain": [
              "        Rank Gender Rank                                  Name Gender  \\\n",
              "count   6397        6397                                  6397   6397   \n",
              "unique  6031        6028                                    12      2   \n",
              "top        -           -  6e60b635-494b-4bbd-9a92-bb52ae2bf140   Male   \n",
              "freq     367         367                                  1579   4213   \n",
              "\n",
              "        Category         Nationality             Gun Time     Chip Time  \\\n",
              "count       6397                6085                 6397          6227   \n",
              "unique         6                  85                 6216          6223   \n",
              "top     10KM RUN  [img:flags/SA.gif]  [22526.31|hh:mm:ss]  01:20:48.160   \n",
              "freq        2374                3442                  102             2   \n",
              "\n",
              "            Speed         Pace Distance  \n",
              "count        6227         6227     6397  \n",
              "unique        182          817       12  \n",
              "top     6.1 Km/Hr  6:52 min/km    10 KM  \n",
              "freq          120           29     2360  "
            ],
            "text/html": [
              "\n",
              "  <div id=\"df-83e8224e-172f-473c-a4ea-cd6eeb3158d0\" class=\"colab-df-container\">\n",
              "    <div>\n",
              "<style scoped>\n",
              "    .dataframe tbody tr th:only-of-type {\n",
              "        vertical-align: middle;\n",
              "    }\n",
              "\n",
              "    .dataframe tbody tr th {\n",
              "        vertical-align: top;\n",
              "    }\n",
              "\n",
              "    .dataframe thead th {\n",
              "        text-align: right;\n",
              "    }\n",
              "</style>\n",
              "<table border=\"1\" class=\"dataframe\">\n",
              "  <thead>\n",
              "    <tr style=\"text-align: right;\">\n",
              "      <th></th>\n",
              "      <th>Rank</th>\n",
              "      <th>Gender Rank</th>\n",
              "      <th>Name</th>\n",
              "      <th>Gender</th>\n",
              "      <th>Category</th>\n",
              "      <th>Nationality</th>\n",
              "      <th>Gun Time</th>\n",
              "      <th>Chip Time</th>\n",
              "      <th>Speed</th>\n",
              "      <th>Pace</th>\n",
              "      <th>Distance</th>\n",
              "    </tr>\n",
              "  </thead>\n",
              "  <tbody>\n",
              "    <tr>\n",
              "      <th>count</th>\n",
              "      <td>6397</td>\n",
              "      <td>6397</td>\n",
              "      <td>6397</td>\n",
              "      <td>6397</td>\n",
              "      <td>6397</td>\n",
              "      <td>6085</td>\n",
              "      <td>6397</td>\n",
              "      <td>6227</td>\n",
              "      <td>6227</td>\n",
              "      <td>6227</td>\n",
              "      <td>6397</td>\n",
              "    </tr>\n",
              "    <tr>\n",
              "      <th>unique</th>\n",
              "      <td>6031</td>\n",
              "      <td>6028</td>\n",
              "      <td>12</td>\n",
              "      <td>2</td>\n",
              "      <td>6</td>\n",
              "      <td>85</td>\n",
              "      <td>6216</td>\n",
              "      <td>6223</td>\n",
              "      <td>182</td>\n",
              "      <td>817</td>\n",
              "      <td>12</td>\n",
              "    </tr>\n",
              "    <tr>\n",
              "      <th>top</th>\n",
              "      <td>-</td>\n",
              "      <td>-</td>\n",
              "      <td>6e60b635-494b-4bbd-9a92-bb52ae2bf140</td>\n",
              "      <td>Male</td>\n",
              "      <td>10KM RUN</td>\n",
              "      <td>[img:flags/SA.gif]</td>\n",
              "      <td>[22526.31|hh:mm:ss]</td>\n",
              "      <td>01:20:48.160</td>\n",
              "      <td>6.1 Km/Hr</td>\n",
              "      <td>6:52 min/km</td>\n",
              "      <td>10 KM</td>\n",
              "    </tr>\n",
              "    <tr>\n",
              "      <th>freq</th>\n",
              "      <td>367</td>\n",
              "      <td>367</td>\n",
              "      <td>1579</td>\n",
              "      <td>4213</td>\n",
              "      <td>2374</td>\n",
              "      <td>3442</td>\n",
              "      <td>102</td>\n",
              "      <td>2</td>\n",
              "      <td>120</td>\n",
              "      <td>29</td>\n",
              "      <td>2360</td>\n",
              "    </tr>\n",
              "  </tbody>\n",
              "</table>\n",
              "</div>\n",
              "    <div class=\"colab-df-buttons\">\n",
              "\n",
              "  <div class=\"colab-df-container\">\n",
              "    <button class=\"colab-df-convert\" onclick=\"convertToInteractive('df-83e8224e-172f-473c-a4ea-cd6eeb3158d0')\"\n",
              "            title=\"Convert this dataframe to an interactive table.\"\n",
              "            style=\"display:none;\">\n",
              "\n",
              "  <svg xmlns=\"http://www.w3.org/2000/svg\" height=\"24px\" viewBox=\"0 -960 960 960\">\n",
              "    <path d=\"M120-120v-720h720v720H120Zm60-500h600v-160H180v160Zm220 220h160v-160H400v160Zm0 220h160v-160H400v160ZM180-400h160v-160H180v160Zm440 0h160v-160H620v160ZM180-180h160v-160H180v160Zm440 0h160v-160H620v160Z\"/>\n",
              "  </svg>\n",
              "    </button>\n",
              "\n",
              "  <style>\n",
              "    .colab-df-container {\n",
              "      display:flex;\n",
              "      gap: 12px;\n",
              "    }\n",
              "\n",
              "    .colab-df-convert {\n",
              "      background-color: #E8F0FE;\n",
              "      border: none;\n",
              "      border-radius: 50%;\n",
              "      cursor: pointer;\n",
              "      display: none;\n",
              "      fill: #1967D2;\n",
              "      height: 32px;\n",
              "      padding: 0 0 0 0;\n",
              "      width: 32px;\n",
              "    }\n",
              "\n",
              "    .colab-df-convert:hover {\n",
              "      background-color: #E2EBFA;\n",
              "      box-shadow: 0px 1px 2px rgba(60, 64, 67, 0.3), 0px 1px 3px 1px rgba(60, 64, 67, 0.15);\n",
              "      fill: #174EA6;\n",
              "    }\n",
              "\n",
              "    .colab-df-buttons div {\n",
              "      margin-bottom: 4px;\n",
              "    }\n",
              "\n",
              "    [theme=dark] .colab-df-convert {\n",
              "      background-color: #3B4455;\n",
              "      fill: #D2E3FC;\n",
              "    }\n",
              "\n",
              "    [theme=dark] .colab-df-convert:hover {\n",
              "      background-color: #434B5C;\n",
              "      box-shadow: 0px 1px 3px 1px rgba(0, 0, 0, 0.15);\n",
              "      filter: drop-shadow(0px 1px 2px rgba(0, 0, 0, 0.3));\n",
              "      fill: #FFFFFF;\n",
              "    }\n",
              "  </style>\n",
              "\n",
              "    <script>\n",
              "      const buttonEl =\n",
              "        document.querySelector('#df-83e8224e-172f-473c-a4ea-cd6eeb3158d0 button.colab-df-convert');\n",
              "      buttonEl.style.display =\n",
              "        google.colab.kernel.accessAllowed ? 'block' : 'none';\n",
              "\n",
              "      async function convertToInteractive(key) {\n",
              "        const element = document.querySelector('#df-83e8224e-172f-473c-a4ea-cd6eeb3158d0');\n",
              "        const dataTable =\n",
              "          await google.colab.kernel.invokeFunction('convertToInteractive',\n",
              "                                                    [key], {});\n",
              "        if (!dataTable) return;\n",
              "\n",
              "        const docLinkHtml = 'Like what you see? Visit the ' +\n",
              "          '<a target=\"_blank\" href=https://colab.research.google.com/notebooks/data_table.ipynb>data table notebook</a>'\n",
              "          + ' to learn more about interactive tables.';\n",
              "        element.innerHTML = '';\n",
              "        dataTable['output_type'] = 'display_data';\n",
              "        await google.colab.output.renderOutput(dataTable, element);\n",
              "        const docLink = document.createElement('div');\n",
              "        docLink.innerHTML = docLinkHtml;\n",
              "        element.appendChild(docLink);\n",
              "      }\n",
              "    </script>\n",
              "  </div>\n",
              "\n",
              "\n",
              "<div id=\"df-4a862343-2dc6-48eb-a7fe-cc1c152641fb\">\n",
              "  <button class=\"colab-df-quickchart\" onclick=\"quickchart('df-4a862343-2dc6-48eb-a7fe-cc1c152641fb')\"\n",
              "            title=\"Suggest charts\"\n",
              "            style=\"display:none;\">\n",
              "\n",
              "<svg xmlns=\"http://www.w3.org/2000/svg\" height=\"24px\"viewBox=\"0 0 24 24\"\n",
              "     width=\"24px\">\n",
              "    <g>\n",
              "        <path d=\"M19 3H5c-1.1 0-2 .9-2 2v14c0 1.1.9 2 2 2h14c1.1 0 2-.9 2-2V5c0-1.1-.9-2-2-2zM9 17H7v-7h2v7zm4 0h-2V7h2v10zm4 0h-2v-4h2v4z\"/>\n",
              "    </g>\n",
              "</svg>\n",
              "  </button>\n",
              "\n",
              "<style>\n",
              "  .colab-df-quickchart {\n",
              "      --bg-color: #E8F0FE;\n",
              "      --fill-color: #1967D2;\n",
              "      --hover-bg-color: #E2EBFA;\n",
              "      --hover-fill-color: #174EA6;\n",
              "      --disabled-fill-color: #AAA;\n",
              "      --disabled-bg-color: #DDD;\n",
              "  }\n",
              "\n",
              "  [theme=dark] .colab-df-quickchart {\n",
              "      --bg-color: #3B4455;\n",
              "      --fill-color: #D2E3FC;\n",
              "      --hover-bg-color: #434B5C;\n",
              "      --hover-fill-color: #FFFFFF;\n",
              "      --disabled-bg-color: #3B4455;\n",
              "      --disabled-fill-color: #666;\n",
              "  }\n",
              "\n",
              "  .colab-df-quickchart {\n",
              "    background-color: var(--bg-color);\n",
              "    border: none;\n",
              "    border-radius: 50%;\n",
              "    cursor: pointer;\n",
              "    display: none;\n",
              "    fill: var(--fill-color);\n",
              "    height: 32px;\n",
              "    padding: 0;\n",
              "    width: 32px;\n",
              "  }\n",
              "\n",
              "  .colab-df-quickchart:hover {\n",
              "    background-color: var(--hover-bg-color);\n",
              "    box-shadow: 0 1px 2px rgba(60, 64, 67, 0.3), 0 1px 3px 1px rgba(60, 64, 67, 0.15);\n",
              "    fill: var(--button-hover-fill-color);\n",
              "  }\n",
              "\n",
              "  .colab-df-quickchart-complete:disabled,\n",
              "  .colab-df-quickchart-complete:disabled:hover {\n",
              "    background-color: var(--disabled-bg-color);\n",
              "    fill: var(--disabled-fill-color);\n",
              "    box-shadow: none;\n",
              "  }\n",
              "\n",
              "  .colab-df-spinner {\n",
              "    border: 2px solid var(--fill-color);\n",
              "    border-color: transparent;\n",
              "    border-bottom-color: var(--fill-color);\n",
              "    animation:\n",
              "      spin 1s steps(1) infinite;\n",
              "  }\n",
              "\n",
              "  @keyframes spin {\n",
              "    0% {\n",
              "      border-color: transparent;\n",
              "      border-bottom-color: var(--fill-color);\n",
              "      border-left-color: var(--fill-color);\n",
              "    }\n",
              "    20% {\n",
              "      border-color: transparent;\n",
              "      border-left-color: var(--fill-color);\n",
              "      border-top-color: var(--fill-color);\n",
              "    }\n",
              "    30% {\n",
              "      border-color: transparent;\n",
              "      border-left-color: var(--fill-color);\n",
              "      border-top-color: var(--fill-color);\n",
              "      border-right-color: var(--fill-color);\n",
              "    }\n",
              "    40% {\n",
              "      border-color: transparent;\n",
              "      border-right-color: var(--fill-color);\n",
              "      border-top-color: var(--fill-color);\n",
              "    }\n",
              "    60% {\n",
              "      border-color: transparent;\n",
              "      border-right-color: var(--fill-color);\n",
              "    }\n",
              "    80% {\n",
              "      border-color: transparent;\n",
              "      border-right-color: var(--fill-color);\n",
              "      border-bottom-color: var(--fill-color);\n",
              "    }\n",
              "    90% {\n",
              "      border-color: transparent;\n",
              "      border-bottom-color: var(--fill-color);\n",
              "    }\n",
              "  }\n",
              "</style>\n",
              "\n",
              "  <script>\n",
              "    async function quickchart(key) {\n",
              "      const quickchartButtonEl =\n",
              "        document.querySelector('#' + key + ' button');\n",
              "      quickchartButtonEl.disabled = true;  // To prevent multiple clicks.\n",
              "      quickchartButtonEl.classList.add('colab-df-spinner');\n",
              "      try {\n",
              "        const charts = await google.colab.kernel.invokeFunction(\n",
              "            'suggestCharts', [key], {});\n",
              "      } catch (error) {\n",
              "        console.error('Error during call to suggestCharts:', error);\n",
              "      }\n",
              "      quickchartButtonEl.classList.remove('colab-df-spinner');\n",
              "      quickchartButtonEl.classList.add('colab-df-quickchart-complete');\n",
              "    }\n",
              "    (() => {\n",
              "      let quickchartButtonEl =\n",
              "        document.querySelector('#df-4a862343-2dc6-48eb-a7fe-cc1c152641fb button');\n",
              "      quickchartButtonEl.style.display =\n",
              "        google.colab.kernel.accessAllowed ? 'block' : 'none';\n",
              "    })();\n",
              "  </script>\n",
              "</div>\n",
              "\n",
              "    </div>\n",
              "  </div>\n"
            ],
            "application/vnd.google.colaboratory.intrinsic+json": {
              "type": "dataframe",
              "summary": "{\n  \"name\": \"df\",\n  \"rows\": 4,\n  \"fields\": [\n    {\n      \"column\": \"Rank\",\n      \"properties\": {\n        \"dtype\": \"string\",\n        \"num_unique_values\": 4,\n        \"samples\": [\n          6031,\n          \"367\",\n          \"6397\"\n        ],\n        \"semantic_type\": \"\",\n        \"description\": \"\"\n      }\n    },\n    {\n      \"column\": \"Gender Rank\",\n      \"properties\": {\n        \"dtype\": \"string\",\n        \"num_unique_values\": 4,\n        \"samples\": [\n          6028,\n          \"367\",\n          \"6397\"\n        ],\n        \"semantic_type\": \"\",\n        \"description\": \"\"\n      }\n    },\n    {\n      \"column\": \"Name\",\n      \"properties\": {\n        \"dtype\": \"string\",\n        \"num_unique_values\": 4,\n        \"samples\": [\n          12,\n          \"1579\",\n          \"6397\"\n        ],\n        \"semantic_type\": \"\",\n        \"description\": \"\"\n      }\n    },\n    {\n      \"column\": \"Gender\",\n      \"properties\": {\n        \"dtype\": \"string\",\n        \"num_unique_values\": 4,\n        \"samples\": [\n          2,\n          \"4213\",\n          \"6397\"\n        ],\n        \"semantic_type\": \"\",\n        \"description\": \"\"\n      }\n    },\n    {\n      \"column\": \"Category\",\n      \"properties\": {\n        \"dtype\": \"string\",\n        \"num_unique_values\": 4,\n        \"samples\": [\n          6,\n          \"2374\",\n          \"6397\"\n        ],\n        \"semantic_type\": \"\",\n        \"description\": \"\"\n      }\n    },\n    {\n      \"column\": \"Nationality\",\n      \"properties\": {\n        \"dtype\": \"string\",\n        \"num_unique_values\": 4,\n        \"samples\": [\n          85,\n          \"3442\",\n          \"6085\"\n        ],\n        \"semantic_type\": \"\",\n        \"description\": \"\"\n      }\n    },\n    {\n      \"column\": \"Gun Time\",\n      \"properties\": {\n        \"dtype\": \"string\",\n        \"num_unique_values\": 4,\n        \"samples\": [\n          6216,\n          \"102\",\n          \"6397\"\n        ],\n        \"semantic_type\": \"\",\n        \"description\": \"\"\n      }\n    },\n    {\n      \"column\": \"Chip Time\",\n      \"properties\": {\n        \"dtype\": \"date\",\n        \"min\": \"1970-01-01 00:00:00.000000002\",\n        \"max\": \"2024-04-01 01:20:48.160000\",\n        \"num_unique_values\": 4,\n        \"samples\": [\n          6223,\n          \"2\",\n          \"6227\"\n        ],\n        \"semantic_type\": \"\",\n        \"description\": \"\"\n      }\n    },\n    {\n      \"column\": \"Speed\",\n      \"properties\": {\n        \"dtype\": \"string\",\n        \"num_unique_values\": 4,\n        \"samples\": [\n          182,\n          \"120\",\n          \"6227\"\n        ],\n        \"semantic_type\": \"\",\n        \"description\": \"\"\n      }\n    },\n    {\n      \"column\": \"Pace\",\n      \"properties\": {\n        \"dtype\": \"string\",\n        \"num_unique_values\": 4,\n        \"samples\": [\n          817,\n          \"29\",\n          \"6227\"\n        ],\n        \"semantic_type\": \"\",\n        \"description\": \"\"\n      }\n    },\n    {\n      \"column\": \"Distance\",\n      \"properties\": {\n        \"dtype\": \"string\",\n        \"num_unique_values\": 4,\n        \"samples\": [\n          12,\n          \"2360\",\n          \"6397\"\n        ],\n        \"semantic_type\": \"\",\n        \"description\": \"\"\n      }\n    }\n  ]\n}"
            }
          },
          "metadata": {},
          "execution_count": 9
        }
      ]
    },
    {
      "cell_type": "markdown",
      "source": [
        "# Data cleaning"
      ],
      "metadata": {
        "id": "2r-B9qXp5IdT"
      }
    },
    {
      "cell_type": "code",
      "source": [
        "df.rename(columns = {'Gun Time': 'Gun_Time','Chip Time':'Chip_Time','Speed':'Speed_Km/Hr','Pace':'Pace_min/km','Distance':'Distance_KM'}, inplace = True)\n",
        "df"
      ],
      "metadata": {
        "id": "xYJ-jI55Z2jL",
        "colab": {
          "base_uri": "https://localhost:8080/",
          "height": 423
        },
        "outputId": "14c9c8b7-527e-4952-ae27-fc3155ff4217"
      },
      "execution_count": 10,
      "outputs": [
        {
          "output_type": "execute_result",
          "data": {
            "text/plain": [
              "         Rank Gender Rank                                  Name  Gender  \\\n",
              "0   46 / 2285     1 / 761  6b848725-e44d-42d8-a278-ae67faa9cb80  Female   \n",
              "1   53 / 2285     2 / 761  6b848725-e44d-42d8-a278-ae67faa9cb80  Female   \n",
              "2   55 / 2285     3 / 761  6b848725-e44d-42d8-a278-ae67faa9cb80  Female   \n",
              "3   88 / 2285     4 / 761  6b848725-e44d-42d8-a278-ae67faa9cb80  Female   \n",
              "4   93 / 2285     5 / 761  6b848725-e44d-42d8-a278-ae67faa9cb80  Female   \n",
              "..        ...         ...                                   ...     ...   \n",
              "1       5 / 6       2 / 3  cde359f8-5d73-4426-8ba6-cf021cfddbfc  Female   \n",
              "2       6 / 6       3 / 3  cde359f8-5d73-4426-8ba6-cf021cfddbfc  Female   \n",
              "0       1 / 6       1 / 3  7aa1ce03-6d9c-4b53-93a9-d01b1bae7334    Male   \n",
              "1       2 / 6       2 / 3  7aa1ce03-6d9c-4b53-93a9-d01b1bae7334    Male   \n",
              "2       3 / 6       3 / 3  7aa1ce03-6d9c-4b53-93a9-d01b1bae7334    Male   \n",
              "\n",
              "               Category         Nationality      Gun_Time     Chip_Time  \\\n",
              "0              10KM RUN  [img:flags/SA.gif]  00:42:59.556  00:42:57.505   \n",
              "1              10KM RUN  [img:flags/CZ.gif]  00:43:28.175  00:43:24.774   \n",
              "2              10KM RUN  [img:flags/SA.gif]  00:44:00.251  00:43:56.317   \n",
              "3              10KM RUN  [img:flags/MA.gif]  00:48:28.115  00:48:22.908   \n",
              "4              10KM RUN  [img:flags/SA.gif]  00:58:37.753  00:48:27.714   \n",
              "..                  ...                 ...           ...           ...   \n",
              "1   HALF MARATHON ELITE  [img:flags/ET.gif]  01:12:12.475  01:12:08.442   \n",
              "2   HALF MARATHON ELITE  [img:flags/UA.gif]  01:18:23.645  01:18:20.056   \n",
              "0   HALF MARATHON ELITE  [img:flags/KE.gif]  01:04:04.250  01:04:00.497   \n",
              "1   HALF MARATHON ELITE  [img:flags/KE.gif]  01:04:06.571  01:04:03.202   \n",
              "2   HALF MARATHON ELITE  [img:flags/KE.gif]  01:04:09.986  01:04:06.290   \n",
              "\n",
              "   Speed_Km/Hr  Pace_min/km Distance_KM  \n",
              "0   13.9 Km/Hr  4:17 min/km       10 KM  \n",
              "1   13.8 Km/Hr  4:20 min/km       10 KM  \n",
              "2   13.6 Km/Hr  4:23 min/km       10 KM  \n",
              "3   12.4 Km/Hr  4:50 min/km       10 KM  \n",
              "4   12.3 Km/Hr  4:50 min/km       10 KM  \n",
              "..         ...          ...         ...  \n",
              "1   17.5 Km/Hr  3:25 min/km     21.1 KM  \n",
              "2   16.1 Km/Hr  3:42 min/km     21.1 KM  \n",
              "0   19.7 Km/Hr  3:02 min/km     21.1 KM  \n",
              "1   19.7 Km/Hr  3:02 min/km     21.1 KM  \n",
              "2   19.7 Km/Hr  3:02 min/km     21.1 KM  \n",
              "\n",
              "[6397 rows x 11 columns]"
            ],
            "text/html": [
              "\n",
              "  <div id=\"df-d30a0785-f891-43e1-89e6-3b2e705285c5\" class=\"colab-df-container\">\n",
              "    <div>\n",
              "<style scoped>\n",
              "    .dataframe tbody tr th:only-of-type {\n",
              "        vertical-align: middle;\n",
              "    }\n",
              "\n",
              "    .dataframe tbody tr th {\n",
              "        vertical-align: top;\n",
              "    }\n",
              "\n",
              "    .dataframe thead th {\n",
              "        text-align: right;\n",
              "    }\n",
              "</style>\n",
              "<table border=\"1\" class=\"dataframe\">\n",
              "  <thead>\n",
              "    <tr style=\"text-align: right;\">\n",
              "      <th></th>\n",
              "      <th>Rank</th>\n",
              "      <th>Gender Rank</th>\n",
              "      <th>Name</th>\n",
              "      <th>Gender</th>\n",
              "      <th>Category</th>\n",
              "      <th>Nationality</th>\n",
              "      <th>Gun_Time</th>\n",
              "      <th>Chip_Time</th>\n",
              "      <th>Speed_Km/Hr</th>\n",
              "      <th>Pace_min/km</th>\n",
              "      <th>Distance_KM</th>\n",
              "    </tr>\n",
              "  </thead>\n",
              "  <tbody>\n",
              "    <tr>\n",
              "      <th>0</th>\n",
              "      <td>46 / 2285</td>\n",
              "      <td>1 / 761</td>\n",
              "      <td>6b848725-e44d-42d8-a278-ae67faa9cb80</td>\n",
              "      <td>Female</td>\n",
              "      <td>10KM RUN</td>\n",
              "      <td>[img:flags/SA.gif]</td>\n",
              "      <td>00:42:59.556</td>\n",
              "      <td>00:42:57.505</td>\n",
              "      <td>13.9 Km/Hr</td>\n",
              "      <td>4:17 min/km</td>\n",
              "      <td>10 KM</td>\n",
              "    </tr>\n",
              "    <tr>\n",
              "      <th>1</th>\n",
              "      <td>53 / 2285</td>\n",
              "      <td>2 / 761</td>\n",
              "      <td>6b848725-e44d-42d8-a278-ae67faa9cb80</td>\n",
              "      <td>Female</td>\n",
              "      <td>10KM RUN</td>\n",
              "      <td>[img:flags/CZ.gif]</td>\n",
              "      <td>00:43:28.175</td>\n",
              "      <td>00:43:24.774</td>\n",
              "      <td>13.8 Km/Hr</td>\n",
              "      <td>4:20 min/km</td>\n",
              "      <td>10 KM</td>\n",
              "    </tr>\n",
              "    <tr>\n",
              "      <th>2</th>\n",
              "      <td>55 / 2285</td>\n",
              "      <td>3 / 761</td>\n",
              "      <td>6b848725-e44d-42d8-a278-ae67faa9cb80</td>\n",
              "      <td>Female</td>\n",
              "      <td>10KM RUN</td>\n",
              "      <td>[img:flags/SA.gif]</td>\n",
              "      <td>00:44:00.251</td>\n",
              "      <td>00:43:56.317</td>\n",
              "      <td>13.6 Km/Hr</td>\n",
              "      <td>4:23 min/km</td>\n",
              "      <td>10 KM</td>\n",
              "    </tr>\n",
              "    <tr>\n",
              "      <th>3</th>\n",
              "      <td>88 / 2285</td>\n",
              "      <td>4 / 761</td>\n",
              "      <td>6b848725-e44d-42d8-a278-ae67faa9cb80</td>\n",
              "      <td>Female</td>\n",
              "      <td>10KM RUN</td>\n",
              "      <td>[img:flags/MA.gif]</td>\n",
              "      <td>00:48:28.115</td>\n",
              "      <td>00:48:22.908</td>\n",
              "      <td>12.4 Km/Hr</td>\n",
              "      <td>4:50 min/km</td>\n",
              "      <td>10 KM</td>\n",
              "    </tr>\n",
              "    <tr>\n",
              "      <th>4</th>\n",
              "      <td>93 / 2285</td>\n",
              "      <td>5 / 761</td>\n",
              "      <td>6b848725-e44d-42d8-a278-ae67faa9cb80</td>\n",
              "      <td>Female</td>\n",
              "      <td>10KM RUN</td>\n",
              "      <td>[img:flags/SA.gif]</td>\n",
              "      <td>00:58:37.753</td>\n",
              "      <td>00:48:27.714</td>\n",
              "      <td>12.3 Km/Hr</td>\n",
              "      <td>4:50 min/km</td>\n",
              "      <td>10 KM</td>\n",
              "    </tr>\n",
              "    <tr>\n",
              "      <th>...</th>\n",
              "      <td>...</td>\n",
              "      <td>...</td>\n",
              "      <td>...</td>\n",
              "      <td>...</td>\n",
              "      <td>...</td>\n",
              "      <td>...</td>\n",
              "      <td>...</td>\n",
              "      <td>...</td>\n",
              "      <td>...</td>\n",
              "      <td>...</td>\n",
              "      <td>...</td>\n",
              "    </tr>\n",
              "    <tr>\n",
              "      <th>1</th>\n",
              "      <td>5 / 6</td>\n",
              "      <td>2 / 3</td>\n",
              "      <td>cde359f8-5d73-4426-8ba6-cf021cfddbfc</td>\n",
              "      <td>Female</td>\n",
              "      <td>HALF MARATHON ELITE</td>\n",
              "      <td>[img:flags/ET.gif]</td>\n",
              "      <td>01:12:12.475</td>\n",
              "      <td>01:12:08.442</td>\n",
              "      <td>17.5 Km/Hr</td>\n",
              "      <td>3:25 min/km</td>\n",
              "      <td>21.1 KM</td>\n",
              "    </tr>\n",
              "    <tr>\n",
              "      <th>2</th>\n",
              "      <td>6 / 6</td>\n",
              "      <td>3 / 3</td>\n",
              "      <td>cde359f8-5d73-4426-8ba6-cf021cfddbfc</td>\n",
              "      <td>Female</td>\n",
              "      <td>HALF MARATHON ELITE</td>\n",
              "      <td>[img:flags/UA.gif]</td>\n",
              "      <td>01:18:23.645</td>\n",
              "      <td>01:18:20.056</td>\n",
              "      <td>16.1 Km/Hr</td>\n",
              "      <td>3:42 min/km</td>\n",
              "      <td>21.1 KM</td>\n",
              "    </tr>\n",
              "    <tr>\n",
              "      <th>0</th>\n",
              "      <td>1 / 6</td>\n",
              "      <td>1 / 3</td>\n",
              "      <td>7aa1ce03-6d9c-4b53-93a9-d01b1bae7334</td>\n",
              "      <td>Male</td>\n",
              "      <td>HALF MARATHON ELITE</td>\n",
              "      <td>[img:flags/KE.gif]</td>\n",
              "      <td>01:04:04.250</td>\n",
              "      <td>01:04:00.497</td>\n",
              "      <td>19.7 Km/Hr</td>\n",
              "      <td>3:02 min/km</td>\n",
              "      <td>21.1 KM</td>\n",
              "    </tr>\n",
              "    <tr>\n",
              "      <th>1</th>\n",
              "      <td>2 / 6</td>\n",
              "      <td>2 / 3</td>\n",
              "      <td>7aa1ce03-6d9c-4b53-93a9-d01b1bae7334</td>\n",
              "      <td>Male</td>\n",
              "      <td>HALF MARATHON ELITE</td>\n",
              "      <td>[img:flags/KE.gif]</td>\n",
              "      <td>01:04:06.571</td>\n",
              "      <td>01:04:03.202</td>\n",
              "      <td>19.7 Km/Hr</td>\n",
              "      <td>3:02 min/km</td>\n",
              "      <td>21.1 KM</td>\n",
              "    </tr>\n",
              "    <tr>\n",
              "      <th>2</th>\n",
              "      <td>3 / 6</td>\n",
              "      <td>3 / 3</td>\n",
              "      <td>7aa1ce03-6d9c-4b53-93a9-d01b1bae7334</td>\n",
              "      <td>Male</td>\n",
              "      <td>HALF MARATHON ELITE</td>\n",
              "      <td>[img:flags/KE.gif]</td>\n",
              "      <td>01:04:09.986</td>\n",
              "      <td>01:04:06.290</td>\n",
              "      <td>19.7 Km/Hr</td>\n",
              "      <td>3:02 min/km</td>\n",
              "      <td>21.1 KM</td>\n",
              "    </tr>\n",
              "  </tbody>\n",
              "</table>\n",
              "<p>6397 rows × 11 columns</p>\n",
              "</div>\n",
              "    <div class=\"colab-df-buttons\">\n",
              "\n",
              "  <div class=\"colab-df-container\">\n",
              "    <button class=\"colab-df-convert\" onclick=\"convertToInteractive('df-d30a0785-f891-43e1-89e6-3b2e705285c5')\"\n",
              "            title=\"Convert this dataframe to an interactive table.\"\n",
              "            style=\"display:none;\">\n",
              "\n",
              "  <svg xmlns=\"http://www.w3.org/2000/svg\" height=\"24px\" viewBox=\"0 -960 960 960\">\n",
              "    <path d=\"M120-120v-720h720v720H120Zm60-500h600v-160H180v160Zm220 220h160v-160H400v160Zm0 220h160v-160H400v160ZM180-400h160v-160H180v160Zm440 0h160v-160H620v160ZM180-180h160v-160H180v160Zm440 0h160v-160H620v160Z\"/>\n",
              "  </svg>\n",
              "    </button>\n",
              "\n",
              "  <style>\n",
              "    .colab-df-container {\n",
              "      display:flex;\n",
              "      gap: 12px;\n",
              "    }\n",
              "\n",
              "    .colab-df-convert {\n",
              "      background-color: #E8F0FE;\n",
              "      border: none;\n",
              "      border-radius: 50%;\n",
              "      cursor: pointer;\n",
              "      display: none;\n",
              "      fill: #1967D2;\n",
              "      height: 32px;\n",
              "      padding: 0 0 0 0;\n",
              "      width: 32px;\n",
              "    }\n",
              "\n",
              "    .colab-df-convert:hover {\n",
              "      background-color: #E2EBFA;\n",
              "      box-shadow: 0px 1px 2px rgba(60, 64, 67, 0.3), 0px 1px 3px 1px rgba(60, 64, 67, 0.15);\n",
              "      fill: #174EA6;\n",
              "    }\n",
              "\n",
              "    .colab-df-buttons div {\n",
              "      margin-bottom: 4px;\n",
              "    }\n",
              "\n",
              "    [theme=dark] .colab-df-convert {\n",
              "      background-color: #3B4455;\n",
              "      fill: #D2E3FC;\n",
              "    }\n",
              "\n",
              "    [theme=dark] .colab-df-convert:hover {\n",
              "      background-color: #434B5C;\n",
              "      box-shadow: 0px 1px 3px 1px rgba(0, 0, 0, 0.15);\n",
              "      filter: drop-shadow(0px 1px 2px rgba(0, 0, 0, 0.3));\n",
              "      fill: #FFFFFF;\n",
              "    }\n",
              "  </style>\n",
              "\n",
              "    <script>\n",
              "      const buttonEl =\n",
              "        document.querySelector('#df-d30a0785-f891-43e1-89e6-3b2e705285c5 button.colab-df-convert');\n",
              "      buttonEl.style.display =\n",
              "        google.colab.kernel.accessAllowed ? 'block' : 'none';\n",
              "\n",
              "      async function convertToInteractive(key) {\n",
              "        const element = document.querySelector('#df-d30a0785-f891-43e1-89e6-3b2e705285c5');\n",
              "        const dataTable =\n",
              "          await google.colab.kernel.invokeFunction('convertToInteractive',\n",
              "                                                    [key], {});\n",
              "        if (!dataTable) return;\n",
              "\n",
              "        const docLinkHtml = 'Like what you see? Visit the ' +\n",
              "          '<a target=\"_blank\" href=https://colab.research.google.com/notebooks/data_table.ipynb>data table notebook</a>'\n",
              "          + ' to learn more about interactive tables.';\n",
              "        element.innerHTML = '';\n",
              "        dataTable['output_type'] = 'display_data';\n",
              "        await google.colab.output.renderOutput(dataTable, element);\n",
              "        const docLink = document.createElement('div');\n",
              "        docLink.innerHTML = docLinkHtml;\n",
              "        element.appendChild(docLink);\n",
              "      }\n",
              "    </script>\n",
              "  </div>\n",
              "\n",
              "\n",
              "<div id=\"df-42de3b0d-e380-48c3-a1cd-fd51928b1a05\">\n",
              "  <button class=\"colab-df-quickchart\" onclick=\"quickchart('df-42de3b0d-e380-48c3-a1cd-fd51928b1a05')\"\n",
              "            title=\"Suggest charts\"\n",
              "            style=\"display:none;\">\n",
              "\n",
              "<svg xmlns=\"http://www.w3.org/2000/svg\" height=\"24px\"viewBox=\"0 0 24 24\"\n",
              "     width=\"24px\">\n",
              "    <g>\n",
              "        <path d=\"M19 3H5c-1.1 0-2 .9-2 2v14c0 1.1.9 2 2 2h14c1.1 0 2-.9 2-2V5c0-1.1-.9-2-2-2zM9 17H7v-7h2v7zm4 0h-2V7h2v10zm4 0h-2v-4h2v4z\"/>\n",
              "    </g>\n",
              "</svg>\n",
              "  </button>\n",
              "\n",
              "<style>\n",
              "  .colab-df-quickchart {\n",
              "      --bg-color: #E8F0FE;\n",
              "      --fill-color: #1967D2;\n",
              "      --hover-bg-color: #E2EBFA;\n",
              "      --hover-fill-color: #174EA6;\n",
              "      --disabled-fill-color: #AAA;\n",
              "      --disabled-bg-color: #DDD;\n",
              "  }\n",
              "\n",
              "  [theme=dark] .colab-df-quickchart {\n",
              "      --bg-color: #3B4455;\n",
              "      --fill-color: #D2E3FC;\n",
              "      --hover-bg-color: #434B5C;\n",
              "      --hover-fill-color: #FFFFFF;\n",
              "      --disabled-bg-color: #3B4455;\n",
              "      --disabled-fill-color: #666;\n",
              "  }\n",
              "\n",
              "  .colab-df-quickchart {\n",
              "    background-color: var(--bg-color);\n",
              "    border: none;\n",
              "    border-radius: 50%;\n",
              "    cursor: pointer;\n",
              "    display: none;\n",
              "    fill: var(--fill-color);\n",
              "    height: 32px;\n",
              "    padding: 0;\n",
              "    width: 32px;\n",
              "  }\n",
              "\n",
              "  .colab-df-quickchart:hover {\n",
              "    background-color: var(--hover-bg-color);\n",
              "    box-shadow: 0 1px 2px rgba(60, 64, 67, 0.3), 0 1px 3px 1px rgba(60, 64, 67, 0.15);\n",
              "    fill: var(--button-hover-fill-color);\n",
              "  }\n",
              "\n",
              "  .colab-df-quickchart-complete:disabled,\n",
              "  .colab-df-quickchart-complete:disabled:hover {\n",
              "    background-color: var(--disabled-bg-color);\n",
              "    fill: var(--disabled-fill-color);\n",
              "    box-shadow: none;\n",
              "  }\n",
              "\n",
              "  .colab-df-spinner {\n",
              "    border: 2px solid var(--fill-color);\n",
              "    border-color: transparent;\n",
              "    border-bottom-color: var(--fill-color);\n",
              "    animation:\n",
              "      spin 1s steps(1) infinite;\n",
              "  }\n",
              "\n",
              "  @keyframes spin {\n",
              "    0% {\n",
              "      border-color: transparent;\n",
              "      border-bottom-color: var(--fill-color);\n",
              "      border-left-color: var(--fill-color);\n",
              "    }\n",
              "    20% {\n",
              "      border-color: transparent;\n",
              "      border-left-color: var(--fill-color);\n",
              "      border-top-color: var(--fill-color);\n",
              "    }\n",
              "    30% {\n",
              "      border-color: transparent;\n",
              "      border-left-color: var(--fill-color);\n",
              "      border-top-color: var(--fill-color);\n",
              "      border-right-color: var(--fill-color);\n",
              "    }\n",
              "    40% {\n",
              "      border-color: transparent;\n",
              "      border-right-color: var(--fill-color);\n",
              "      border-top-color: var(--fill-color);\n",
              "    }\n",
              "    60% {\n",
              "      border-color: transparent;\n",
              "      border-right-color: var(--fill-color);\n",
              "    }\n",
              "    80% {\n",
              "      border-color: transparent;\n",
              "      border-right-color: var(--fill-color);\n",
              "      border-bottom-color: var(--fill-color);\n",
              "    }\n",
              "    90% {\n",
              "      border-color: transparent;\n",
              "      border-bottom-color: var(--fill-color);\n",
              "    }\n",
              "  }\n",
              "</style>\n",
              "\n",
              "  <script>\n",
              "    async function quickchart(key) {\n",
              "      const quickchartButtonEl =\n",
              "        document.querySelector('#' + key + ' button');\n",
              "      quickchartButtonEl.disabled = true;  // To prevent multiple clicks.\n",
              "      quickchartButtonEl.classList.add('colab-df-spinner');\n",
              "      try {\n",
              "        const charts = await google.colab.kernel.invokeFunction(\n",
              "            'suggestCharts', [key], {});\n",
              "      } catch (error) {\n",
              "        console.error('Error during call to suggestCharts:', error);\n",
              "      }\n",
              "      quickchartButtonEl.classList.remove('colab-df-spinner');\n",
              "      quickchartButtonEl.classList.add('colab-df-quickchart-complete');\n",
              "    }\n",
              "    (() => {\n",
              "      let quickchartButtonEl =\n",
              "        document.querySelector('#df-42de3b0d-e380-48c3-a1cd-fd51928b1a05 button');\n",
              "      quickchartButtonEl.style.display =\n",
              "        google.colab.kernel.accessAllowed ? 'block' : 'none';\n",
              "    })();\n",
              "  </script>\n",
              "</div>\n",
              "\n",
              "  <div id=\"id_26c7945b-cc8e-4ab4-be7f-5675525977f5\">\n",
              "    <style>\n",
              "      .colab-df-generate {\n",
              "        background-color: #E8F0FE;\n",
              "        border: none;\n",
              "        border-radius: 50%;\n",
              "        cursor: pointer;\n",
              "        display: none;\n",
              "        fill: #1967D2;\n",
              "        height: 32px;\n",
              "        padding: 0 0 0 0;\n",
              "        width: 32px;\n",
              "      }\n",
              "\n",
              "      .colab-df-generate:hover {\n",
              "        background-color: #E2EBFA;\n",
              "        box-shadow: 0px 1px 2px rgba(60, 64, 67, 0.3), 0px 1px 3px 1px rgba(60, 64, 67, 0.15);\n",
              "        fill: #174EA6;\n",
              "      }\n",
              "\n",
              "      [theme=dark] .colab-df-generate {\n",
              "        background-color: #3B4455;\n",
              "        fill: #D2E3FC;\n",
              "      }\n",
              "\n",
              "      [theme=dark] .colab-df-generate:hover {\n",
              "        background-color: #434B5C;\n",
              "        box-shadow: 0px 1px 3px 1px rgba(0, 0, 0, 0.15);\n",
              "        filter: drop-shadow(0px 1px 2px rgba(0, 0, 0, 0.3));\n",
              "        fill: #FFFFFF;\n",
              "      }\n",
              "    </style>\n",
              "    <button class=\"colab-df-generate\" onclick=\"generateWithVariable('df')\"\n",
              "            title=\"Generate code using this dataframe.\"\n",
              "            style=\"display:none;\">\n",
              "\n",
              "  <svg xmlns=\"http://www.w3.org/2000/svg\" height=\"24px\"viewBox=\"0 0 24 24\"\n",
              "       width=\"24px\">\n",
              "    <path d=\"M7,19H8.4L18.45,9,17,7.55,7,17.6ZM5,21V16.75L18.45,3.32a2,2,0,0,1,2.83,0l1.4,1.43a1.91,1.91,0,0,1,.58,1.4,1.91,1.91,0,0,1-.58,1.4L9.25,21ZM18.45,9,17,7.55Zm-12,3A5.31,5.31,0,0,0,4.9,8.1,5.31,5.31,0,0,0,1,6.5,5.31,5.31,0,0,0,4.9,4.9,5.31,5.31,0,0,0,6.5,1,5.31,5.31,0,0,0,8.1,4.9,5.31,5.31,0,0,0,12,6.5,5.46,5.46,0,0,0,6.5,12Z\"/>\n",
              "  </svg>\n",
              "    </button>\n",
              "    <script>\n",
              "      (() => {\n",
              "      const buttonEl =\n",
              "        document.querySelector('#id_26c7945b-cc8e-4ab4-be7f-5675525977f5 button.colab-df-generate');\n",
              "      buttonEl.style.display =\n",
              "        google.colab.kernel.accessAllowed ? 'block' : 'none';\n",
              "\n",
              "      buttonEl.onclick = () => {\n",
              "        google.colab.notebook.generateWithVariable('df');\n",
              "      }\n",
              "      })();\n",
              "    </script>\n",
              "  </div>\n",
              "\n",
              "    </div>\n",
              "  </div>\n"
            ],
            "application/vnd.google.colaboratory.intrinsic+json": {
              "type": "dataframe",
              "variable_name": "df",
              "summary": "{\n  \"name\": \"df\",\n  \"rows\": 6397,\n  \"fields\": [\n    {\n      \"column\": \"Rank\",\n      \"properties\": {\n        \"dtype\": \"string\",\n        \"num_unique_values\": 6031,\n        \"samples\": [\n          \"1430 / 2285\",\n          \"1010 / 2220\",\n          \"648 / 2285\"\n        ],\n        \"semantic_type\": \"\",\n        \"description\": \"\"\n      }\n    },\n    {\n      \"column\": \"Gender Rank\",\n      \"properties\": {\n        \"dtype\": \"string\",\n        \"num_unique_values\": 6028,\n        \"samples\": [\n          \"623 / 1182\",\n          \"358 / 1524\",\n          \"526 / 1182\"\n        ],\n        \"semantic_type\": \"\",\n        \"description\": \"\"\n      }\n    },\n    {\n      \"column\": \"Name\",\n      \"properties\": {\n        \"dtype\": \"category\",\n        \"num_unique_values\": 12,\n        \"samples\": [\n          \"cde359f8-5d73-4426-8ba6-cf021cfddbfc\",\n          \"ee5b6325-c4f3-4122-8247-1818e59912c2\",\n          \"6b848725-e44d-42d8-a278-ae67faa9cb80\"\n        ],\n        \"semantic_type\": \"\",\n        \"description\": \"\"\n      }\n    },\n    {\n      \"column\": \"Gender\",\n      \"properties\": {\n        \"dtype\": \"category\",\n        \"num_unique_values\": 2,\n        \"samples\": [\n          \"Male\",\n          \"Female\"\n        ],\n        \"semantic_type\": \"\",\n        \"description\": \"\"\n      }\n    },\n    {\n      \"column\": \"Category\",\n      \"properties\": {\n        \"dtype\": \"category\",\n        \"num_unique_values\": 6,\n        \"samples\": [\n          \"10KM RUN\",\n          \"4KM FUN RUN\"\n        ],\n        \"semantic_type\": \"\",\n        \"description\": \"\"\n      }\n    },\n    {\n      \"column\": \"Nationality\",\n      \"properties\": {\n        \"dtype\": \"category\",\n        \"num_unique_values\": 85,\n        \"samples\": [\n          \"[img:flags/GM.gif]\",\n          \"[img:flags/SA.gif]\"\n        ],\n        \"semantic_type\": \"\",\n        \"description\": \"\"\n      }\n    },\n    {\n      \"column\": \"Gun_Time\",\n      \"properties\": {\n        \"dtype\": \"string\",\n        \"num_unique_values\": 6216,\n        \"samples\": [\n          \"00:38:58.071\",\n          \"01:25:14.919\"\n        ],\n        \"semantic_type\": \"\",\n        \"description\": \"\"\n      }\n    },\n    {\n      \"column\": \"Chip_Time\",\n      \"properties\": {\n        \"dtype\": \"date\",\n        \"min\": \"2024-04-01 00:12:52.781000\",\n        \"max\": \"2024-04-01 06:14:05.366000\",\n        \"num_unique_values\": 6223,\n        \"samples\": [\n          \"01:11:06.122\",\n          \"01:35:33.671\"\n        ],\n        \"semantic_type\": \"\",\n        \"description\": \"\"\n      }\n    },\n    {\n      \"column\": \"Speed_Km/Hr\",\n      \"properties\": {\n        \"dtype\": \"category\",\n        \"num_unique_values\": 182,\n        \"samples\": [\n          \"10.0 Km/Hr\",\n          \"7.7 Km/Hr\"\n        ],\n        \"semantic_type\": \"\",\n        \"description\": \"\"\n      }\n    },\n    {\n      \"column\": \"Pace_min/km\",\n      \"properties\": {\n        \"dtype\": \"category\",\n        \"num_unique_values\": 817,\n        \"samples\": [\n          \"9:16 min/km\",\n          \"6:19 min/km\"\n        ],\n        \"semantic_type\": \"\",\n        \"description\": \"\"\n      }\n    },\n    {\n      \"column\": \"Distance_KM\",\n      \"properties\": {\n        \"dtype\": \"category\",\n        \"num_unique_values\": 12,\n        \"samples\": [\n          \"40 KM\",\n          \"30 KM\"\n        ],\n        \"semantic_type\": \"\",\n        \"description\": \"\"\n      }\n    }\n  ]\n}"
            }
          },
          "metadata": {},
          "execution_count": 10
        }
      ]
    },
    {
      "cell_type": "code",
      "source": [
        "df['Speed_Km/Hr'] = df['Speed_Km/Hr'].str.replace('Km/Hr', '')\n",
        "df['Pace_min/km'] = df['Pace_min/km'].str.replace('min/km', '')\n",
        "df['Distance_KM'] = df['Distance_KM'].str.replace('KM', '')"
      ],
      "metadata": {
        "id": "vYbml-bc-kHg"
      },
      "execution_count": 11,
      "outputs": []
    },
    {
      "cell_type": "markdown",
      "source": [
        "Removing the string part from the values ,so we can convert it to float dtype"
      ],
      "metadata": {
        "id": "u8Cv2AaTY-gN"
      }
    },
    {
      "cell_type": "code",
      "source": [
        "df.columns"
      ],
      "metadata": {
        "colab": {
          "base_uri": "https://localhost:8080/"
        },
        "id": "Rr3cgZNRH7xw",
        "outputId": "c16e9afd-71f2-42e8-ca4a-8865367815c1"
      },
      "execution_count": 12,
      "outputs": [
        {
          "output_type": "execute_result",
          "data": {
            "text/plain": [
              "Index(['Rank', 'Gender Rank', 'Name', 'Gender', 'Category', 'Nationality',\n",
              "       'Gun_Time', 'Chip_Time', 'Speed_Km/Hr', 'Pace_min/km', 'Distance_KM'],\n",
              "      dtype='object')"
            ]
          },
          "metadata": {},
          "execution_count": 12
        }
      ]
    },
    {
      "cell_type": "markdown",
      "source": [
        "## •\tConvert categorical variables into the appropriate data type if necessary"
      ],
      "metadata": {
        "id": "8TClemcH6HE6"
      }
    },
    {
      "cell_type": "markdown",
      "source": [
        "### Drop name, Gun_time, and Gender Rank columns\n"
      ],
      "metadata": {
        "id": "8bg5-FhyQlKC"
      }
    },
    {
      "cell_type": "code",
      "source": [
        "df.drop(columns=['Gender Rank'], inplace=True)"
      ],
      "metadata": {
        "id": "d3GbiL226UMr"
      },
      "execution_count": 13,
      "outputs": []
    },
    {
      "cell_type": "code",
      "source": [
        "df.drop(columns=['Name'], inplace=True)"
      ],
      "metadata": {
        "id": "smjaLXbiQn2E"
      },
      "execution_count": 14,
      "outputs": []
    },
    {
      "cell_type": "code",
      "source": [
        "df.drop(columns=['Gun_Time'], inplace=True)"
      ],
      "metadata": {
        "id": "rNzszmrf6GJI"
      },
      "execution_count": 15,
      "outputs": []
    },
    {
      "cell_type": "markdown",
      "source": [
        "We drop the \"Name\" column as it contains unique identifiers for participants, which are unnecessary for our analysis.\n",
        "Also the gun time it's similar to chip time."
      ],
      "metadata": {
        "id": "loO4nbHaZUrO"
      }
    },
    {
      "cell_type": "markdown",
      "source": [
        "### replace Gender values"
      ],
      "metadata": {
        "id": "r2wPRqRoaqgS"
      }
    },
    {
      "cell_type": "code",
      "source": [
        "df['Gender']=df['Gender'].replace({'Male':0, 'Female':1})"
      ],
      "metadata": {
        "id": "Iq3L8GNjYz1H"
      },
      "execution_count": 16,
      "outputs": []
    },
    {
      "cell_type": "code",
      "source": [
        "df.Gender.describe()"
      ],
      "metadata": {
        "colab": {
          "base_uri": "https://localhost:8080/"
        },
        "id": "rjmXL-bCCALW",
        "outputId": "c1e52152-8920-48b2-c6db-5b8120a3f61c"
      },
      "execution_count": 17,
      "outputs": [
        {
          "output_type": "execute_result",
          "data": {
            "text/plain": [
              "count    6397.00000\n",
              "mean        0.34141\n",
              "std         0.47422\n",
              "min         0.00000\n",
              "25%         0.00000\n",
              "50%         0.00000\n",
              "75%         1.00000\n",
              "max         1.00000\n",
              "Name: Gender, dtype: float64"
            ]
          },
          "metadata": {},
          "execution_count": 17
        }
      ]
    },
    {
      "cell_type": "code",
      "source": [
        "df.Gender.unique()"
      ],
      "metadata": {
        "colab": {
          "base_uri": "https://localhost:8080/"
        },
        "id": "Faix8Fn4Fsgl",
        "outputId": "7da20c17-e27b-46a4-b466-9f5d7a578ee8"
      },
      "execution_count": 18,
      "outputs": [
        {
          "output_type": "execute_result",
          "data": {
            "text/plain": [
              "array([1, 0])"
            ]
          },
          "metadata": {},
          "execution_count": 18
        }
      ]
    },
    {
      "cell_type": "code",
      "source": [
        "df.Category.describe()"
      ],
      "metadata": {
        "colab": {
          "base_uri": "https://localhost:8080/"
        },
        "id": "84VmAxtU9_R6",
        "outputId": "884d50ce-0f9f-4f3f-c204-8ae5750639f4"
      },
      "execution_count": 19,
      "outputs": [
        {
          "output_type": "execute_result",
          "data": {
            "text/plain": [
              "count         6397\n",
              "unique           6\n",
              "top       10KM RUN\n",
              "freq          2374\n",
              "Name: Category, dtype: object"
            ]
          },
          "metadata": {},
          "execution_count": 19
        }
      ]
    },
    {
      "cell_type": "code",
      "source": [
        "df.Category.unique()"
      ],
      "metadata": {
        "colab": {
          "base_uri": "https://localhost:8080/"
        },
        "id": "ujb_KEHGGIA9",
        "outputId": "4102a711-1028-44a6-a8c3-c39b3827b094"
      },
      "execution_count": 20,
      "outputs": [
        {
          "output_type": "execute_result",
          "data": {
            "text/plain": [
              "array(['10KM RUN', '4KM FUN RUN', 'HALF MARATHON', 'MARATHON',\n",
              "       'MARATHON ELITE', 'HALF MARATHON ELITE'], dtype=object)"
            ]
          },
          "metadata": {},
          "execution_count": 20
        }
      ]
    },
    {
      "cell_type": "markdown",
      "source": [
        "* MARATHON ELITE: This category typically refers to elite or\n",
        "professional runners who compete at a high level in marathon events. These participants often have extensive training and may be sponsored athletes or professionals dedicated to marathon running.\n",
        "\n",
        "* MARATHON: This category generally encompasses all participants in a marathon event, including both elite runners and recreational runners."
      ],
      "metadata": {
        "id": "mXjOVKS0kGnp"
      }
    },
    {
      "cell_type": "code",
      "source": [
        "df.Category.nunique()"
      ],
      "metadata": {
        "id": "AE8n9ZTcDjRe",
        "outputId": "5edb033d-9860-4dfd-cfb4-6062cdf168d6",
        "colab": {
          "base_uri": "https://localhost:8080/"
        }
      },
      "execution_count": 21,
      "outputs": [
        {
          "output_type": "execute_result",
          "data": {
            "text/plain": [
              "6"
            ]
          },
          "metadata": {},
          "execution_count": 21
        }
      ]
    },
    {
      "cell_type": "markdown",
      "source": [
        "### converting Speed_Km/Hr, Distance_KM to folat dtype"
      ],
      "metadata": {
        "id": "N5kjnfpNpx8-"
      }
    },
    {
      "cell_type": "code",
      "source": [
        "df['Speed_Km/Hr']= df['Speed_Km/Hr'].astype(float)\n",
        "df['Distance_KM']= df['Distance_KM'].astype(float)"
      ],
      "metadata": {
        "id": "yOGSKOvEVFWD"
      },
      "execution_count": 22,
      "outputs": []
    },
    {
      "cell_type": "code",
      "source": [
        "print(\"Speed dtype: \",df['Speed_Km/Hr'].dtypes)\n",
        "print(\"Distance dtype: \",df['Distance_KM'].dtypes)"
      ],
      "metadata": {
        "colab": {
          "base_uri": "https://localhost:8080/"
        },
        "id": "05saD7IfW-PF",
        "outputId": "b6d5035b-2dc1-4735-ac8c-18ee0c047bca"
      },
      "execution_count": 23,
      "outputs": [
        {
          "output_type": "stream",
          "name": "stdout",
          "text": [
            "Speed dtype:  float64\n",
            "Distance dtype:  float64\n"
          ]
        }
      ]
    },
    {
      "cell_type": "markdown",
      "source": [
        "## Convert Chip Time to datetime dtype"
      ],
      "metadata": {
        "id": "Lj8XgF6ZmRcd"
      }
    },
    {
      "cell_type": "markdown",
      "source": [
        "Some values in the column contains strings, so I am dropping them."
      ],
      "metadata": {
        "id": "_djlukRyU7X3"
      }
    },
    {
      "cell_type": "code",
      "source": [
        "df['Chip_Time'] = pd.to_datetime(df['Chip_Time'])\n",
        "df['Pace_min/km'] = pd.to_timedelta('00:' + df['Pace_min/km'])\n",
        "df.dtypes"
      ],
      "metadata": {
        "colab": {
          "base_uri": "https://localhost:8080/"
        },
        "id": "bG0ITauMTQGd",
        "outputId": "85df547b-0f5b-450f-9b3b-03640af988d1"
      },
      "execution_count": 24,
      "outputs": [
        {
          "output_type": "execute_result",
          "data": {
            "text/plain": [
              "Rank                    object\n",
              "Gender                   int64\n",
              "Category                object\n",
              "Nationality             object\n",
              "Chip_Time       datetime64[ns]\n",
              "Speed_Km/Hr            float64\n",
              "Pace_min/km    timedelta64[ns]\n",
              "Distance_KM            float64\n",
              "dtype: object"
            ]
          },
          "metadata": {},
          "execution_count": 24
        }
      ]
    },
    {
      "cell_type": "code",
      "source": [
        "df.describe()"
      ],
      "metadata": {
        "colab": {
          "base_uri": "https://localhost:8080/",
          "height": 300
        },
        "id": "7WS0djdZyBh8",
        "outputId": "1251eb79-2aea-46b3-e389-edde8a745341"
      },
      "execution_count": 25,
      "outputs": [
        {
          "output_type": "execute_result",
          "data": {
            "text/plain": [
              "           Gender  Speed_Km/Hr                Pace_min/km  Distance_KM\n",
              "count  6397.00000  6227.000000                       6227  6397.000000\n",
              "mean      0.34141     7.809571  0 days 00:08:32.287457844    12.564671\n",
              "std       0.47422     2.738633  0 days 00:02:58.529805172    10.747732\n",
              "min       0.00000     2.100000            0 days 00:01:48     0.000000\n",
              "25%       0.00000     5.800000            0 days 00:06:26     4.000000\n",
              "50%       0.00000     7.400000            0 days 00:08:00    10.000000\n",
              "75%       1.00000     9.300000            0 days 00:10:12    21.100000\n",
              "max       1.00000    33.100000            0 days 00:27:56    42.200000"
            ],
            "text/html": [
              "\n",
              "  <div id=\"df-6e24085d-2479-4fc1-9085-d91ea4883303\" class=\"colab-df-container\">\n",
              "    <div>\n",
              "<style scoped>\n",
              "    .dataframe tbody tr th:only-of-type {\n",
              "        vertical-align: middle;\n",
              "    }\n",
              "\n",
              "    .dataframe tbody tr th {\n",
              "        vertical-align: top;\n",
              "    }\n",
              "\n",
              "    .dataframe thead th {\n",
              "        text-align: right;\n",
              "    }\n",
              "</style>\n",
              "<table border=\"1\" class=\"dataframe\">\n",
              "  <thead>\n",
              "    <tr style=\"text-align: right;\">\n",
              "      <th></th>\n",
              "      <th>Gender</th>\n",
              "      <th>Speed_Km/Hr</th>\n",
              "      <th>Pace_min/km</th>\n",
              "      <th>Distance_KM</th>\n",
              "    </tr>\n",
              "  </thead>\n",
              "  <tbody>\n",
              "    <tr>\n",
              "      <th>count</th>\n",
              "      <td>6397.00000</td>\n",
              "      <td>6227.000000</td>\n",
              "      <td>6227</td>\n",
              "      <td>6397.000000</td>\n",
              "    </tr>\n",
              "    <tr>\n",
              "      <th>mean</th>\n",
              "      <td>0.34141</td>\n",
              "      <td>7.809571</td>\n",
              "      <td>0 days 00:08:32.287457844</td>\n",
              "      <td>12.564671</td>\n",
              "    </tr>\n",
              "    <tr>\n",
              "      <th>std</th>\n",
              "      <td>0.47422</td>\n",
              "      <td>2.738633</td>\n",
              "      <td>0 days 00:02:58.529805172</td>\n",
              "      <td>10.747732</td>\n",
              "    </tr>\n",
              "    <tr>\n",
              "      <th>min</th>\n",
              "      <td>0.00000</td>\n",
              "      <td>2.100000</td>\n",
              "      <td>0 days 00:01:48</td>\n",
              "      <td>0.000000</td>\n",
              "    </tr>\n",
              "    <tr>\n",
              "      <th>25%</th>\n",
              "      <td>0.00000</td>\n",
              "      <td>5.800000</td>\n",
              "      <td>0 days 00:06:26</td>\n",
              "      <td>4.000000</td>\n",
              "    </tr>\n",
              "    <tr>\n",
              "      <th>50%</th>\n",
              "      <td>0.00000</td>\n",
              "      <td>7.400000</td>\n",
              "      <td>0 days 00:08:00</td>\n",
              "      <td>10.000000</td>\n",
              "    </tr>\n",
              "    <tr>\n",
              "      <th>75%</th>\n",
              "      <td>1.00000</td>\n",
              "      <td>9.300000</td>\n",
              "      <td>0 days 00:10:12</td>\n",
              "      <td>21.100000</td>\n",
              "    </tr>\n",
              "    <tr>\n",
              "      <th>max</th>\n",
              "      <td>1.00000</td>\n",
              "      <td>33.100000</td>\n",
              "      <td>0 days 00:27:56</td>\n",
              "      <td>42.200000</td>\n",
              "    </tr>\n",
              "  </tbody>\n",
              "</table>\n",
              "</div>\n",
              "    <div class=\"colab-df-buttons\">\n",
              "\n",
              "  <div class=\"colab-df-container\">\n",
              "    <button class=\"colab-df-convert\" onclick=\"convertToInteractive('df-6e24085d-2479-4fc1-9085-d91ea4883303')\"\n",
              "            title=\"Convert this dataframe to an interactive table.\"\n",
              "            style=\"display:none;\">\n",
              "\n",
              "  <svg xmlns=\"http://www.w3.org/2000/svg\" height=\"24px\" viewBox=\"0 -960 960 960\">\n",
              "    <path d=\"M120-120v-720h720v720H120Zm60-500h600v-160H180v160Zm220 220h160v-160H400v160Zm0 220h160v-160H400v160ZM180-400h160v-160H180v160Zm440 0h160v-160H620v160ZM180-180h160v-160H180v160Zm440 0h160v-160H620v160Z\"/>\n",
              "  </svg>\n",
              "    </button>\n",
              "\n",
              "  <style>\n",
              "    .colab-df-container {\n",
              "      display:flex;\n",
              "      gap: 12px;\n",
              "    }\n",
              "\n",
              "    .colab-df-convert {\n",
              "      background-color: #E8F0FE;\n",
              "      border: none;\n",
              "      border-radius: 50%;\n",
              "      cursor: pointer;\n",
              "      display: none;\n",
              "      fill: #1967D2;\n",
              "      height: 32px;\n",
              "      padding: 0 0 0 0;\n",
              "      width: 32px;\n",
              "    }\n",
              "\n",
              "    .colab-df-convert:hover {\n",
              "      background-color: #E2EBFA;\n",
              "      box-shadow: 0px 1px 2px rgba(60, 64, 67, 0.3), 0px 1px 3px 1px rgba(60, 64, 67, 0.15);\n",
              "      fill: #174EA6;\n",
              "    }\n",
              "\n",
              "    .colab-df-buttons div {\n",
              "      margin-bottom: 4px;\n",
              "    }\n",
              "\n",
              "    [theme=dark] .colab-df-convert {\n",
              "      background-color: #3B4455;\n",
              "      fill: #D2E3FC;\n",
              "    }\n",
              "\n",
              "    [theme=dark] .colab-df-convert:hover {\n",
              "      background-color: #434B5C;\n",
              "      box-shadow: 0px 1px 3px 1px rgba(0, 0, 0, 0.15);\n",
              "      filter: drop-shadow(0px 1px 2px rgba(0, 0, 0, 0.3));\n",
              "      fill: #FFFFFF;\n",
              "    }\n",
              "  </style>\n",
              "\n",
              "    <script>\n",
              "      const buttonEl =\n",
              "        document.querySelector('#df-6e24085d-2479-4fc1-9085-d91ea4883303 button.colab-df-convert');\n",
              "      buttonEl.style.display =\n",
              "        google.colab.kernel.accessAllowed ? 'block' : 'none';\n",
              "\n",
              "      async function convertToInteractive(key) {\n",
              "        const element = document.querySelector('#df-6e24085d-2479-4fc1-9085-d91ea4883303');\n",
              "        const dataTable =\n",
              "          await google.colab.kernel.invokeFunction('convertToInteractive',\n",
              "                                                    [key], {});\n",
              "        if (!dataTable) return;\n",
              "\n",
              "        const docLinkHtml = 'Like what you see? Visit the ' +\n",
              "          '<a target=\"_blank\" href=https://colab.research.google.com/notebooks/data_table.ipynb>data table notebook</a>'\n",
              "          + ' to learn more about interactive tables.';\n",
              "        element.innerHTML = '';\n",
              "        dataTable['output_type'] = 'display_data';\n",
              "        await google.colab.output.renderOutput(dataTable, element);\n",
              "        const docLink = document.createElement('div');\n",
              "        docLink.innerHTML = docLinkHtml;\n",
              "        element.appendChild(docLink);\n",
              "      }\n",
              "    </script>\n",
              "  </div>\n",
              "\n",
              "\n",
              "<div id=\"df-453bdec4-e8fa-48a8-8cd3-b56612adccf0\">\n",
              "  <button class=\"colab-df-quickchart\" onclick=\"quickchart('df-453bdec4-e8fa-48a8-8cd3-b56612adccf0')\"\n",
              "            title=\"Suggest charts\"\n",
              "            style=\"display:none;\">\n",
              "\n",
              "<svg xmlns=\"http://www.w3.org/2000/svg\" height=\"24px\"viewBox=\"0 0 24 24\"\n",
              "     width=\"24px\">\n",
              "    <g>\n",
              "        <path d=\"M19 3H5c-1.1 0-2 .9-2 2v14c0 1.1.9 2 2 2h14c1.1 0 2-.9 2-2V5c0-1.1-.9-2-2-2zM9 17H7v-7h2v7zm4 0h-2V7h2v10zm4 0h-2v-4h2v4z\"/>\n",
              "    </g>\n",
              "</svg>\n",
              "  </button>\n",
              "\n",
              "<style>\n",
              "  .colab-df-quickchart {\n",
              "      --bg-color: #E8F0FE;\n",
              "      --fill-color: #1967D2;\n",
              "      --hover-bg-color: #E2EBFA;\n",
              "      --hover-fill-color: #174EA6;\n",
              "      --disabled-fill-color: #AAA;\n",
              "      --disabled-bg-color: #DDD;\n",
              "  }\n",
              "\n",
              "  [theme=dark] .colab-df-quickchart {\n",
              "      --bg-color: #3B4455;\n",
              "      --fill-color: #D2E3FC;\n",
              "      --hover-bg-color: #434B5C;\n",
              "      --hover-fill-color: #FFFFFF;\n",
              "      --disabled-bg-color: #3B4455;\n",
              "      --disabled-fill-color: #666;\n",
              "  }\n",
              "\n",
              "  .colab-df-quickchart {\n",
              "    background-color: var(--bg-color);\n",
              "    border: none;\n",
              "    border-radius: 50%;\n",
              "    cursor: pointer;\n",
              "    display: none;\n",
              "    fill: var(--fill-color);\n",
              "    height: 32px;\n",
              "    padding: 0;\n",
              "    width: 32px;\n",
              "  }\n",
              "\n",
              "  .colab-df-quickchart:hover {\n",
              "    background-color: var(--hover-bg-color);\n",
              "    box-shadow: 0 1px 2px rgba(60, 64, 67, 0.3), 0 1px 3px 1px rgba(60, 64, 67, 0.15);\n",
              "    fill: var(--button-hover-fill-color);\n",
              "  }\n",
              "\n",
              "  .colab-df-quickchart-complete:disabled,\n",
              "  .colab-df-quickchart-complete:disabled:hover {\n",
              "    background-color: var(--disabled-bg-color);\n",
              "    fill: var(--disabled-fill-color);\n",
              "    box-shadow: none;\n",
              "  }\n",
              "\n",
              "  .colab-df-spinner {\n",
              "    border: 2px solid var(--fill-color);\n",
              "    border-color: transparent;\n",
              "    border-bottom-color: var(--fill-color);\n",
              "    animation:\n",
              "      spin 1s steps(1) infinite;\n",
              "  }\n",
              "\n",
              "  @keyframes spin {\n",
              "    0% {\n",
              "      border-color: transparent;\n",
              "      border-bottom-color: var(--fill-color);\n",
              "      border-left-color: var(--fill-color);\n",
              "    }\n",
              "    20% {\n",
              "      border-color: transparent;\n",
              "      border-left-color: var(--fill-color);\n",
              "      border-top-color: var(--fill-color);\n",
              "    }\n",
              "    30% {\n",
              "      border-color: transparent;\n",
              "      border-left-color: var(--fill-color);\n",
              "      border-top-color: var(--fill-color);\n",
              "      border-right-color: var(--fill-color);\n",
              "    }\n",
              "    40% {\n",
              "      border-color: transparent;\n",
              "      border-right-color: var(--fill-color);\n",
              "      border-top-color: var(--fill-color);\n",
              "    }\n",
              "    60% {\n",
              "      border-color: transparent;\n",
              "      border-right-color: var(--fill-color);\n",
              "    }\n",
              "    80% {\n",
              "      border-color: transparent;\n",
              "      border-right-color: var(--fill-color);\n",
              "      border-bottom-color: var(--fill-color);\n",
              "    }\n",
              "    90% {\n",
              "      border-color: transparent;\n",
              "      border-bottom-color: var(--fill-color);\n",
              "    }\n",
              "  }\n",
              "</style>\n",
              "\n",
              "  <script>\n",
              "    async function quickchart(key) {\n",
              "      const quickchartButtonEl =\n",
              "        document.querySelector('#' + key + ' button');\n",
              "      quickchartButtonEl.disabled = true;  // To prevent multiple clicks.\n",
              "      quickchartButtonEl.classList.add('colab-df-spinner');\n",
              "      try {\n",
              "        const charts = await google.colab.kernel.invokeFunction(\n",
              "            'suggestCharts', [key], {});\n",
              "      } catch (error) {\n",
              "        console.error('Error during call to suggestCharts:', error);\n",
              "      }\n",
              "      quickchartButtonEl.classList.remove('colab-df-spinner');\n",
              "      quickchartButtonEl.classList.add('colab-df-quickchart-complete');\n",
              "    }\n",
              "    (() => {\n",
              "      let quickchartButtonEl =\n",
              "        document.querySelector('#df-453bdec4-e8fa-48a8-8cd3-b56612adccf0 button');\n",
              "      quickchartButtonEl.style.display =\n",
              "        google.colab.kernel.accessAllowed ? 'block' : 'none';\n",
              "    })();\n",
              "  </script>\n",
              "</div>\n",
              "\n",
              "    </div>\n",
              "  </div>\n"
            ],
            "application/vnd.google.colaboratory.intrinsic+json": {
              "type": "dataframe",
              "summary": "{\n  \"name\": \"df\",\n  \"rows\": 8,\n  \"fields\": [\n    {\n      \"column\": \"Gender\",\n      \"properties\": {\n        \"dtype\": \"number\",\n        \"std\": 2261.538867027347,\n        \"min\": 0.0,\n        \"max\": 6397.0,\n        \"num_unique_values\": 5,\n        \"samples\": [\n          0.3414100359543536,\n          1.0,\n          0.4742197570397148\n        ],\n        \"semantic_type\": \"\",\n        \"description\": \"\"\n      }\n    },\n    {\n      \"column\": \"Speed_Km/Hr\",\n      \"properties\": {\n        \"dtype\": \"number\",\n        \"std\": 2198.1519398740775,\n        \"min\": 2.1,\n        \"max\": 6227.0,\n        \"num_unique_values\": 8,\n        \"samples\": [\n          7.8095712220973175,\n          7.4,\n          6227.0\n        ],\n        \"semantic_type\": \"\",\n        \"description\": \"\"\n      }\n    },\n    {\n      \"column\": \"Pace_min/km\",\n      \"properties\": {\n        \"dtype\": \"string\",\n        \"num_unique_values\": 8,\n        \"samples\": [\n          \"0 days 00:08:32.287457844\",\n          \"0 days 00:08:00\",\n          \"6227\"\n        ],\n        \"semantic_type\": \"\",\n        \"description\": \"\"\n      }\n    },\n    {\n      \"column\": \"Distance_KM\",\n      \"properties\": {\n        \"dtype\": \"number\",\n        \"std\": 2256.636358030926,\n        \"min\": 0.0,\n        \"max\": 6397.0,\n        \"num_unique_values\": 8,\n        \"samples\": [\n          12.564670939502891,\n          10.0,\n          6397.0\n        ],\n        \"semantic_type\": \"\",\n        \"description\": \"\"\n      }\n    }\n  ]\n}"
            }
          },
          "metadata": {},
          "execution_count": 25
        }
      ]
    },
    {
      "cell_type": "markdown",
      "source": [
        "### •\tCheck for and handle any duplicate entries"
      ],
      "metadata": {
        "id": "aNKjGhI1-910"
      }
    },
    {
      "cell_type": "code",
      "source": [
        "df.duplicated().sum()"
      ],
      "metadata": {
        "colab": {
          "base_uri": "https://localhost:8080/"
        },
        "id": "JndvtATCG7hP",
        "outputId": "02d3bfe1-0767-4f8a-ae72-22b566e16e1e"
      },
      "execution_count": 26,
      "outputs": [
        {
          "output_type": "execute_result",
          "data": {
            "text/plain": [
              "94"
            ]
          },
          "metadata": {},
          "execution_count": 26
        }
      ]
    },
    {
      "cell_type": "markdown",
      "source": [
        "We have 94 duplicated values"
      ],
      "metadata": {
        "id": "e9exhTmOgfJZ"
      }
    },
    {
      "cell_type": "code",
      "source": [
        "df.drop_duplicates(inplace=True)"
      ],
      "metadata": {
        "id": "IofmbrIcAU_t"
      },
      "execution_count": 27,
      "outputs": []
    },
    {
      "cell_type": "code",
      "source": [
        "df.duplicated().sum()"
      ],
      "metadata": {
        "colab": {
          "base_uri": "https://localhost:8080/"
        },
        "id": "R8k8C9MtBBlu",
        "outputId": "e810a2e9-1eba-41d7-8ba8-318e0177798a"
      },
      "execution_count": 28,
      "outputs": [
        {
          "output_type": "execute_result",
          "data": {
            "text/plain": [
              "0"
            ]
          },
          "metadata": {},
          "execution_count": 28
        }
      ]
    },
    {
      "cell_type": "markdown",
      "source": [
        "### •\tHandle missing values appropriately"
      ],
      "metadata": {
        "id": "D-lMAsMD_HYE"
      }
    },
    {
      "cell_type": "code",
      "source": [
        "print(\"Total null values in each column :\\n\", df.isnull().sum())\n",
        "print(\"__________________________________________________________\")\n",
        "print(\"Total null values in the df: \", df.isnull().sum().sum())"
      ],
      "metadata": {
        "colab": {
          "base_uri": "https://localhost:8080/"
        },
        "id": "7kUbL2C6-ysT",
        "outputId": "47ece6cf-69db-4e80-db94-8bd11878671d"
      },
      "execution_count": 29,
      "outputs": [
        {
          "output_type": "stream",
          "name": "stdout",
          "text": [
            "Total null values in each column :\n",
            " Rank             0\n",
            "Gender           0\n",
            "Category         0\n",
            "Nationality    306\n",
            "Chip_Time       76\n",
            "Speed_Km/Hr     76\n",
            "Pace_min/km     76\n",
            "Distance_KM      0\n",
            "dtype: int64\n",
            "__________________________________________________________\n",
            "Total null values in the df:  534\n"
          ]
        }
      ]
    },
    {
      "cell_type": "code",
      "source": [
        "df['Nationality'].describe()"
      ],
      "metadata": {
        "colab": {
          "base_uri": "https://localhost:8080/"
        },
        "id": "Ut4dTZLfSjB7",
        "outputId": "ae9d2bf9-37a4-4441-990b-ce1172543618"
      },
      "execution_count": 30,
      "outputs": [
        {
          "output_type": "execute_result",
          "data": {
            "text/plain": [
              "count                   5997\n",
              "unique                    85\n",
              "top       [img:flags/SA.gif]\n",
              "freq                    3367\n",
              "Name: Nationality, dtype: object"
            ]
          },
          "metadata": {},
          "execution_count": 30
        }
      ]
    },
    {
      "cell_type": "code",
      "source": [
        "mode_nationality = '[img:flags/SA.gif]'\n",
        "df['Nationality'].fillna(mode_nationality, inplace=True)"
      ],
      "metadata": {
        "id": "4Y3YP4ggTEx7"
      },
      "execution_count": 31,
      "outputs": []
    },
    {
      "cell_type": "markdown",
      "source": [
        "We fill the NaN values in the Nationality column with the most frequent value which is (Saudi Arabia)."
      ],
      "metadata": {
        "id": "7rTjYfBdpVCb"
      }
    },
    {
      "cell_type": "code",
      "source": [
        "columns_to_fill = ['Chip_Time', 'Speed_Km/Hr', 'Pace_min/km']\n",
        "\n",
        "df[columns_to_fill] = df[columns_to_fill].fillna(method='bfill')"
      ],
      "metadata": {
        "id": "41OiP-P9EAvZ"
      },
      "execution_count": 32,
      "outputs": []
    },
    {
      "cell_type": "code",
      "source": [
        "df.isnull().sum()"
      ],
      "metadata": {
        "colab": {
          "base_uri": "https://localhost:8080/"
        },
        "id": "Yf8FHaT0EIkq",
        "outputId": "156445c0-2914-45d0-f20e-cf7dcfe55bcb"
      },
      "execution_count": 33,
      "outputs": [
        {
          "output_type": "execute_result",
          "data": {
            "text/plain": [
              "Rank           0\n",
              "Gender         0\n",
              "Category       0\n",
              "Nationality    0\n",
              "Chip_Time      0\n",
              "Speed_Km/Hr    0\n",
              "Pace_min/km    0\n",
              "Distance_KM    0\n",
              "dtype: int64"
            ]
          },
          "metadata": {},
          "execution_count": 33
        }
      ]
    },
    {
      "cell_type": "markdown",
      "source": [
        "\n",
        "\n",
        "---\n",
        "\n"
      ],
      "metadata": {
        "id": "PCh7yRNDqa-p"
      }
    },
    {
      "cell_type": "markdown",
      "source": [
        "# EDA"
      ],
      "metadata": {
        "id": "tFpFuJxt3_PS"
      }
    },
    {
      "cell_type": "markdown",
      "source": [
        "## •\tConduct univariate analysis to understand the distribution of individual variables (e.g., listing prices, number of reviews, etc.).\n",
        "\n"
      ],
      "metadata": {
        "id": "wBn_9vV04BHo"
      }
    },
    {
      "cell_type": "code",
      "source": [
        "df['Gender'].value_counts()"
      ],
      "metadata": {
        "colab": {
          "base_uri": "https://localhost:8080/"
        },
        "id": "rEv7wqt0E0cV",
        "outputId": "560cd09a-428b-4693-9202-e04e0ff03398"
      },
      "execution_count": 34,
      "outputs": [
        {
          "output_type": "execute_result",
          "data": {
            "text/plain": [
              "0    4150\n",
              "1    2153\n",
              "Name: Gender, dtype: int64"
            ]
          },
          "metadata": {},
          "execution_count": 34
        }
      ]
    },
    {
      "cell_type": "code",
      "source": [
        "df.groupby(['Gender', 'Category']).size()"
      ],
      "metadata": {
        "colab": {
          "base_uri": "https://localhost:8080/"
        },
        "id": "hMzEZbxGFP4W",
        "outputId": "fb785fd0-3cc0-4496-f02b-b012e56e0877"
      },
      "execution_count": 35,
      "outputs": [
        {
          "output_type": "execute_result",
          "data": {
            "text/plain": [
              "Gender  Category           \n",
              "0       10KM RUN               1574\n",
              "        4KM FUN RUN            1191\n",
              "        HALF MARATHON           935\n",
              "        HALF MARATHON ELITE       3\n",
              "        MARATHON                434\n",
              "        MARATHON ELITE           13\n",
              "1       10KM RUN                792\n",
              "        4KM FUN RUN            1051\n",
              "        HALF MARATHON           229\n",
              "        HALF MARATHON ELITE       3\n",
              "        MARATHON                 69\n",
              "        MARATHON ELITE            9\n",
              "dtype: int64"
            ]
          },
          "metadata": {},
          "execution_count": 35
        }
      ]
    },
    {
      "cell_type": "markdown",
      "source": [
        "For males (gender 0), the top categories by count are: 10KM ,  For females (gender 1), the top categories by count are: 4KM FUN RUN"
      ],
      "metadata": {
        "id": "sMfL2La8Gx4Y"
      }
    },
    {
      "cell_type": "code",
      "source": [
        "top_nationality_male = df[df['Gender'] == 0]['Nationality'].value_counts().idxmax()\n",
        "top_nationality_female = df[df['Gender'] == 1]['Nationality'].value_counts().idxmax()\n",
        "\n",
        "print(\"Top nationality for males:\", top_nationality_male)\n",
        "print(\"Top nationality for females:\", top_nationality_female)\n"
      ],
      "metadata": {
        "colab": {
          "base_uri": "https://localhost:8080/"
        },
        "id": "Vcs77tIYJCma",
        "outputId": "b0046eed-9a05-475b-a25b-fc5c3e75d017"
      },
      "execution_count": 36,
      "outputs": [
        {
          "output_type": "stream",
          "name": "stdout",
          "text": [
            "Top nationality for males: [img:flags/SA.gif]\n",
            "Top nationality for females: [img:flags/SA.gif]\n"
          ]
        }
      ]
    },
    {
      "cell_type": "markdown",
      "source": [
        "* I use idxmax() to find the index corresponding to the maximum count for each gender and retrieve the corresponding nationality.\n",
        "* The top nationality in both male and female are Saudi."
      ],
      "metadata": {
        "id": "KyQcbUOqIRxv"
      }
    },
    {
      "cell_type": "code",
      "source": [
        "df.groupby(['Gender', 'Distance_KM']).size()"
      ],
      "metadata": {
        "colab": {
          "base_uri": "https://localhost:8080/"
        },
        "id": "uxugoYBNIzx1",
        "outputId": "42c57701-3d6b-44d6-922b-d0db2183e393"
      },
      "execution_count": 37,
      "outputs": [
        {
          "output_type": "execute_result",
          "data": {
            "text/plain": [
              "Gender  Distance_KM\n",
              "0       0.0              16\n",
              "        4.0            1182\n",
              "        5.0               6\n",
              "        10.0           1569\n",
              "        15.0              3\n",
              "        20.0              6\n",
              "        21.1            929\n",
              "        25.0              2\n",
              "        30.0              2\n",
              "        35.0             12\n",
              "        40.0              3\n",
              "        42.2            420\n",
              "1       0.0              14\n",
              "        4.0            1043\n",
              "        5.0               1\n",
              "        10.0            787\n",
              "        15.0              1\n",
              "        20.0              2\n",
              "        21.1            229\n",
              "        30.0              3\n",
              "        35.0              1\n",
              "        42.2             72\n",
              "dtype: int64"
            ]
          },
          "metadata": {},
          "execution_count": 37
        }
      ]
    },
    {
      "cell_type": "markdown",
      "source": [
        "The highest distance for males is 10 km, with 25 and 30 km being the minimum.\n",
        "The highest distance for females is 4 km, with 5, 15m and 35 km being the minimum."
      ],
      "metadata": {
        "id": "xV3Ocip7KSzf"
      }
    },
    {
      "cell_type": "code",
      "source": [
        "df['Category'].value_counts()"
      ],
      "metadata": {
        "colab": {
          "base_uri": "https://localhost:8080/"
        },
        "id": "HSis63aoDoSj",
        "outputId": "e118a107-dc16-4a0e-f9b6-0913619e7d8e"
      },
      "execution_count": 38,
      "outputs": [
        {
          "output_type": "execute_result",
          "data": {
            "text/plain": [
              "10KM RUN               2366\n",
              "4KM FUN RUN            2242\n",
              "HALF MARATHON          1164\n",
              "MARATHON                503\n",
              "MARATHON ELITE           22\n",
              "HALF MARATHON ELITE       6\n",
              "Name: Category, dtype: int64"
            ]
          },
          "metadata": {},
          "execution_count": 38
        }
      ]
    },
    {
      "cell_type": "markdown",
      "source": [
        "Based on the provided data, 10KM RUN and 4KM FUN RUN had the highest participation, while MARATHON ELITE and HALF MARATHON ELITE had the lowest participation counts."
      ],
      "metadata": {
        "id": "8NsgkVlxMJd_"
      }
    },
    {
      "cell_type": "code",
      "source": [
        "minutes=df['Chip_Time'].dt.minute\n",
        "\n",
        "# Find maximum and minimum minutes\n",
        "max_minutes = minutes.max()\n",
        "min_minutes = minutes.min()\n",
        "\n",
        "print(\"Maximum minutes in Chip time:\", max_minutes)\n",
        "print(\"Minimum minutes in Chip time:\", min_minutes)"
      ],
      "metadata": {
        "colab": {
          "base_uri": "https://localhost:8080/"
        },
        "id": "3sTX-0a2SFWc",
        "outputId": "0ddc86d7-4aab-4571-febe-837ba0793281"
      },
      "execution_count": 39,
      "outputs": [
        {
          "output_type": "stream",
          "name": "stdout",
          "text": [
            "Maximum minutes in Chip time: 59\n",
            "Minimum minutes in Chip time: 0\n"
          ]
        }
      ]
    },
    {
      "cell_type": "code",
      "source": [
        "df.groupby('Gender')['Speed_Km/Hr'].max()\n"
      ],
      "metadata": {
        "colab": {
          "base_uri": "https://localhost:8080/"
        },
        "id": "qSZJRcbpZWYE",
        "outputId": "ca304c7f-1b0e-4a15-cf99-c0495db6b5b9"
      },
      "execution_count": 40,
      "outputs": [
        {
          "output_type": "execute_result",
          "data": {
            "text/plain": [
              "Gender\n",
              "0    33.1\n",
              "1    20.0\n",
              "Name: Speed_Km/Hr, dtype: float64"
            ]
          },
          "metadata": {},
          "execution_count": 40
        }
      ]
    },
    {
      "cell_type": "markdown",
      "source": [
        "males achieve a maximum speed of 33.1 km/hr and a minimum of 2.2 km/hr"
      ],
      "metadata": {
        "id": "uyDfQx5eaNOt"
      }
    },
    {
      "cell_type": "code",
      "source": [
        "df.groupby('Gender')['Speed_Km/Hr'].min()\n"
      ],
      "metadata": {
        "colab": {
          "base_uri": "https://localhost:8080/"
        },
        "id": "6i4VtGHSYEJl",
        "outputId": "049e8e45-7686-40ff-ac59-59df6c2b82bf"
      },
      "execution_count": 41,
      "outputs": [
        {
          "output_type": "execute_result",
          "data": {
            "text/plain": [
              "Gender\n",
              "0    2.2\n",
              "1    2.1\n",
              "Name: Speed_Km/Hr, dtype: float64"
            ]
          },
          "metadata": {},
          "execution_count": 41
        }
      ]
    },
    {
      "cell_type": "markdown",
      "source": [
        " females reach a maximum of 18.6 km/hr and a minimum of 2.1 km/hr."
      ],
      "metadata": {
        "id": "yAg313zWaOZ_"
      }
    },
    {
      "cell_type": "markdown",
      "source": [
        "## •\tPerform bivariate analysis to explore relationships between variables (e.g., price vs. property type, price vs. neighborhood, etc.).\n",
        "\n"
      ],
      "metadata": {
        "id": "yDG4VEbxA9_5"
      }
    },
    {
      "cell_type": "code",
      "source": [
        "df.corr()"
      ],
      "metadata": {
        "id": "4aPNdoYoMYMO",
        "colab": {
          "base_uri": "https://localhost:8080/",
          "height": 200
        },
        "outputId": "51a9fda3-042c-4de1-93af-28005926b101"
      },
      "execution_count": 42,
      "outputs": [
        {
          "output_type": "stream",
          "name": "stderr",
          "text": [
            "<ipython-input-42-2f6f6606aa2c>:1: FutureWarning: The default value of numeric_only in DataFrame.corr is deprecated. In a future version, it will default to False. Select only valid columns or specify the value of numeric_only to silence this warning.\n",
            "  df.corr()\n"
          ]
        },
        {
          "output_type": "execute_result",
          "data": {
            "text/plain": [
              "               Gender  Speed_Km/Hr  Distance_KM\n",
              "Gender       1.000000    -0.309817    -0.213526\n",
              "Speed_Km/Hr -0.309817     1.000000     0.374771\n",
              "Distance_KM -0.213526     0.374771     1.000000"
            ],
            "text/html": [
              "\n",
              "  <div id=\"df-0bd65fe5-4617-498a-9788-adf73513be92\" class=\"colab-df-container\">\n",
              "    <div>\n",
              "<style scoped>\n",
              "    .dataframe tbody tr th:only-of-type {\n",
              "        vertical-align: middle;\n",
              "    }\n",
              "\n",
              "    .dataframe tbody tr th {\n",
              "        vertical-align: top;\n",
              "    }\n",
              "\n",
              "    .dataframe thead th {\n",
              "        text-align: right;\n",
              "    }\n",
              "</style>\n",
              "<table border=\"1\" class=\"dataframe\">\n",
              "  <thead>\n",
              "    <tr style=\"text-align: right;\">\n",
              "      <th></th>\n",
              "      <th>Gender</th>\n",
              "      <th>Speed_Km/Hr</th>\n",
              "      <th>Distance_KM</th>\n",
              "    </tr>\n",
              "  </thead>\n",
              "  <tbody>\n",
              "    <tr>\n",
              "      <th>Gender</th>\n",
              "      <td>1.000000</td>\n",
              "      <td>-0.309817</td>\n",
              "      <td>-0.213526</td>\n",
              "    </tr>\n",
              "    <tr>\n",
              "      <th>Speed_Km/Hr</th>\n",
              "      <td>-0.309817</td>\n",
              "      <td>1.000000</td>\n",
              "      <td>0.374771</td>\n",
              "    </tr>\n",
              "    <tr>\n",
              "      <th>Distance_KM</th>\n",
              "      <td>-0.213526</td>\n",
              "      <td>0.374771</td>\n",
              "      <td>1.000000</td>\n",
              "    </tr>\n",
              "  </tbody>\n",
              "</table>\n",
              "</div>\n",
              "    <div class=\"colab-df-buttons\">\n",
              "\n",
              "  <div class=\"colab-df-container\">\n",
              "    <button class=\"colab-df-convert\" onclick=\"convertToInteractive('df-0bd65fe5-4617-498a-9788-adf73513be92')\"\n",
              "            title=\"Convert this dataframe to an interactive table.\"\n",
              "            style=\"display:none;\">\n",
              "\n",
              "  <svg xmlns=\"http://www.w3.org/2000/svg\" height=\"24px\" viewBox=\"0 -960 960 960\">\n",
              "    <path d=\"M120-120v-720h720v720H120Zm60-500h600v-160H180v160Zm220 220h160v-160H400v160Zm0 220h160v-160H400v160ZM180-400h160v-160H180v160Zm440 0h160v-160H620v160ZM180-180h160v-160H180v160Zm440 0h160v-160H620v160Z\"/>\n",
              "  </svg>\n",
              "    </button>\n",
              "\n",
              "  <style>\n",
              "    .colab-df-container {\n",
              "      display:flex;\n",
              "      gap: 12px;\n",
              "    }\n",
              "\n",
              "    .colab-df-convert {\n",
              "      background-color: #E8F0FE;\n",
              "      border: none;\n",
              "      border-radius: 50%;\n",
              "      cursor: pointer;\n",
              "      display: none;\n",
              "      fill: #1967D2;\n",
              "      height: 32px;\n",
              "      padding: 0 0 0 0;\n",
              "      width: 32px;\n",
              "    }\n",
              "\n",
              "    .colab-df-convert:hover {\n",
              "      background-color: #E2EBFA;\n",
              "      box-shadow: 0px 1px 2px rgba(60, 64, 67, 0.3), 0px 1px 3px 1px rgba(60, 64, 67, 0.15);\n",
              "      fill: #174EA6;\n",
              "    }\n",
              "\n",
              "    .colab-df-buttons div {\n",
              "      margin-bottom: 4px;\n",
              "    }\n",
              "\n",
              "    [theme=dark] .colab-df-convert {\n",
              "      background-color: #3B4455;\n",
              "      fill: #D2E3FC;\n",
              "    }\n",
              "\n",
              "    [theme=dark] .colab-df-convert:hover {\n",
              "      background-color: #434B5C;\n",
              "      box-shadow: 0px 1px 3px 1px rgba(0, 0, 0, 0.15);\n",
              "      filter: drop-shadow(0px 1px 2px rgba(0, 0, 0, 0.3));\n",
              "      fill: #FFFFFF;\n",
              "    }\n",
              "  </style>\n",
              "\n",
              "    <script>\n",
              "      const buttonEl =\n",
              "        document.querySelector('#df-0bd65fe5-4617-498a-9788-adf73513be92 button.colab-df-convert');\n",
              "      buttonEl.style.display =\n",
              "        google.colab.kernel.accessAllowed ? 'block' : 'none';\n",
              "\n",
              "      async function convertToInteractive(key) {\n",
              "        const element = document.querySelector('#df-0bd65fe5-4617-498a-9788-adf73513be92');\n",
              "        const dataTable =\n",
              "          await google.colab.kernel.invokeFunction('convertToInteractive',\n",
              "                                                    [key], {});\n",
              "        if (!dataTable) return;\n",
              "\n",
              "        const docLinkHtml = 'Like what you see? Visit the ' +\n",
              "          '<a target=\"_blank\" href=https://colab.research.google.com/notebooks/data_table.ipynb>data table notebook</a>'\n",
              "          + ' to learn more about interactive tables.';\n",
              "        element.innerHTML = '';\n",
              "        dataTable['output_type'] = 'display_data';\n",
              "        await google.colab.output.renderOutput(dataTable, element);\n",
              "        const docLink = document.createElement('div');\n",
              "        docLink.innerHTML = docLinkHtml;\n",
              "        element.appendChild(docLink);\n",
              "      }\n",
              "    </script>\n",
              "  </div>\n",
              "\n",
              "\n",
              "<div id=\"df-66a54de5-fad3-41f2-ac69-76fec9eb15db\">\n",
              "  <button class=\"colab-df-quickchart\" onclick=\"quickchart('df-66a54de5-fad3-41f2-ac69-76fec9eb15db')\"\n",
              "            title=\"Suggest charts\"\n",
              "            style=\"display:none;\">\n",
              "\n",
              "<svg xmlns=\"http://www.w3.org/2000/svg\" height=\"24px\"viewBox=\"0 0 24 24\"\n",
              "     width=\"24px\">\n",
              "    <g>\n",
              "        <path d=\"M19 3H5c-1.1 0-2 .9-2 2v14c0 1.1.9 2 2 2h14c1.1 0 2-.9 2-2V5c0-1.1-.9-2-2-2zM9 17H7v-7h2v7zm4 0h-2V7h2v10zm4 0h-2v-4h2v4z\"/>\n",
              "    </g>\n",
              "</svg>\n",
              "  </button>\n",
              "\n",
              "<style>\n",
              "  .colab-df-quickchart {\n",
              "      --bg-color: #E8F0FE;\n",
              "      --fill-color: #1967D2;\n",
              "      --hover-bg-color: #E2EBFA;\n",
              "      --hover-fill-color: #174EA6;\n",
              "      --disabled-fill-color: #AAA;\n",
              "      --disabled-bg-color: #DDD;\n",
              "  }\n",
              "\n",
              "  [theme=dark] .colab-df-quickchart {\n",
              "      --bg-color: #3B4455;\n",
              "      --fill-color: #D2E3FC;\n",
              "      --hover-bg-color: #434B5C;\n",
              "      --hover-fill-color: #FFFFFF;\n",
              "      --disabled-bg-color: #3B4455;\n",
              "      --disabled-fill-color: #666;\n",
              "  }\n",
              "\n",
              "  .colab-df-quickchart {\n",
              "    background-color: var(--bg-color);\n",
              "    border: none;\n",
              "    border-radius: 50%;\n",
              "    cursor: pointer;\n",
              "    display: none;\n",
              "    fill: var(--fill-color);\n",
              "    height: 32px;\n",
              "    padding: 0;\n",
              "    width: 32px;\n",
              "  }\n",
              "\n",
              "  .colab-df-quickchart:hover {\n",
              "    background-color: var(--hover-bg-color);\n",
              "    box-shadow: 0 1px 2px rgba(60, 64, 67, 0.3), 0 1px 3px 1px rgba(60, 64, 67, 0.15);\n",
              "    fill: var(--button-hover-fill-color);\n",
              "  }\n",
              "\n",
              "  .colab-df-quickchart-complete:disabled,\n",
              "  .colab-df-quickchart-complete:disabled:hover {\n",
              "    background-color: var(--disabled-bg-color);\n",
              "    fill: var(--disabled-fill-color);\n",
              "    box-shadow: none;\n",
              "  }\n",
              "\n",
              "  .colab-df-spinner {\n",
              "    border: 2px solid var(--fill-color);\n",
              "    border-color: transparent;\n",
              "    border-bottom-color: var(--fill-color);\n",
              "    animation:\n",
              "      spin 1s steps(1) infinite;\n",
              "  }\n",
              "\n",
              "  @keyframes spin {\n",
              "    0% {\n",
              "      border-color: transparent;\n",
              "      border-bottom-color: var(--fill-color);\n",
              "      border-left-color: var(--fill-color);\n",
              "    }\n",
              "    20% {\n",
              "      border-color: transparent;\n",
              "      border-left-color: var(--fill-color);\n",
              "      border-top-color: var(--fill-color);\n",
              "    }\n",
              "    30% {\n",
              "      border-color: transparent;\n",
              "      border-left-color: var(--fill-color);\n",
              "      border-top-color: var(--fill-color);\n",
              "      border-right-color: var(--fill-color);\n",
              "    }\n",
              "    40% {\n",
              "      border-color: transparent;\n",
              "      border-right-color: var(--fill-color);\n",
              "      border-top-color: var(--fill-color);\n",
              "    }\n",
              "    60% {\n",
              "      border-color: transparent;\n",
              "      border-right-color: var(--fill-color);\n",
              "    }\n",
              "    80% {\n",
              "      border-color: transparent;\n",
              "      border-right-color: var(--fill-color);\n",
              "      border-bottom-color: var(--fill-color);\n",
              "    }\n",
              "    90% {\n",
              "      border-color: transparent;\n",
              "      border-bottom-color: var(--fill-color);\n",
              "    }\n",
              "  }\n",
              "</style>\n",
              "\n",
              "  <script>\n",
              "    async function quickchart(key) {\n",
              "      const quickchartButtonEl =\n",
              "        document.querySelector('#' + key + ' button');\n",
              "      quickchartButtonEl.disabled = true;  // To prevent multiple clicks.\n",
              "      quickchartButtonEl.classList.add('colab-df-spinner');\n",
              "      try {\n",
              "        const charts = await google.colab.kernel.invokeFunction(\n",
              "            'suggestCharts', [key], {});\n",
              "      } catch (error) {\n",
              "        console.error('Error during call to suggestCharts:', error);\n",
              "      }\n",
              "      quickchartButtonEl.classList.remove('colab-df-spinner');\n",
              "      quickchartButtonEl.classList.add('colab-df-quickchart-complete');\n",
              "    }\n",
              "    (() => {\n",
              "      let quickchartButtonEl =\n",
              "        document.querySelector('#df-66a54de5-fad3-41f2-ac69-76fec9eb15db button');\n",
              "      quickchartButtonEl.style.display =\n",
              "        google.colab.kernel.accessAllowed ? 'block' : 'none';\n",
              "    })();\n",
              "  </script>\n",
              "</div>\n",
              "\n",
              "    </div>\n",
              "  </div>\n"
            ],
            "application/vnd.google.colaboratory.intrinsic+json": {
              "type": "dataframe",
              "summary": "{\n  \"name\": \"df\",\n  \"rows\": 3,\n  \"fields\": [\n    {\n      \"column\": \"Gender\",\n      \"properties\": {\n        \"dtype\": \"number\",\n        \"std\": 0.7300156251497736,\n        \"min\": -0.3098170395952422,\n        \"max\": 1.0,\n        \"num_unique_values\": 3,\n        \"samples\": [\n          1.0,\n          -0.3098170395952422,\n          -0.21352550036472756\n        ],\n        \"semantic_type\": \"\",\n        \"description\": \"\"\n      }\n    },\n    {\n      \"column\": \"Speed_Km/Hr\",\n      \"properties\": {\n        \"dtype\": \"number\",\n        \"std\": 0.6551326467710913,\n        \"min\": -0.3098170395952422,\n        \"max\": 1.0,\n        \"num_unique_values\": 3,\n        \"samples\": [\n          -0.3098170395952422,\n          1.0,\n          0.37477054159847467\n        ],\n        \"semantic_type\": \"\",\n        \"description\": \"\"\n      }\n    },\n    {\n      \"column\": \"Distance_KM\",\n      \"properties\": {\n        \"dtype\": \"number\",\n        \"std\": 0.6068564147415895,\n        \"min\": -0.21352550036472756,\n        \"max\": 1.0,\n        \"num_unique_values\": 3,\n        \"samples\": [\n          -0.21352550036472756,\n          0.37477054159847467,\n          1.0\n        ],\n        \"semantic_type\": \"\",\n        \"description\": \"\"\n      }\n    }\n  ]\n}"
            }
          },
          "metadata": {},
          "execution_count": 42
        }
      ]
    },
    {
      "cell_type": "markdown",
      "source": [
        " Increase in speed corresponds to an increase in distance, indicating a positive relationship between speed and distance. Furthermore, it implies a negative correlation between gender, speed, and distance."
      ],
      "metadata": {
        "id": "2S-g7-m3biLY"
      }
    },
    {
      "cell_type": "code",
      "source": [
        "sns.heatmap(df.corr(),annot=True);"
      ],
      "metadata": {
        "colab": {
          "base_uri": "https://localhost:8080/",
          "height": 491
        },
        "id": "sETsVKk14LRN",
        "outputId": "aaf1cf0b-c8e7-498a-8df5-6310b6c486c8"
      },
      "execution_count": 43,
      "outputs": [
        {
          "output_type": "stream",
          "name": "stderr",
          "text": [
            "<ipython-input-43-db93604bff16>:1: FutureWarning: The default value of numeric_only in DataFrame.corr is deprecated. In a future version, it will default to False. Select only valid columns or specify the value of numeric_only to silence this warning.\n",
            "  sns.heatmap(df.corr(),annot=True);\n"
          ]
        },
        {
          "output_type": "display_data",
          "data": {
            "text/plain": [
              "<Figure size 640x480 with 2 Axes>"
            ],
            "image/png": "[encoded data removed]"
          },
          "metadata": {}
        }
      ]
    },
    {
      "cell_type": "markdown",
      "source": [
        "There is a positive relationship between Distance and Speed."
      ],
      "metadata": {
        "id": "ZU4MVVf__jRT"
      }
    },
    {
      "cell_type": "markdown",
      "source": [
        "## •\tVisualize the data using appropriate plots (e.g., histograms, box plots, scatter plots, etc.).\n"
      ],
      "metadata": {
        "id": "unrKc715BBd_"
      }
    },
    {
      "cell_type": "code",
      "source": [
        "# Jittered scatter plot\n",
        "plt.figure(figsize=(7, 5))\n",
        "sns.stripplot(x='Distance_KM', y='Speed_Km/Hr', data=df, jitter=0.1, size=5, alpha=0.6)\n",
        "plt.title('Plot of Speed vs. Distance')\n",
        "plt.xlabel('Distance (KM)')\n",
        "plt.ylabel('Speed (Km/Hr)')"
      ],
      "metadata": {
        "colab": {
          "base_uri": "https://localhost:8080/",
          "height": 505
        },
        "id": "Ve8pVYCLkxb8",
        "outputId": "0046a1ff-6208-48d8-9fd6-1ad3b73cf319"
      },
      "execution_count": 44,
      "outputs": [
        {
          "output_type": "execute_result",
          "data": {
            "text/plain": [
              "Text(0, 0.5, 'Speed (Km/Hr)')"
            ]
          },
          "metadata": {},
          "execution_count": 44
        },
        {
          "output_type": "display_data",
          "data": {
            "text/plain": [
              "<Figure size 700x500 with 1 Axes>"
            ],
            "image/png": "[encoded data removed]"
          },
          "metadata": {}
        }
      ]
    },
    {
      "cell_type": "markdown",
      "source": [
        "The plot illustrates varied runner speeds at key race distances, highlighting faster, concentrated paces at shorter races and a broader spread of speeds in marathons."
      ],
      "metadata": {
        "id": "T_3-Zlw7p6D1"
      }
    },
    {
      "cell_type": "code",
      "source": [
        "sns.histplot(data=df, x='Gender', shrink=0.6)\n",
        "plt.title('Speed Distribution by Gender')\n",
        "plt.xlabel('Gender')\n",
        "plt.ylabel('Count')\n",
        "plt.show()"
      ],
      "metadata": {
        "id": "SLrMxMj3BeH1",
        "colab": {
          "base_uri": "https://localhost:8080/",
          "height": 472
        },
        "outputId": "be3f2877-d807-4535-8cae-c3a7118322b0"
      },
      "execution_count": 45,
      "outputs": [
        {
          "output_type": "display_data",
          "data": {
            "text/plain": [
              "<Figure size 640x480 with 1 Axes>"
            ],
            "image/png": "[encoded data removed]"
          },
          "metadata": {}
        }
      ]
    },
    {
      "cell_type": "code",
      "source": [
        "df.hist(['Distance_KM'], grid= False);"
      ],
      "metadata": {
        "id": "cnL4-usyuFyA",
        "colab": {
          "base_uri": "https://localhost:8080/",
          "height": 452
        },
        "outputId": "7ad67ff5-538c-407c-e5ce-9d1f0ca254b4"
      },
      "execution_count": 46,
      "outputs": [
        {
          "output_type": "display_data",
          "data": {
            "text/plain": [
              "<Figure size 640x480 with 1 Axes>"
            ],
            "image/png": "[encoded data removed]"
          },
          "metadata": {}
        }
      ]
    },
    {
      "cell_type": "code",
      "source": [
        "df.hist(['Speed_Km/Hr'], grid= False)"
      ],
      "metadata": {
        "id": "UOYwJ5oNt7Q2",
        "colab": {
          "base_uri": "https://localhost:8080/",
          "height": 470
        },
        "outputId": "3a9cb013-4475-4b1a-f02d-26f51616ddd2"
      },
      "execution_count": 47,
      "outputs": [
        {
          "output_type": "execute_result",
          "data": {
            "text/plain": [
              "array([[<Axes: title={'center': 'Speed_Km/Hr'}>]], dtype=object)"
            ]
          },
          "metadata": {},
          "execution_count": 47
        },
        {
          "output_type": "display_data",
          "data": {
            "text/plain": [
              "<Figure size 640x480 with 1 Axes>"
            ],
            "image/png": "[encoded data removed]"
          },
          "metadata": {}
        }
      ]
    },
    {
      "cell_type": "code",
      "source": [
        "df['Gender'] = df['Gender'].replace({0: 'Male', 1: 'Female'})\n",
        "\n",
        "sns.boxplot(x='Gender', y='Speed_Km/Hr', data=df )\n",
        "plt.title('Speed Distribution by Gender')\n",
        "plt.xlabel('Gender')\n",
        "plt.ylabel('Speed (Km/Hr)')"
      ],
      "metadata": {
        "id": "UPAuLABfvAU6",
        "colab": {
          "base_uri": "https://localhost:8080/",
          "height": 490
        },
        "outputId": "00f6e313-6dcd-4d22-f4fe-b35f6c4db466"
      },
      "execution_count": 54,
      "outputs": [
        {
          "output_type": "execute_result",
          "data": {
            "text/plain": [
              "Text(0, 0.5, 'Speed (Km/Hr)')"
            ]
          },
          "metadata": {},
          "execution_count": 54
        },
        {
          "output_type": "display_data",
          "data": {
            "text/plain": [
              "<Figure size 640x480 with 1 Axes>"
            ],
            "image/png": "[encoded data removed]"
          },
          "metadata": {}
        }
      ]
    },
    {
      "cell_type": "code",
      "source": [
        "sns.boxplot(x='Category', y='Speed_Km/Hr', data=df)\n",
        "plt.xticks(rotation=45)\n",
        "plt.title('Performance by Category')\n",
        "plt.xlabel('Category')\n",
        "plt.ylabel('Speed (Km/Hr)')"
      ],
      "metadata": {
        "id": "a0VawWesxNWY",
        "colab": {
          "base_uri": "https://localhost:8080/",
          "height": 600
        },
        "outputId": "eada5ac9-69aa-4bcc-e523-df9a0d17e069"
      },
      "execution_count": 55,
      "outputs": [
        {
          "output_type": "execute_result",
          "data": {
            "text/plain": [
              "Text(0, 0.5, 'Speed (Km/Hr)')"
            ]
          },
          "metadata": {},
          "execution_count": 55
        },
        {
          "output_type": "display_data",
          "data": {
            "text/plain": [
              "<Figure size 640x480 with 1 Axes>"
            ],
            "image/png": "[encoded data removed]"
          },
          "metadata": {}
        }
      ]
    },
    {
      "cell_type": "code",
      "source": [
        "top_nationalities = df['Nationality'].value_counts().head(5)\n",
        "\n",
        "sns.barplot(x=top_nationalities.index, y=top_nationalities.values)\n",
        "plt.xticks(rotation=45)\n",
        "plt.title('Top 10 Nationalities Representation')\n",
        "plt.xlabel('Nationality')\n",
        "plt.ylabel('Number of Participants')"
      ],
      "metadata": {
        "id": "5BNULPzRxv-L",
        "colab": {
          "base_uri": "https://localhost:8080/",
          "height": 572
        },
        "outputId": "7fae420a-5825-4aaf-f8ec-461ee04ecff1"
      },
      "execution_count": 50,
      "outputs": [
        {
          "output_type": "execute_result",
          "data": {
            "text/plain": [
              "Text(0, 0.5, 'Number of Participants')"
            ]
          },
          "metadata": {},
          "execution_count": 50
        },
        {
          "output_type": "display_data",
          "data": {
            "text/plain": [
              "<Figure size 640x480 with 1 Axes>"
            ],
            "image/png": "[encoded data removed]"
          },
          "metadata": {}
        }
      ]
    },
    {
      "cell_type": "code",
      "source": [
        "df['Category'].value_counts().plot(xlabel= 'Runners', kind='barh')"
      ],
      "metadata": {
        "id": "cD_-iI__icvv",
        "colab": {
          "base_uri": "https://localhost:8080/",
          "height": 467
        },
        "outputId": "ac900a12-d0b0-4dd6-ca47-5558c0a0d934"
      },
      "execution_count": 51,
      "outputs": [
        {
          "output_type": "execute_result",
          "data": {
            "text/plain": [
              "<Axes: xlabel='Runners'>"
            ]
          },
          "metadata": {},
          "execution_count": 51
        },
        {
          "output_type": "display_data",
          "data": {
            "text/plain": [
              "<Figure size 640x480 with 1 Axes>"
            ],
            "image/png": "[encoded data removed]"
          },
          "metadata": {}
        }
      ]
    },
    {
      "cell_type": "code",
      "source": [
        "import numpy as np\n",
        "categories = df['Category'].unique()\n",
        "\n",
        "for category in categories:\n",
        "    x = df[df['Category'] == category]\n",
        "    gender_labels, gender_counts = np.unique(x['Gender'], return_counts=True)\n",
        "\n",
        "    plt.figure(figsize=(5,5))\n",
        "    plt.pie(gender_counts, labels=gender_labels, autopct='%.2f%%')\n",
        "    plt.title(category)\n",
        "    plt.show()"
      ],
      "metadata": {
        "id": "JnakSjUrGFtq",
        "colab": {
          "base_uri": "https://localhost:8080/",
          "height": 1000
        },
        "outputId": "f6fd5190-755a-4b99-c5ed-d2043efb1457"
      },
      "execution_count": 52,
      "outputs": [
        {
          "output_type": "display_data",
          "data": {
            "text/plain": [
              "<Figure size 500x500 with 1 Axes>"
            ],
            "image/png": "[encoded data removed]"
          },
          "metadata": {}
        },
        {
          "output_type": "display_data",
          "data": {
            "text/plain": [
              "<Figure size 500x500 with 1 Axes>"
            ],
            "image/png": "[encoded data removed]"
          },
          "metadata": {}
        },
        {
          "output_type": "display_data",
          "data": {
            "text/plain": [
              "<Figure size 500x500 with 1 Axes>"
            ],
            "image/png": "[encoded data removed]"
          },
          "metadata": {}
        },
        {
          "output_type": "display_data",
          "data": {
            "text/plain": [
              "<Figure size 500x500 with 1 Axes>"
            ],
            "image/png": "[encoded data removed]"
          },
          "metadata": {}
        },
        {
          "output_type": "display_data",
          "data": {
            "text/plain": [
              "<Figure size 500x500 with 1 Axes>"
            ],
            "image/png": "[encoded data removed]"
          },
          "metadata": {}
        },
        {
          "output_type": "display_data",
          "data": {
            "text/plain": [
              "<Figure size 500x500 with 1 Axes>"
            ],
            "image/png": "[encoded data removed]"
          },
          "metadata": {}
        }
      ]
    },
    {
      "cell_type": "markdown",
      "source": [
        "# Feature Engineering"
      ],
      "metadata": {
        "id": "fOdohjBFZArN"
      }
    },
    {
      "cell_type": "markdown",
      "source": [
        "## •\tCreate new features that might be useful for analysis (e.g., average rating, occupancy rate, etc.)."
      ],
      "metadata": {
        "id": "UNyiPkS1ZD9x"
      }
    },
    {
      "cell_type": "code",
      "source": [
        "df['Nationality_Rank'] = df.groupby('Nationality')['Rank'].rank()\n",
        "print(df.head())"
      ],
      "metadata": {
        "id": "AM4n1AsIbZHF",
        "colab": {
          "base_uri": "https://localhost:8080/"
        },
        "outputId": "d3d1c492-281a-412b-b4ed-43a7979a7f42"
      },
      "execution_count": 53,
      "outputs": [
        {
          "output_type": "stream",
          "name": "stdout",
          "text": [
            "        Rank  Gender  Category         Nationality               Chip_Time  \\\n",
            "0  46 / 2285  Female  10KM RUN  [img:flags/SA.gif] 2024-04-01 00:42:57.505   \n",
            "1  53 / 2285  Female  10KM RUN  [img:flags/CZ.gif] 2024-04-01 00:43:24.774   \n",
            "2  55 / 2285  Female  10KM RUN  [img:flags/SA.gif] 2024-04-01 00:43:56.317   \n",
            "3  88 / 2285  Female  10KM RUN  [img:flags/MA.gif] 2024-04-01 00:48:22.908   \n",
            "4  93 / 2285  Female  10KM RUN  [img:flags/SA.gif] 2024-04-01 00:48:27.714   \n",
            "\n",
            "   Speed_Km/Hr     Pace_min/km  Distance_KM  Nationality_Rank  \n",
            "0         13.9 0 days 00:04:17         10.0            2549.0  \n",
            "1         13.8 0 days 00:04:20         10.0               4.0  \n",
            "2         13.6 0 days 00:04:23         10.0            2738.0  \n",
            "3         12.4 0 days 00:04:50         10.0              20.0  \n",
            "4         12.3 0 days 00:04:50         10.0            3529.0  \n"
          ]
        }
      ]
    },
    {
      "cell_type": "markdown",
      "source": [
        "The \"Nationality_Rank\" feature ranks participants within their nationality group.Lower values signify better performance, indicating a higher position within the group."
      ],
      "metadata": {
        "id": "rzMwTFcghof3"
      }
    },
    {
      "cell_type": "markdown",
      "source": [
        "# Conclusion"
      ],
      "metadata": {
        "id": "fsx0AoteuX88"
      }
    },
    {
      "cell_type": "markdown",
      "source": [
        "## •\tSummarize the findings from the exploratory data analysis."
      ],
      "metadata": {
        "id": "S-o68afOt9MQ"
      }
    },
    {
      "cell_type": "markdown",
      "source": [
        "* The dataset includes 6303 runners and contains details about race rankings, gender, category, nationality, timing, speed, and distance.\n",
        "\n",
        "* Data cleaning involved renaming columns for consistency and converting data into appropriate formats, such as float for speed and distance, and datetime for race times.\n",
        "\n",
        "* Males primarily participated in the \"10KM RUN\", while females were more inclined toward the \"4KM FUN RUN\".\n",
        "\n",
        "* The majority of runners, regardless of gender, are of Saudi nationality.\n",
        "\n",
        "* The \"10KM RUN\" is the most popular distance, attracting the highest number of runners.\n",
        "\n",
        "* Speed and distance show a moderate positive correlation, suggesting a certain relationship between the two variables."
      ],
      "metadata": {
        "id": "0Ba4zIauuDeB"
      }
    },
    {
      "cell_type": "markdown",
      "source": [
        "## •\tDiscuss any insights or patterns observed in the data."
      ],
      "metadata": {
        "id": "Q62dNauquGGw"
      }
    },
    {
      "cell_type": "markdown",
      "source": [
        "* Female participation is notably high in the \"4KM FUN RUN\", possibly indicating that shorter events are more attractive to female runners.\n",
        "\n",
        "* The positive correlation between speed and distance may reflect that longer races attract more dedicated or professional runners capable of maintaining higher speeds, or that the race strategy differs significantly between short and long distances."
      ],
      "metadata": {
        "id": "yHRHINhLue51"
      }
    },
    {
      "cell_type": "markdown",
      "source": [
        "## Recommendations based on the analysis conducted."
      ],
      "metadata": {
        "id": "IU1-6Vm8u1eR"
      }
    },
    {
      "cell_type": "markdown",
      "source": [
        "* Additional data collection on runner training habits, health metrics, and previous race participation could enhance the understanding of the factors influencing speed and distance correlation."
      ],
      "metadata": {
        "id": "7Anfytb0u5di"
      }
    }
  ]
}